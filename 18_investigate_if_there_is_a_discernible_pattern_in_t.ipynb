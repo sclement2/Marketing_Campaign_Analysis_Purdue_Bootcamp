{
 "cells": [
  {
   "cell_type": "markdown",
   "id": "af267d3c",
   "metadata": {},
   "source": [
    "# Additional Visualizations\n",
    "Section: d. Investigate if there is a discernible pattern in the number of children at home and the total expenditure.\n",
    "\n",
    "**Part of:** [marketing_campaign_082825_working.ipynb](./marketing_campaign_082825_working.ipynb)"
   ]
  },
  {
   "cell_type": "code",
   "execution_count": null,
   "id": "bf7d7f8e",
   "metadata": {
    "execution": {
     "iopub.execute_input": "2025-09-06T21:13:59.364440Z",
     "iopub.status.busy": "2025-09-06T21:13:59.364440Z",
     "iopub.status.idle": "2025-09-06T21:14:01.044890Z",
     "shell.execute_reply": "2025-09-06T21:14:01.043887Z"
    }
   },
   "outputs": [],
   "source": [
    "# Setup and data loading\n",
    "from utils import ProjectConfig, load_intermediate_results, save_project_figure, reset_plot_settings\n",
    "import numpy as np\n",
    "import seaborn as sns\n",
    "import matplotlib.pyplot as plt\n",
    "import warnings\n",
    "\n",
    "warnings.filterwarnings(\"ignore\")\n",
    "\n",
    "config = ProjectConfig()\n",
    "# Load data from previous notebook\n",
    "df = load_intermediate_results(\"data_from_08_step_6.pkl\", config)\n"
   ]
  },
  {
   "cell_type": "markdown",
   "id": "c29dbcc1",
   "metadata": {
    "id": "P8EcwI0umiyt"
   },
   "source": [
    "## d. Investigate if there is a discernible pattern in the number of children at home and the total expenditure."
   ]
  },
  {
   "cell_type": "code",
   "execution_count": null,
   "id": "6cb8d462",
   "metadata": {
    "colab": {
     "base_uri": "https://localhost:8080/"
    },
    "execution": {
     "iopub.execute_input": "2025-09-06T21:14:01.046888Z",
     "iopub.status.busy": "2025-09-06T21:14:01.046888Z",
     "iopub.status.idle": "2025-09-06T21:14:01.136788Z",
     "shell.execute_reply": "2025-09-06T21:14:01.135788Z"
    },
    "executionInfo": {
     "elapsed": 47,
     "status": "ok",
     "timestamp": 1756043837995,
     "user": {
      "displayName": "Scott Clement",
      "userId": "09077177954652264696"
     },
     "user_tz": 420
    },
    "id": "5MK9bZHbrCfH",
    "outputId": "6abaab3a-7b31-4aae-9c4a-7506c4f85914"
   },
   "outputs": [],
   "source": [
    "# Children at Home vs Total Expenditure Analysis\n",
    "# Investigating patterns between household children count and spending behavior\n",
    "\n",
    "# Examine the data\n",
    "print(\"CHILDREN AT HOME vs TOTAL EXPENDITURE ANALYSIS\")\n",
    "print(\"=\" * 60)\n",
    "\n",
    "# print(f\"Dataset Shape: {df.shape}\")\n",
    "print(f\"Total Records: {len(df)}\")\n",
    "\n",
    "# Data summaries\n",
    "print(\"\\nDATA SUMMARIZATION\")\n",
    "print(\"-\" * 30)\n",
    "\n",
    "print(f\"Children count range: {df['Total_Children'].min()} to {df['Total_Children'].max()}\")\n",
    "print(f\"Expenditure range: ${df['Total_Spending'].min()} to ${df['Total_Spending'].max()}\")\n",
    "\n",
    "# Examine distribution of children\n",
    "children_dist = df['Total_Children'].value_counts().sort_index()\n",
    "print(\"\\nDistribution of children at home:\")\n",
    "for children, count in children_dist.items():\n",
    "    percentage = (count / len(df)) * 100\n",
    "    print(f\"  {children} children: {count:4d} households ({percentage:5.1f}%)\")\n",
    "\n",
    "# Calculate summary statistics by number of children\n",
    "print(\"\\nSUMMARY STATISTICS BY CHILDREN COUNT\")\n",
    "print(\"-\" * 45)\n",
    "\n",
    "print(df.groupby('Total_Children')['Total_Spending'].describe().round(2))"
   ]
  },
  {
   "cell_type": "code",
   "execution_count": null,
   "id": "0eb024b8",
   "metadata": {
    "colab": {
     "base_uri": "https://localhost:8080/"
    },
    "execution": {
     "iopub.execute_input": "2025-09-06T21:14:01.138787Z",
     "iopub.status.busy": "2025-09-06T21:14:01.138787Z",
     "iopub.status.idle": "2025-09-06T21:14:01.151789Z",
     "shell.execute_reply": "2025-09-06T21:14:01.151789Z"
    },
    "executionInfo": {
     "elapsed": 35,
     "status": "ok",
     "timestamp": 1756043838007,
     "user": {
      "displayName": "Scott Clement",
      "userId": "09077177954652264696"
     },
     "user_tz": 420
    },
    "id": "_XmvNHSNusQs",
    "outputId": "3f092686-62b4-490a-ad89-ed7317c34aaa"
   },
   "outputs": [],
   "source": [
    "# Correlation analysis\n",
    "correlation = df['Total_Children'].corr(df['Total_Spending'])\n",
    "print(f\"\\nPearson correlation coefficient: {correlation:.4f}\")\n",
    "print(f\"Correlation interpretation: {'Strong negative' if correlation < -0.5 else 'Moderate negative' if correlation < -0.3 else 'Weak negative' if correlation < 0 else 'Positive'}\")"
   ]
  },
  {
   "cell_type": "code",
   "execution_count": null,
   "id": "7e06dc44",
   "metadata": {
    "colab": {
     "base_uri": "https://localhost:8080/",
     "height": 0
    },
    "execution": {
     "iopub.execute_input": "2025-09-06T21:14:01.153790Z",
     "iopub.status.busy": "2025-09-06T21:14:01.153790Z",
     "iopub.status.idle": "2025-09-06T21:14:02.696632Z",
     "shell.execute_reply": "2025-09-06T21:14:02.695631Z"
    },
    "executionInfo": {
     "elapsed": 1227,
     "status": "ok",
     "timestamp": 1756043839236,
     "user": {
      "displayName": "Scott Clement",
      "userId": "09077177954652264696"
     },
     "user_tz": 420
    },
    "id": "8Egh-ZtlvWHe",
    "outputId": "4e114be9-a2b7-4b3d-d7fe-6291f31fbf8c"
   },
   "outputs": [],
   "source": [
    "# Create visualizations\n",
    "\n",
    "from matplotlib.lines import Line2D\n",
    "\n",
    "# Set style for better-looking plots\n",
    "reset_plot_settings()\n",
    "\n",
    "#plt.style.use('seaborn-v0_8')\n",
    "plt.style.use('default')\n",
    "sns.set_palette(\"viridis\")\n",
    "sns.set_context('notebook', font_scale=1.1)\n",
    "\n",
    "# 2x2 grid\n",
    "fig, ((ax1, ax2), (ax3, ax4)) = plt.subplots(2, 2, figsize=(16, 12))\n",
    "plt.subplots_adjust(hspace=0.3, wspace=0.3)\n",
    "\n",
    "# 1. Average Expenditure by Children Count (Bar Plot)\n",
    "ax1.set_axisbelow(True)\n",
    "ax1.grid(True, axis='y', alpha=0.3, zorder=0)\n",
    "\n",
    "sns.barplot(data=df,\n",
    "            x='Total_Children',\n",
    "            y='Total_Spending',\n",
    "            estimator='mean',\n",
    "            ax=ax1,\n",
    "            palette='viridis',\n",
    "            alpha=0.8,\n",
    "            errorbar=None)\n",
    "\n",
    "# Add value labels on bars\n",
    "bars = ax1.patches\n",
    "\n",
    "for bar in bars:\n",
    "  height = bar.get_height()\n",
    "  ax1.text(bar.get_x() + bar.get_width()/2., height + 10,\n",
    "           f'${height:.0f}',\n",
    "           fontsize=10,\n",
    "           ha='center',\n",
    "           va='bottom')\n",
    "\n",
    "ax1.set_title('Average Total Expenditure by Number of Children', fontsize=14)\n",
    "ax1.set_xlabel('Number of Children at Home', fontsize=12)\n",
    "ax1.set_ylabel('Average Expenditure ($)', fontsize=12)\n",
    "\n",
    "# 2. Scatter plot with jitter\n",
    "ax2.set_axisbelow(True)\n",
    "ax2.grid(True, axis='y', alpha=0.3, zorder=0)\n",
    "\n",
    "sns.stripplot(data=df,\n",
    "              x='Total_Children',\n",
    "              y='Total_Spending',\n",
    "              size=4,\n",
    "              alpha=0.5,\n",
    "              jitter=0.3,\n",
    "              ax=ax2,\n",
    "              hue=\"Total_Children\",\n",
    "              palette='viridis',\n",
    "              legend=False)\n",
    "\n",
    "# Trendline\n",
    "sns.regplot(data=df,\n",
    "            x='Total_Children',\n",
    "            y='Total_Spending',\n",
    "            scatter=False,\n",
    "            color='red',\n",
    "            ci=None,\n",
    "            ax=ax2,\n",
    "            line_kws={'linestyle':'--', 'alpha':0.8, 'linewidth': 2,\n",
    "                      'label': f'Trend Line (r={correlation:.3f})'})\n",
    "\n",
    "# Create custom legend\n",
    "\n",
    "# Add trend line to legend\n",
    "legend_elements = []\n",
    "legend_elements.append(Line2D([0], [0], color='red', linestyle='--',\n",
    "                              linewidth=2, label=f'Trend Line (r = {correlation:.4f})'))\n",
    "\n",
    "ax2.legend(handles=legend_elements, loc='best')\n",
    "\n",
    "ax2.set_title('Expenditure vs Children Count', fontsize=14)\n",
    "ax2.set_xlabel('Number of Children at Home', fontsize=12)\n",
    "ax2.set_ylabel('Total Expenditure ($)', fontsize=12)\n",
    "\n",
    "# 3. Violin Plot for Detailed Distribution\n",
    "ax3.set_axisbelow(True)\n",
    "ax3.grid(True, axis='y', alpha=0.3, zorder=0)\n",
    "\n",
    "violin_data = []\n",
    "violin_labels = []\n",
    "for children in sorted(df['Total_Children'].unique()):\n",
    "    data = df[df['Total_Children'] == children]['Total_Spending'].values\n",
    "    if len(data) > 10:  # Only include if enough data points\n",
    "        violin_data.append(data)\n",
    "        violin_labels.append(f'{children} children')\n",
    "\n",
    "parts = ax3.violinplot(violin_data, positions=range(len(violin_data)),\n",
    "                      showmeans=True, showmedians=True, showextrema=True)\n",
    "\n",
    "# Get viridis colors\n",
    "n_violins = len(violin_data)\n",
    "colors = plt.cm.viridis(np.linspace(0, 1, n_violins))\n",
    "\n",
    "for pc, color in zip(parts['bodies'], colors):\n",
    "    pc.set_facecolor(color)\n",
    "    pc.set_alpha(0.7)\n",
    "\n",
    "if 'cbars' in parts:\n",
    "    parts['cbars'].set_color('lightgrey')\n",
    "    parts['cbars'].set_linewidth(2)\n",
    "    parts['cbars'].set_alpha(0.9)\n",
    "\n",
    "# Customize other elements\n",
    "if 'cmeans' in parts:\n",
    "    parts['cmeans'].set_color('red')\n",
    "    parts['cmeans'].set_linewidth(3)\n",
    "\n",
    "if 'cmedians' in parts:\n",
    "    parts['cmedians'].set_color('black')\n",
    "    parts['cmedians'].set_linewidth(2)\n",
    "\n",
    "if 'cmins' in parts:\n",
    "    parts['cmins'].set_color('gray')\n",
    "    parts['cmins'].set_linewidth(2)\n",
    "\n",
    "if 'cmaxes' in parts:\n",
    "    parts['cmaxes'].set_color('gray')\n",
    "    parts['cmaxes'].set_linewidth(2)\n",
    "\n",
    "ax3.set_xticks(range(len(violin_labels)), violin_labels)\n",
    "ax3.set_title('Expenditure Distribution Density', fontsize=14)\n",
    "ax3.set_xlabel('Number of Children at Home', fontsize=12)\n",
    "ax3.set_ylabel('Total Expenditure ($)', fontsize=12)\n",
    "\n",
    "# Add legend\n",
    "\n",
    "legend_elements = [Line2D([0], [0], color='red', linewidth=3, label='Mean'),\n",
    "                  Line2D([0], [0], color='black', linewidth=2, label='Median')]\n",
    "ax3.legend(handles=legend_elements, loc='upper right')\n",
    "\n",
    "# 4. Median vs Mean Comparison\n",
    "ax4.set_axisbelow(True)\n",
    "ax4.grid(True, alpha=0.3, zorder=0)\n",
    "\n",
    "children_counts = sorted(df['Total_Children'].unique())\n",
    "means = [df[df['Total_Children'] == c]['Total_Spending'].mean() for c in children_counts]\n",
    "medians = [df[df['Total_Children'] == c]['Total_Spending'].median() for c in children_counts]\n",
    "\n",
    "ax4.plot(children_counts, means, 'o-', linewidth=2, markersize=8,\n",
    "         label='Mean', color='red', markeredgecolor='black')\n",
    "ax4.plot(children_counts, medians, 's-', linewidth=2, markersize=8,\n",
    "         label='Median', color='black', markeredgecolor='black')\n",
    "\n",
    "ax4.set_title('Mean vs Median Expenditure\\nby Children Count', fontsize=14)\n",
    "ax4.set_xlabel('Number of Children at Home', fontsize=12)\n",
    "ax4.set_ylabel('Expenditure ($)', fontsize=12)\n",
    "ax4.legend()\n",
    "\n",
    "plt.tight_layout()\n",
    "save_project_figure(\n",
    "    \"Children_at_Home_vs_Total_Expenditure\", \"Children at Home vs_Total Expenditure\", config\n",
    ")\n",
    "plt.show()"
   ]
  },
  {
   "cell_type": "code",
   "execution_count": null,
   "id": "6d80632b",
   "metadata": {
    "colab": {
     "base_uri": "https://localhost:8080/"
    },
    "execution": {
     "iopub.execute_input": "2025-09-06T21:14:02.698640Z",
     "iopub.status.busy": "2025-09-06T21:14:02.698640Z",
     "iopub.status.idle": "2025-09-06T21:14:02.727632Z",
     "shell.execute_reply": "2025-09-06T21:14:02.726633Z"
    },
    "executionInfo": {
     "elapsed": 23,
     "status": "ok",
     "timestamp": 1756043839282,
     "user": {
      "displayName": "Scott Clement",
      "userId": "09077177954652264696"
     },
     "user_tz": 420
    },
    "id": "q4m2iXAVjPSV",
    "outputId": "24ba1ddf-dc2a-4937-c798-1e24e6f3e6c7"
   },
   "outputs": [],
   "source": [
    "# Additional Analysis: Effect Size and Practical Significance\n",
    "print(\"\\nDETAILED FINDINGS & INSIGHTS\")\n",
    "print(\"=\" * 40)\n",
    "\n",
    "# Calculate percentage decrease in spending\n",
    "spending_0_children = df[df['Total_Children']==0]['Total_Spending'].mean()\n",
    "spending_1_children = df[df['Total_Children']==1]['Total_Spending'].mean()\n",
    "spending_2_children = df[df['Total_Children']==2]['Total_Spending'].mean()\n",
    "spending_3_children = df[df['Total_Children']==3]['Total_Spending'].mean()\n",
    "\n",
    "decrease_1_child = ((spending_0_children - spending_1_children) / spending_0_children) * 100\n",
    "decrease_2_children = ((spending_0_children - spending_2_children) / spending_0_children) * 100\n",
    "decrease_3_children = ((spending_0_children - spending_3_children) / spending_0_children) * 100\n",
    "\n",
    "print(\"\\nEXPENDITURE:\")\n",
    "print(f\"• 0 children: ${spending_0_children:.0f} average expenditure\")\n",
    "print(f\"• 1 child:    ${spending_1_children:.0f} average expenditure ({decrease_1_child:.1f}% decrease)\")\n",
    "print(f\"• 2 children: ${spending_2_children:.0f} average expenditure ({decrease_2_children:.1f}% decrease)\")\n",
    "print(f\"• 3 children: ${spending_3_children:.0f} average expenditure ({decrease_3_children:.1f}% decrease)\")\n",
    "\n",
    "print(\"\\nIMPLICATIONS:\")\n",
    "print(f\"• Childless households represent {children_dist[0]/len(df)*100:.1f}% of customers but highest value\")\n",
    "print(f\"• Average spending ratio (0 vs 1 child): {spending_0_children/spending_1_children:.1f}:1\")\n",
    "print(f\"• Average spending ratio (0 vs 2 children): {spending_0_children/spending_2_children:.1f}:1\")\n",
    "print(f\"• Average spending ratio (0 vs 3+ children): {spending_0_children/spending_3_children:.1f}:1\")\n",
    "print(\"• Clear market segmentation opportunity based on family status\")\n",
    "\n",
    "print(\"\\nCONCLUSION:\")\n",
    "print(\"• There is an inverse relationship between\")\n",
    "print(\"  the number of children at home and total expenditure.\")\n",
    "print(\"• This pattern is consistent across all statistical measures\")\n",
    "\n",
    "# Create a final summary table\n",
    "print(\"\\nSUMMARY TABLE:\")\n",
    "print(\"=\" * 80)\n",
    "summary_display = df.groupby('Total_Children')['Total_Spending'].agg([\n",
    "    ('Sample Size', 'count'),\n",
    "    ('Average Spending', 'mean'),\n",
    "    ('Median Spending', 'median'),\n",
    "    ('Standard Deviation', 'std')\n",
    "]).copy() # type: ignore\n",
    "# print(summary_display.round(2))\n",
    "\n",
    "summary_display = summary_display.round(2)\n",
    "summary_display['% of Total'] = (summary_display['Sample Size'] / len(df) * 100).round(1)\n",
    "summary_display['Spending Ratio'] = (summary_display['Average Spending'] / spending_0_children).round(2)\n",
    "summary_display = summary_display.reset_index()\n",
    "summary_display = summary_display.rename(columns={'Total_Children': 'Number of Children'})\n",
    "summary_display = summary_display.set_index('Number of Children')\n",
    "print(summary_display.to_string())"
   ]
  },
  {
   "cell_type": "code",
   "execution_count": null,
   "id": "03376949",
   "metadata": {
    "execution": {
     "iopub.execute_input": "2025-09-06T21:14:02.729635Z",
     "iopub.status.busy": "2025-09-06T21:14:02.729635Z",
     "iopub.status.idle": "2025-09-06T21:14:02.741632Z",
     "shell.execute_reply": "2025-09-06T21:14:02.741632Z"
    },
    "executionInfo": {
     "elapsed": 37,
     "status": "ok",
     "timestamp": 1756043839341,
     "user": {
      "displayName": "Scott Clement",
      "userId": "09077177954652264696"
     },
     "user_tz": 420
    },
    "id": "SOCcgGbYvRDY"
   },
   "outputs": [],
   "source": [
    "# DETAILED FINDINGS & INSIGHTS\n",
    "# ========================================\n",
    "\n",
    "# EXPENDITURE:\n",
    "# • 0 children: $1106 average expenditure\n",
    "# • 1 child:    $473 average expenditure (57.2% decrease)\n",
    "# • 2 children: $246 average expenditure (77.7% decrease)\n",
    "# • 3 children: $275 average expenditure (75.2% decrease)\n",
    "\n",
    "# IMPLICATIONS:\n",
    "# • Childless households represent 28.4% of customers but highest value\n",
    "# • Average spending ratio (0 vs 1 child): 2.3:1\n",
    "# • Average spending ratio (0 vs 2 children): 4.5:1\n",
    "# • Average spending ratio (0 vs 3+ children): 4.0:1\n",
    "# • Clear market segmentation opportunity based on family status\n",
    "\n",
    "# CONCLUSION:\n",
    "# • There is an inverse relationship between\n",
    "#   the number of children at home and total expenditure.\n",
    "# • This pattern is consistent across all statistical measures"
   ]
  },
  {
   "cell_type": "code",
   "execution_count": null,
   "id": "61afc03b",
   "metadata": {
    "execution": {
     "iopub.execute_input": "2025-09-06T21:14:02.744635Z",
     "iopub.status.busy": "2025-09-06T21:14:02.743632Z",
     "iopub.status.idle": "2025-09-06T21:14:02.757632Z",
     "shell.execute_reply": "2025-09-06T21:14:02.757632Z"
    }
   },
   "outputs": [],
   "source": [
    "\n",
    "# Save results for next notebook\n",
    "# save_intermediate_results(df_processed, 'processed_data.pkl', config)\n",
    "# save_intermediate_results(analysis_results, 'analysis_results.pkl', config)\n",
    "# print('✓ Results saved for next notebook')"
   ]
  }
 ],
 "metadata": {
  "kernelspec": {
   "display_name": ".venv",
   "language": "python",
   "name": "python3"
  },
  "language_info": {
   "codemirror_mode": {
    "name": "ipython",
    "version": 3
   },
   "file_extension": ".py",
   "mimetype": "text/x-python",
   "name": "python",
   "nbconvert_exporter": "python",
   "pygments_lexer": "ipython3",
   "version": "3.10.11"
  }
 },
 "nbformat": 4,
 "nbformat_minor": 5
}
