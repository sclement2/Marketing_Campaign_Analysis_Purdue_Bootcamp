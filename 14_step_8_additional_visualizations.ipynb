{
 "cells": [
  {
   "cell_type": "markdown",
   "id": "f6ac18d0",
   "metadata": {},
   "source": [
    "# Step 8: Additional Visualizations\n",
    "\n",
    "Section: Step 8: Additional Visualizations\n",
    "\n",
    "**Part of:** [marketing_campaign_082825_working.ipynb](./marketing_campaign_082825_working.ipynb)"
   ]
  },
  {
   "cell_type": "markdown",
   "id": "70543891",
   "metadata": {},
   "source": [
    "This notebook is the intro for the additional visualizations section for the Marketing Campaign Analysis project. This notebook does not contain the actual python code used to perform the additional visualizations. The code for each section can be found in the corresponding Jupyter notebooks.\n",
    "\n",
    "- [15_identify_the_top_performing_products_and_those_with.ipynb](./15_identify_the_top_performing_products_and_those_with.ipynb)\n",
    "- [16_examine_if_there_is_a_correlation_between_customer.ipynb](./16_examine_if_there_is_a_correlation_between_customer.ipynb)\n",
    "- [17_determine_the_country_with_the_highest_number_of_c.ipynb](./17_determine_the_country_with_the_highest_number_of_c.ipynb)\n",
    "- [18_investigate_if_there_is_a_discernible_pattern_in_t.ipynb](./18_investigate_if_there_is_a_discernible_pattern_in_t.ipynb)\n",
    "- [19_analyze_the_educational_background_of_customers_wh.ipynb](./19_analyze_the_educational_background_of_customers_wh.ipynb)"
   ]
  },
  {
   "cell_type": "markdown",
   "id": "b8e30274",
   "metadata": {},
   "source": [
    "The complete set of notebooks performs exploratory data analysis and hypothesis testing on marketing campaign data to understand customer acquisition factors. The summarized results for hypothesis testing are presented below. The EDA and additional visualizations are in separate notebooks. Together, the 3 notebooks listed below provide the summary results of comprehensive analysis of the marketing campaign data.\n",
    "\n",
    "**Summary Notebooks**\n",
    "- [20_marketing_campaign_analysis_summary.ipynb](./20_marketing_campaign_analysis_summary.ipynb) - Exploratory Data Analysis\n",
    "- [21_step_7_hypothesis_testing_summary.ipynb](./21_step_7_hypothesis_testing_summary.ipynb) - Hypothesis Testing\n",
    "- [22_step_8_additional_visualizations_summary.ipynb](./22_step_8_additional_visualizations_summary.ipynb) - Additional Visualizations"
   ]
  }
 ],
 "metadata": {
  "kernelspec": {
   "display_name": ".venv",
   "language": "python",
   "name": "python3"
  },
  "language_info": {
   "codemirror_mode": {
    "name": "ipython",
    "version": 3
   },
   "file_extension": ".py",
   "mimetype": "text/x-python",
   "name": "python",
   "nbconvert_exporter": "python",
   "pygments_lexer": "ipython3",
   "version": "3.10.11"
  }
 },
 "nbformat": 4,
 "nbformat_minor": 4
}