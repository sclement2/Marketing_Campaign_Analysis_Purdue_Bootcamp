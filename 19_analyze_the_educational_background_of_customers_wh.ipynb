{
 "cells": [
  {
   "cell_type": "markdown",
   "id": "81dad683",
   "metadata": {},
   "source": [
    "# Additional Visualizations\n",
    "\n",
    "Section: e. Analyze the educational background of customers who lodged complaints in the last two years.\n",
    "\n",
    "**Part of:** [marketing_campaign_082825_working.ipynb](./marketing_campaign_082825_working.ipynb)"
   ]
  },
  {
   "cell_type": "code",
   "execution_count": null,
   "id": "0db600bc",
   "metadata": {
    "execution": {
     "iopub.execute_input": "2025-09-06T21:14:08.245937Z",
     "iopub.status.busy": "2025-09-06T21:14:08.245937Z",
     "iopub.status.idle": "2025-09-06T21:14:09.863181Z",
     "shell.execute_reply": "2025-09-06T21:14:09.862180Z"
    }
   },
   "outputs": [],
   "source": [
    "# Setup and data loading\n",
    "from utils import (\n",
    "    ProjectConfig,\n",
    "    load_intermediate_results,\n",
    "    save_project_figure,\n",
    "    reset_plot_settings,\n",
    ")\n",
    "import pandas as pd\n",
    "import seaborn as sns\n",
    "import matplotlib.pyplot as plt\n",
    "import warnings\n",
    "\n",
    "warnings.filterwarnings(\"ignore\")\n",
    "\n",
    "config = ProjectConfig()\n",
    "# Load data from previous notebook\n",
    "df = load_intermediate_results(\"data_from_08_step_6.pkl\", config)"
   ]
  },
  {
   "cell_type": "markdown",
   "id": "c754cdcd",
   "metadata": {
    "id": "Xs0Ev12RnTpe"
   },
   "source": [
    "## e. Analyze the educational background of customers who lodged complaints in the last two years."
   ]
  },
  {
   "cell_type": "code",
   "execution_count": null,
   "id": "c56fa7d6",
   "metadata": {
    "colab": {
     "base_uri": "https://localhost:8080/",
     "height": 625
    },
    "execution": {
     "iopub.execute_input": "2025-09-06T21:14:09.865185Z",
     "iopub.status.busy": "2025-09-06T21:14:09.865185Z",
     "iopub.status.idle": "2025-09-06T21:14:11.222709Z",
     "shell.execute_reply": "2025-09-06T21:14:11.221712Z"
    },
    "executionInfo": {
     "elapsed": 2327,
     "status": "ok",
     "timestamp": 1756043978954,
     "user": {
      "displayName": "Scott Clement",
      "userId": "09077177954652264696"
     },
     "user_tz": 420
    },
    "id": "eJYZdw9yYSxO",
    "outputId": "708a156f-85c5-4e22-9dd3-d3d5c040d1a8"
   },
   "outputs": [],
   "source": [
    "# --- Filter for last 2 years of data ---\n",
    "latest_date = df[\"Dt_Customer\"].max()\n",
    "most_recent_date = df['Dt_Customer'].min()\n",
    "cutoff_date = latest_date - pd.DateOffset(years=2)\n",
    "\n",
    "complaints_recent = df[df[\"Dt_Customer\"] >= cutoff_date].copy()\n",
    "complaints_recent[\"YearMonth\"] = complaints_recent[\"Dt_Customer\"].dt.to_period(\"M\")\n",
    "\n",
    "# --- Map education numbers back to labels ---\n",
    "edu_map = {\n",
    "    1: 'Secondary',\n",
    "    2: 'Bachelor',\n",
    "    3: 'Master',\n",
    "    4: 'PhD'\n",
    "}\n",
    "complaints_recent['Education'] = complaints_recent['Education_Encoded'].map(edu_map)\n",
    "\n",
    "# --- Define order & palettes ---\n",
    "edu_order = ['Secondary','Bachelor','Master','PhD']\n",
    "#edu_palette = dict(zip(edu_order, sns.color_palette(\"Set2\", len(edu_order))))\n",
    "#edu_palette = dict(zip(edu_order, sns.color_palette(\"tab10\", len(edu_order))))\n",
    "edu_palette = dict(zip(edu_order, sns.color_palette(\"Dark2\", len(edu_order))))\n",
    "complain_palette = {0: \"#cccccc\", 1: \"#440154\"}  # grey = no complaint, purple = complaint\n",
    "\n",
    "# --- Counts (complaints only) ---\n",
    "edu_counts = complaints_recent.loc[complaints_recent[\"Complain\"]==1, \"Education\"].value_counts()\n",
    "\n",
    "# --- Complaint vs No Complaint proportions ---\n",
    "complaint_share = (\n",
    "    complaints_recent.groupby(\"Education\")[\"Complain\"]\n",
    "    .value_counts(normalize=True)\n",
    "    .rename(\"Proportion\")\n",
    "    .reset_index()\n",
    ")\n",
    "\n",
    "stacked_share = complaint_share.pivot(\n",
    "    index=\"Education\",\n",
    "    columns=\"Complain\",\n",
    "    values=\"Proportion\"\n",
    ").fillna(0)\n",
    "\n",
    "# --- Create subplot grid ---\n",
    "reset_plot_settings()\n",
    "fig, ((ax1, ax2), (ax3, ax4)) = plt.subplots(2, 2, figsize=(16, 12))\n",
    "\n",
    "# 1. Countplot (Complaints only)\n",
    "ax1.set_axisbelow(True)\n",
    "ax1.grid(True, axis='y', alpha=0.3, zorder=0)\n",
    "\n",
    "sns.countplot(\n",
    "    data=complaints_recent[complaints_recent[\"Complain\"]==1],\n",
    "    x=\"Education\",\n",
    "    order=edu_order,\n",
    "    palette=edu_palette,\n",
    "    ax=ax1\n",
    ")\n",
    "ax1.set_title(\"Complaints by Education (Counts, Last 2 Years)\", fontsize=14)\n",
    "ax1.set_xlabel(\"Education\", fontsize=12)\n",
    "ax1.set_ylabel(\"Count\", fontsize=12)\n",
    "ax1.tick_params(axis=\"x\", rotation=45)\n",
    "\n",
    "# 2. Pie chart (Complaints only)\n",
    "ax2.pie(\n",
    "    edu_counts,\n",
    "    labels=edu_counts.index,\n",
    "    autopct=\"%1.1f%%\",\n",
    "    startangle=90,\n",
    "    colors=[edu_palette[edu] for edu in edu_counts.index]\n",
    ")\n",
    "ax2.set_title(\"Complaints by Education (Pie, Last 2 Years)\")\n",
    "\n",
    "# 3. Trend over time (Complaints only, chronological order)\n",
    "ax3.set_axisbelow(True)\n",
    "ax3.grid(True, axis='y', alpha=0.3, zorder=0)\n",
    "\n",
    "order = sorted(complaints_recent[\"YearMonth\"].unique())\n",
    "sns.countplot(\n",
    "    data=complaints_recent[complaints_recent[\"Complain\"]==1],\n",
    "    x=\"YearMonth\",\n",
    "    hue=\"Education\",\n",
    "    order=order,\n",
    "    hue_order=edu_order,\n",
    "    palette=edu_palette,\n",
    "    ax=ax3\n",
    ")\n",
    "ax3.set_title(\"Complaint Trends by Education (Last 2 Years)\", fontsize=14)\n",
    "ax3.set_xlabel(\"Year-Month\", fontsize=12)\n",
    "ax3.set_ylabel(\"Complaint Count\", fontsize=12)\n",
    "\n",
    "n_ticks = 6  # Desired number of ticks\n",
    "step = max(1, len(order) // n_ticks)\n",
    "tick_positions = range(0, len(order), step)\n",
    "tick_labels = [order[i] for i in tick_positions]\n",
    "\n",
    "ax3.set_xticks(tick_positions)\n",
    "ax3.set_xticklabels(tick_labels, rotation=45, ha='right')\n",
    "ax3.legend(title=\"Education\")\n",
    "\n",
    "# 4. 100% Stacked Bar (Complaints vs No Complaints)\n",
    "ax4.set_axisbelow(True)\n",
    "ax4.grid(True, axis='y', alpha=0.3, zorder=0)\n",
    "\n",
    "stacked_share.loc[edu_order].plot(\n",
    "    kind=\"bar\",\n",
    "    stacked=True,\n",
    "    ax=ax4,\n",
    "    color=[complain_palette[c] for c in stacked_share.columns],\n",
    "    width=0.7,\n",
    "    edgecolor='white',  # Add white borders between segments\n",
    "    linewidth=0.75\n",
    ")\n",
    "\n",
    "# Add percentage labels on each segment\n",
    "for i, education in enumerate(edu_order):\n",
    "    # Get the values for this education level\n",
    "    no_complaint_pct = stacked_share.loc[education, 0] * 100  # Assuming 0 = No Complaint\n",
    "    complaint_pct = stacked_share.loc[education, 1] * 100      # Assuming 1 = Complaint\n",
    "\n",
    "    # Add label for \"No Complaint\" segment (bottom part)\n",
    "    ax4.text(i, no_complaint_pct/200, f'{no_complaint_pct:.1f}%',\n",
    "                ha='center', va='center', fontweight='bold', fontsize=10)\n",
    "\n",
    "# Titles and labels\n",
    "#ax4.set_title(\"Customer Complaint Rates by Education Level\", fontsize=14)\n",
    "ax4.set_title(\"Proportion of Complaints vs No Complaints by Education\", fontsize=14)\n",
    "ax4.set_ylabel(\"Proportion of Customers\", fontsize=12)\n",
    "ax4.set_xlabel(\"Education Level\", fontsize=12)\n",
    "ax4.set_xticklabels(edu_order, rotation=45, ha='right')\n",
    "\n",
    "# Set y-axis to show percentages\n",
    "ax4.yaxis.set_major_formatter(plt.FuncFormatter(lambda y, _: '{:.0%}'.format(y)))\n",
    "\n",
    "ax4.legend([\"No Complaint\", \"Complaint\"],\n",
    "           title=\"Customer Complain\",\n",
    "           bbox_to_anchor=(1.05, 1),\n",
    "           loc='upper left',\n",
    "           frameon=True,\n",
    "           fancybox=True\n",
    "          )\n",
    "\n",
    "#ax4.spines['top'].set_visible(False)\n",
    "#ax4.spines['right'].set_visible(False)\n",
    "ax4.set_ylim(0, 1.05)  # Add some space at the top\n",
    "\n",
    "plt.tight_layout()\n",
    "save_project_figure(\n",
    "    \"Education_Background_People_Complain\",\n",
    "    \"Education Background People Complain\",\n",
    "    config,\n",
    ")\n",
    "plt.show()"
   ]
  },
  {
   "cell_type": "code",
   "execution_count": null,
   "id": "5b119679",
   "metadata": {
    "execution": {
     "iopub.execute_input": "2025-09-06T21:14:11.224712Z",
     "iopub.status.busy": "2025-09-06T21:14:11.223709Z",
     "iopub.status.idle": "2025-09-06T21:14:11.236708Z",
     "shell.execute_reply": "2025-09-06T21:14:11.236708Z"
    },
    "executionInfo": {
     "elapsed": 18,
     "status": "ok",
     "timestamp": 1756043840080,
     "user": {
      "displayName": "Scott Clement",
      "userId": "09077177954652264696"
     },
     "user_tz": 420
    },
    "id": "n_FavILWtKNz"
   },
   "outputs": [],
   "source": [
    "# Primary Insights:\n",
    "# - Bachelor's Degree Holders Dominate Complaints\n",
    "# - Bachelor's represent 70% of all complaints (pie chart) and have the highest absolute count (14 complaints)\n",
    "# - Complaint Rates Are Consistently Low Across Education Levels\n",
    "#   - All education groups show 98.8-100% \"No Complaint\" rates (stacked bar chart)\n",
    "#   - Secondary education shows 100% satisfaction, while Bachelor's, Master's, and PhD all hover around 98.8-99.1%\n",
    "#   - The differences between education levels are minimal (less than 2 percentage points)\n",
    "# - Complaint Activity Is Sporadic\n",
    "#   - The time trend shows complaints are infrequent and clustered\n",
    "#   - Most time periods have zero complaints, with occasional spikes\n",
    "#   - Bachelor's degree holders appear in most complaint periods"
   ]
  },
  {
   "cell_type": "code",
   "execution_count": null,
   "id": "7a847a1d",
   "metadata": {
    "execution": {
     "iopub.execute_input": "2025-09-06T21:14:11.239711Z",
     "iopub.status.busy": "2025-09-06T21:14:11.238709Z",
     "iopub.status.idle": "2025-09-06T21:14:11.251709Z",
     "shell.execute_reply": "2025-09-06T21:14:11.251709Z"
    }
   },
   "outputs": [],
   "source": [
    "\n",
    "# Save results for next notebook\n",
    "# save_intermediate_results(df_processed, 'processed_data.pkl', config)\n",
    "# save_intermediate_results(analysis_results, 'analysis_results.pkl', config)\n",
    "# print('✓ Results saved for next notebook')"
   ]
  }
 ],
 "metadata": {
  "kernelspec": {
   "display_name": ".venv",
   "language": "python",
   "name": "python3"
  },
  "language_info": {
   "codemirror_mode": {
    "name": "ipython",
    "version": 3
   },
   "file_extension": ".py",
   "mimetype": "text/x-python",
   "name": "python",
   "nbconvert_exporter": "python",
   "pygments_lexer": "ipython3",
   "version": "3.10.11"
  }
 },
 "nbformat": 4,
 "nbformat_minor": 4
}