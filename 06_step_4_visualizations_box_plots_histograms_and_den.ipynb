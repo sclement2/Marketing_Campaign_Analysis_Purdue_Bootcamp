{
 "cells": [
  {
   "cell_type": "markdown",
   "id": "611ab772",
   "metadata": {},
   "source": [
    "# Step 4: Visualizations\n",
    "\n",
    "Section: Step 4: Visualizations - Box Plots, Histograms, and Density Plots\n",
    "\n",
    "**Part of:** [marketing_campaign_082825_working.ipynb](./marketing_campaign_082825_working.ipynb)"
   ]
  },
  {
   "cell_type": "code",
   "execution_count": null,
   "id": "84230957",
   "metadata": {
    "execution": {
     "iopub.execute_input": "2025-09-06T21:12:08.783504Z",
     "iopub.status.busy": "2025-09-06T21:12:08.783504Z",
     "iopub.status.idle": "2025-09-06T21:12:10.450298Z",
     "shell.execute_reply": "2025-09-06T21:12:10.449755Z"
    }
   },
   "outputs": [],
   "source": [
    "# Setup and data loading\n",
    "from utils import (\n",
    "    ProjectConfig,\n",
    "    save_intermediate_results,\n",
    "    load_intermediate_results,\n",
    "    reset_plot_settings,\n",
    ")\n",
    "import seaborn as sns\n",
    "import matplotlib.pyplot as plt\n",
    "\n",
    "config = ProjectConfig()\n",
    "# Load data from previous notebook\n",
    "df = load_intermediate_results('data_from_05_step_3.pkl', config)"
   ]
  },
  {
   "cell_type": "markdown",
   "id": "76767b3b",
   "metadata": {
    "id": "9sfn05JofN6G"
   },
   "source": [
    "# Visualizations - Box Plots, Histograms, and Density Plots"
   ]
  },
  {
   "cell_type": "code",
   "execution_count": null,
   "id": "83f38afc",
   "metadata": {
    "execution": {
     "iopub.execute_input": "2025-09-06T21:12:10.453428Z",
     "iopub.status.busy": "2025-09-06T21:12:10.452906Z",
     "iopub.status.idle": "2025-09-06T21:12:10.465609Z",
     "shell.execute_reply": "2025-09-06T21:12:10.464608Z"
    },
    "executionInfo": {
     "elapsed": 58,
     "status": "ok",
     "timestamp": 1756043827506,
     "user": {
      "displayName": "Scott Clement",
      "userId": "09077177954652264696"
     },
     "user_tz": 420
    },
    "id": "ze08byqvdNAR"
   },
   "outputs": [],
   "source": [
    "# Plot reset, use between sections:\n",
    "reset_plot_settings()"
   ]
  },
  {
   "cell_type": "code",
   "execution_count": null,
   "id": "22ed7cf3",
   "metadata": {
    "colab": {
     "base_uri": "https://localhost:8080/",
     "height": 0
    },
    "execution": {
     "iopub.execute_input": "2025-09-06T21:12:10.467609Z",
     "iopub.status.busy": "2025-09-06T21:12:10.467609Z",
     "iopub.status.idle": "2025-09-06T21:12:12.132030Z",
     "shell.execute_reply": "2025-09-06T21:12:12.131030Z"
    },
    "executionInfo": {
     "elapsed": 338,
     "status": "ok",
     "timestamp": 1756043827806,
     "user": {
      "displayName": "Scott Clement",
      "userId": "09077177954652264696"
     },
     "user_tz": 420
    },
    "id": "pdQS456uLT1z",
    "outputId": "5093011b-bf21-4bfc-c6fe-eadbf8fa5e67",
    "scrolled": true
   },
   "outputs": [],
   "source": [
    "# Visualizations - Box Plots, Histograms, and Density Plots\n",
    "\n",
    "variables = ['Age','Income','Total_Purchases','Total_Spending']\n",
    "titles = ['Age','Income','Total Purchases','Total Spending']\n",
    "units = ['Years','USD','Number','USD']\n",
    "\n",
    "# Create a 4x3 subplot grid\n",
    "fig, axes = plt.subplots(nrows=4, ncols=2, figsize=(12,12))\n",
    "\n",
    "for i, var in enumerate(variables):\n",
    "    # Boxplot\n",
    "    sns.boxplot(y=df[var], ax=axes[i,0], color='skyblue')\n",
    "    axes[i,0].set_title(f'{titles[i]} Boxplot')\n",
    "    axes[i,0].set_ylabel(units[i])\n",
    "\n",
    "    # Histogram with KDE overlay\n",
    "    sns.histplot(data=df, x=var, ax=axes[i,1], bins=30, color='salmon', stat='density')\n",
    "    sns.kdeplot(data=df, x=var, ax=axes[i,1], color='navy', linewidth=2)\n",
    "    axes[i,1].set_title(f'{titles[i]} Histogram with KDE')\n",
    "    axes[i,1].set_xlabel(units[i])\n",
    "\n",
    "# Adjust layout to prevent overlap\n",
    "plt.tight_layout()\n",
    "fig.savefig('figures/Original_Age_and_Income_Plots.png', dpi=300, bbox_inches='tight')\n",
    "#save_project_figure(\n",
    "#    \"Original_Age_and_Income_Plots\",\n",
    "#    \"Original Age and Income Plots\",\n",
    "#    config,\n",
    "#)\n",
    "plt.show()\n"
   ]
  },
  {
   "cell_type": "code",
   "execution_count": null,
   "id": "0e400c7d",
   "metadata": {
    "colab": {
     "base_uri": "https://localhost:8080/"
    },
    "execution": {
     "iopub.execute_input": "2025-09-06T21:12:12.135030Z",
     "iopub.status.busy": "2025-09-06T21:12:12.134031Z",
     "iopub.status.idle": "2025-09-06T21:12:12.162031Z",
     "shell.execute_reply": "2025-09-06T21:12:12.161030Z"
    },
    "executionInfo": {
     "elapsed": 35,
     "status": "ok",
     "timestamp": 1756043827829,
     "user": {
      "displayName": "Scott Clement",
      "userId": "09077177954652264696"
     },
     "user_tz": 420
    },
    "id": "W5_MKMebLT1z",
    "outputId": "4d2f3fdd-dc8e-4f36-cab5-2a67930e0d36"
   },
   "outputs": [],
   "source": [
    "def find_outliers(df, column):\n",
    "    Q1 = df[column].quantile(0.25)\n",
    "    Q3 = df[column].quantile(0.75)\n",
    "    IQR = Q3 - Q1\n",
    "    lower_bound = Q1 - 1.5 * IQR\n",
    "    upper_bound = Q3 + 1.5 * IQR\n",
    "\n",
    "    print(f'Lower Bound: {lower_bound}')\n",
    "    df_lower = df[df[column] < lower_bound]\n",
    "    if df_lower[column].count() > 0:\n",
    "        print(f'Number of records below Lower Bound: {df_lower[column].count()}')\n",
    "        print(df_lower[column])\n",
    "    else:\n",
    "        print(f'Number of records below Lower Bound: {df_lower[column].count()}')\n",
    "\n",
    "    print(f'Upper Bound: {upper_bound}')\n",
    "    df_upper = df[df[column] > upper_bound]\n",
    "    if df_upper[column].count() > 0:\n",
    "        print(f'Number of records above Upper Bound: {df_upper[column].count()}')\n",
    "        print(df_upper[column])\n",
    "    else:\n",
    "        print(f'Number of records above Upper Bound: {df_upper[column].count()}')\n",
    "\n",
    "    #print(df[(df[column] >= lower_bound) & (df[column] <= upper_bound)][column].count())\n",
    "\n",
    "variables = ['Age','Income','Total_Purchases','Total_Spending']\n",
    "for var in variables:\n",
    "    print(f'\\n{var}')\n",
    "    find_outliers(df, var)\n",
    "\n",
    "# Results from the plots and outlier calculations show that for the variables Total_Purchases and Total_Spending\n",
    "# It does not make sense to remove any outliers. While the data is skewed the outlier data is relevant.\n",
    "\n",
    "# For the variables Age and Income different results are shown.\n",
    "# - For Age the 3 outlier values seem to be erroneous since the ages are above 93.\n",
    "#   The suggestion is to remove these rows.\n",
    "# - For Income 1 of the 8 values seems to be erroneous or at least drastically different than the rest\n",
    "#   of the data.\n",
    "#   The suggestion is to remove the rows with Income outliers above the upper bound"
   ]
  },
  {
   "cell_type": "code",
   "execution_count": null,
   "id": "a600895e",
   "metadata": {
    "execution": {
     "iopub.execute_input": "2025-09-06T21:12:12.164031Z",
     "iopub.status.busy": "2025-09-06T21:12:12.164031Z",
     "iopub.status.idle": "2025-09-06T21:12:12.194033Z",
     "shell.execute_reply": "2025-09-06T21:12:12.193029Z"
    },
    "executionInfo": {
     "elapsed": 56,
     "status": "ok",
     "timestamp": 1756043827911,
     "user": {
      "displayName": "Scott Clement",
      "userId": "09077177954652264696"
     },
     "user_tz": 420
    },
    "id": "EiBuXa6DLT1z"
   },
   "outputs": [],
   "source": [
    "# Remove the outliers for Age and Income\n",
    "\n",
    "def remove_outliers(df, column):\n",
    "    Q1 = df[column].quantile(0.25)\n",
    "    Q3 = df[column].quantile(0.75)\n",
    "    IQR = Q3 - Q1\n",
    "    lower_bound = Q1 - 1.5 * IQR\n",
    "    upper_bound = Q3 + 1.5 * IQR\n",
    "    return df[(df[column] >= lower_bound) & (df[column] <= upper_bound)]\n",
    "\n",
    "variables = ['Age','Income']\n",
    "for var in variables:\n",
    "    df = remove_outliers(df, var)\n",
    "\n",
    "# Final Check to see if there are any negative values for age, income, total purchases, or total spending\n",
    "variables = ['Age','Income','Total_Purchases','Total_Spending']\n",
    "for var in variables:\n",
    "    print(df[df[var]<0][var].count())"
   ]
  },
  {
   "cell_type": "code",
   "execution_count": null,
   "id": "6fba2d4f",
   "metadata": {
    "colab": {
     "base_uri": "https://localhost:8080/",
     "height": 0
    },
    "execution": {
     "iopub.execute_input": "2025-09-06T21:12:12.196032Z",
     "iopub.status.busy": "2025-09-06T21:12:12.196032Z",
     "iopub.status.idle": "2025-09-06T21:12:13.779356Z",
     "shell.execute_reply": "2025-09-06T21:12:13.778352Z"
    },
    "executionInfo": {
     "elapsed": 1216,
     "status": "ok",
     "timestamp": 1756043829173,
     "user": {
      "displayName": "Scott Clement",
      "userId": "09077177954652264696"
     },
     "user_tz": 420
    },
    "id": "F9U-DguOLT1z",
    "outputId": "7299c43e-c2a5-480c-d687-df201ac7a889"
   },
   "outputs": [],
   "source": [
    "# Visualizations - Box Plots, Histograms, and Density Plots post removal of outlier values\n",
    "\n",
    "reset_plot_settings()\n",
    "\n",
    "variables = ['Age','Income','Total_Purchases','Total_Spending']\n",
    "titles = ['Age','Income','Total Purchases','Total Spending']\n",
    "units = ['Years','USD','Number','USD']\n",
    "\n",
    "# Create a 4x3 subplot grid\n",
    "fig, axes = plt.subplots(nrows=4, ncols=2, figsize=(12,12))\n",
    "\n",
    "for i, var in enumerate(variables):\n",
    "    # Boxplot\n",
    "    sns.boxplot(y=df[var], ax=axes[i,0], color='skyblue')\n",
    "    axes[i,0].set_title(f'{titles[i]} Boxplot')\n",
    "    axes[i,0].set_ylabel(units[i])\n",
    "\n",
    "    # Histogram with KDE overlay\n",
    "    sns.histplot(data=df, x=var, ax=axes[i,1], bins=30, color='salmon', stat='density')\n",
    "    sns.kdeplot(data=df, x=var, ax=axes[i,1], color='navy', linewidth=2)\n",
    "    axes[i,1].set_title(f'{titles[i]} Histogram with KDE')\n",
    "    axes[i,1].set_xlabel(units[i])\n",
    "\n",
    "# Adjust layout to prevent overlap\n",
    "plt.tight_layout()\n",
    "fig.savefig('figures/Age_and_Income_Plots_Post_Outlier_Removal.png', dpi=300, bbox_inches='tight')\n",
    "plt.show()\n",
    "\n",
    "# After removing outliers from Age and Income the box and histogram plots look\n",
    "# more like a normal curve. However Total Purchases and Total Spending are still\n",
    "# very heavilty right skewed."
   ]
  },
  {
   "cell_type": "code",
   "execution_count": null,
   "id": "e8789974",
   "metadata": {
    "execution": {
     "iopub.execute_input": "2025-09-06T21:12:13.781354Z",
     "iopub.status.busy": "2025-09-06T21:12:13.781354Z",
     "iopub.status.idle": "2025-09-06T21:12:13.903359Z",
     "shell.execute_reply": "2025-09-06T21:12:13.902352Z"
    }
   },
   "outputs": [],
   "source": [
    "median_pivot = df.pivot_table(\n",
    "    values=\"Income\", index=\"Marital_Status\", columns=\"Education\", aggfunc=\"median\"\n",
    ").round(2)\n",
    "\n",
    "print(\"\\nMedian Income Pivot Table:\")\n",
    "print(median_pivot)\n",
    "# The categorical median has been retained after removing the outliers except for the Divorced-Bachelors category where it has gone from 55635.00 to 55599.00 as seen in the updated pivot table.\n",
    "median_pivot = df.pivot_table(\n",
    "    values=\"Income\", index=\"Marital_Status\", columns=\"Education\", aggfunc=\"median\"\n",
    ").round(2)\n",
    "\n",
    "print(\"\\nMedian Income Pivot Table:\")\n",
    "print(median_pivot)\n",
    "# The categorical median has been retained after removing the outliers except for the Divorced-Bachelors category where it has gone from 55635.00 to 55599.00 as seen in the updated pivot table."
   ]
  },
  {
   "cell_type": "code",
   "execution_count": null,
   "id": "127dd675",
   "metadata": {
    "execution": {
     "iopub.execute_input": "2025-09-06T21:12:13.906355Z",
     "iopub.status.busy": "2025-09-06T21:12:13.905358Z",
     "iopub.status.idle": "2025-09-06T21:12:13.918356Z",
     "shell.execute_reply": "2025-09-06T21:12:13.917354Z"
    }
   },
   "outputs": [],
   "source": [
    "\n",
    "# Save results for next notebook\n",
    "save_intermediate_results(df, 'data_from_06_step_4.pkl', config)\n",
    "# save_intermediate_results(analysis_results, 'analysis_results.pkl', config)\n",
    "print('✓ Results saved for next notebook')"
   ]
  }
 ],
 "metadata": {
  "kernelspec": {
   "display_name": ".venv",
   "language": "python",
   "name": "python3"
  },
  "language_info": {
   "codemirror_mode": {
    "name": "ipython",
    "version": 3
   },
   "file_extension": ".py",
   "mimetype": "text/x-python",
   "name": "python",
   "nbconvert_exporter": "python",
   "pygments_lexer": "ipython3",
   "version": "3.10.11"
  }
 },
 "nbformat": 4,
 "nbformat_minor": 4
}