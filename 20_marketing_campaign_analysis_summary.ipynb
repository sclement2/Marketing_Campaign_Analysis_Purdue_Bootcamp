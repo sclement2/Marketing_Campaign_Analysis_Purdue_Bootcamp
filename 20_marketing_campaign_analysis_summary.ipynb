{
 "cells": [
  {
   "cell_type": "markdown",
   "id": "04e73acb",
   "metadata": {},
   "source": [
    "# Marketing Campaign Analysis\n",
    "\n",
    "Section: Marketing Campaign Analysis\n",
    "\n",
    "**Part of:** [marketing_campaign_082825_working.ipynb](./marketing_campaign_082825_working.ipynb)"
   ]
  },
  {
   "cell_type": "markdown",
   "id": "745b6f6a",
   "metadata": {
    "id": "JGEt5Z8GdgFD"
   },
   "source": [
    "## Marketing Campaign Analysis - Exploratory Data Analysis, Hypothesis Testing and Additional Visualizations\n",
    "\n",
    "The complete set of notebooks performs exploratory data analysis and hypothesis testing on marketing campaign data to understand customer acquisition factors. The summarized results for EDA are presented below. The hypothesis testing and additional visualizations are in separate notebooks. Together, these 3 notebooks provide the results of comprehensive analysis of the marketing campaign data."
   ]
  },
  {
   "cell_type": "markdown",
   "id": "d7f385dc",
   "metadata": {},
   "source": [
    "#### Summary Notebooks\n",
    "1. 01_marketing_campaign_analysis.ipynb - Exploratory Data Analysis\n",
    "2. 09_step_7_hypothesis_testing.ipynb - Hypothesis Testing\n",
    "3. 14_step_8_additional_visualizations.ipynb - Additional Visualizations"
   ]
  },
  {
   "cell_type": "markdown",
   "id": "2e245268",
   "metadata": {},
   "source": [
    "#### Working Notebooks\n",
    "Please refer to the individual notebooks for detailed analysis, code, and visualizations.\n",
    "- EDA Notebooks:\n",
    "  - 02_step_0_load_and_investigate_the_data.ipynb\n",
    "  - 03_step_1_examine_dt_customer_and_income.ipynb\n",
    "  - 04_step_2_missing_value_imputation.ipynb\n",
    "  - 05_step_3_feature_engineering.ipynb\n",
    "  - 06_step_4_visualizations_box_plots_histograms_and_den.ipynb\n",
    "  - 07_step_5_encoding_categorical_variables.ipynb\n",
    "  - 08_step_6_correlation_heatmap.ipynb\n",
    "- Hypothesis Testing Notebooks:\n",
    "  - 10_older_individuals_prefer_in_store_shopping.ipynb\n",
    "  - 11_customers_with_children_prefer_online_shopping.ipynb\n",
    "  - 12_store_sales_cannibalization_by_alternative_distrib.ipynb\n",
    "  - 13_us_versus_the_rest_of_the_world_in_total_purchases.ipynb\n",
    "- Additional Visualizations Notebooks:\n",
    "  - 15_identify_the_top_performing_products_and_those_wit.ipynb\n",
    "  - 16_examine_if_there_is_a_correlation_between_customer.ipynb\n",
    "  - 17_determine_the_country_with_the_highest_number_of_c.ipynb\n",
    "  - 18_investigate_if_there_is_a_discernible_pattern_in_t.ipynb\n",
    "  - 19_analyze_the_educational_background_of_customers_wh.ipynb\n",
    "  \n"
   ]
  },
  {
   "cell_type": "markdown",
   "id": "243d789f-92e9-40c5-a9d4-10309b4bd669",
   "metadata": {},
   "source": [
    "# Step 0: Load and Investigate the Data"
   ]
  },
  {
   "cell_type": "markdown",
   "id": "fff4928c-d49f-47a9-9d72-3b69d4c59cb2",
   "metadata": {},
   "source": [
    "- Load the data\n",
    "- Fix the Income column name to remove the spaces in the column name"
   ]
  },
  {
   "cell_type": "markdown",
   "id": "790507d0-be23-4180-b201-09a9ce76388a",
   "metadata": {},
   "source": [
    "**Data columns (total 28 columns):**"
   ]
  },
  {
   "cell_type": "markdown",
   "id": "82f27388-f981-4846-a475-1fe1ad93c53b",
   "metadata": {},
   "source": [
    "|#   |Column              |Non-Null Count |Dtype| \n",
    "|----|--------------------|---------------|-----| \n",
    "|0   |ID                  |2240 non-null  |int64| \n",
    "|1   |Year_Birth          |2240 non-null  |int64|\n",
    "|2   |Education           |2240 non-null  |object|\n",
    "|3   |Marital_Status      |2240 non-null  |object|\n",
    "|4   |Income              |2216 non-null  |object|\n",
    "|5   |Kidhome             |2240 non-null  |int64| \n",
    "|6   |Teenhome            |2240 non-null  |int64| \n",
    "|7   |Dt_Customer         |2240 non-null  |object|\n",
    "|8   |Recency             |2240 non-null  |int64| \n",
    "|9   |MntWines            |2240 non-null  |int64| \n",
    "|10  |MntFruits           |2240 non-null  |int64| \n",
    "|11  |MntMeatProducts     |2240 non-null  |int64| \n",
    "|12  |MntFishProducts     |2240 non-null  |int64| \n",
    "|13  |MntSweetProducts    |2240 non-null  |int64| \n",
    "|14  |MntGoldProds        |2240 non-null  |int64| \n",
    "|15  |NumDealsPurchases   |2240 non-null  |int64| \n",
    "|16  |NumWebPurchases     |2240 non-null  |int64| \n",
    "|17  |NumCatalogPurchases |2240 non-null  |int64| \n",
    "|18  |NumStorePurchases   |2240 non-null  |int64| \n",
    "|19  |NumWebVisitsMonth   |2240 non-null  |int64| \n",
    "|20  |AcceptedCmp3        |2240 non-null  |int64| \n",
    "|21  |AcceptedCmp4        |2240 non-null  |int64| \n",
    "|22  |AcceptedCmp5        |2240 non-null  |int64| \n",
    "|23  |AcceptedCmp1        |2240 non-null  |int64| \n",
    "|24  |AcceptedCmp2        |2240 non-null  |int64| \n",
    "|25  |Response            |2240 non-null  |int64| \n",
    "|26  |Complain            |2240 non-null  |int64| \n",
    "|27  |Country             |2240 non-null  |object|"
   ]
  },
  {
   "cell_type": "markdown",
   "id": "4e24321a-41b2-4c4c-9a25-33ace1f6c9db",
   "metadata": {},
   "source": [
    "---"
   ]
  },
  {
   "cell_type": "markdown",
   "id": "b3b02a06-819a-4ab6-89e4-780d725e4780",
   "metadata": {},
   "source": [
    "# Step 1: Examine Dt_Customer and Income"
   ]
  },
  {
   "cell_type": "markdown",
   "id": "b8979b99-de5d-4411-ad36-2274523b5ddc",
   "metadata": {},
   "source": [
    "- Converting Dt_Customer to datetime\n",
    "- Cleaning Income Column"
   ]
  },
  {
   "cell_type": "markdown",
   "id": "e9a138e0-7375-42ff-8efd-7620ab87d8f0",
   "metadata": {},
   "source": [
    "# Step 2: Missing Value Imputation"
   ]
  },
  {
   "cell_type": "markdown",
   "id": "f4ad76a8-5202-4361-8ce2-b343263ba3bd",
   "metadata": {},
   "source": [
    "## Data Cleaning\n",
    "The instructions emphasize cleaning the Education and Marital Status categories and use those categories for Income Value Imputation."
   ]
  },
  {
   "cell_type": "markdown",
   "id": "05c5c8bc-ed5d-4fe0-8bbc-0d04f85642e5",
   "metadata": {},
   "source": [
    "#### Here’s how cleansing the Education values was undertaken:\n",
    "- The presence of 2n Cycle alongside Master suggests potential redundancy, as both likely refer to postgraduate education. Basic is vague and may need clarification or standardization.\n",
    "  - Merge 2n Cycle with Master: Since 2n Cycle corresponds to a Master’s degree in the Bologna Process, combining it with Master standardizes the category to a more universally recognized term.\n",
    "- Clarify Basic: Without additional context, Basic likely represents education below a Bachelor’s degree\n",
    "  - (e.g., high school or less). It will be renamed to something clearer: \"Secondary\"\n",
    "- Retain Graduation and rename to Bachelor"
   ]
  },
  {
   "cell_type": "markdown",
   "id": "b3c02b47-61d6-4b42-acc8-6098a79eec4f",
   "metadata": {},
   "source": [
    "#### Original Education values: \n",
    "|Value         |Count|\n",
    "|--------------|-----|\n",
    "|Graduation    |1127|\n",
    "|PhD            |486|\n",
    "|Master         |370|\n",
    "|2n Cycle       |203|\n",
    "|Basic           |54|\n",
    "\n",
    "\n",
    "#### Cleaned Education values:\n",
    "|Value         |Count|\n",
    "|--------------|-----|\n",
    "|Bachelor     |1127|\n",
    "|Master        |573|\n",
    "|PhD           |486|\n",
    "|Secondary      |54|\n"
   ]
  },
  {
   "cell_type": "markdown",
   "id": "b49ae049-2549-41d4-b8ae-91484fa16147",
   "metadata": {},
   "source": [
    "#### The cleaning process used for merging non-standard categories in the Marital Status column"
   ]
  },
  {
   "cell_type": "markdown",
   "id": "deaf10e5-4a79-4430-9bfa-8c0367de4a31",
   "metadata": {},
   "source": [
    "- Merge (YOLO, Alone, Absurd) into a standard one (Single), reducing redundancy:\n",
    "  - YOLO (2 entries): Likely a joke or informal entry implying a single. Merging into Single.\n",
    "  - Alone (3 entries): Implies no partner, aligning with Single. Merging into Single.\n",
    "  - Absurd (2 entries): Ambiguous, but with such low frequency, it’s likely an error or non-standard\n",
    "- Retain Married, Together, Divorced, and Widow as distinct categories, as they reflect standard marital statuses.\n",
    "  - Married: 864 (standard, refers to legally married individuals)\n",
    "  - Together: 580 (likely refers to cohabiting partners, not legally married)\n",
    "  - Divorced: 232 (standard, refers to legally divorced individuals)\n",
    "  - Widow: 77 (standard, refers to individuals whose spouse has passed away)"
   ]
  },
  {
   "cell_type": "markdown",
   "id": "32e56cad-537e-4bb3-b0c6-920a27844064",
   "metadata": {},
   "source": [
    "#### Original Marital Status values:\n",
    "|Value      |Count|\n",
    "|-----------|-----|\n",
    "|Married    | 864|\n",
    "|Together   | 580|\n",
    "|Single     | 480|\n",
    "|Divorced   | 232|\n",
    "|Widow      | 77|\n",
    "|Alone      | 3|\n",
    "|YOLO       | 2|\n",
    "|Absurd     | 2|\n",
    "\n",
    "#### Cleaned Marital_Status values:\n",
    "|Value       |Count|\n",
    "|------------|-----|\n",
    "|Married     | 864|\n",
    "|Together    | 580|\n",
    "|Single      | 487|\n",
    "|Divorced    | 232|\n",
    "|Widow      | 77|"
   ]
  },
  {
   "cell_type": "markdown",
   "id": "8cd8b7dd-90da-471e-9d19-99af50b36dbf",
   "metadata": {},
   "source": [
    "#### Calculate mean and median income by Marital Status and Education\n",
    "\n",
    "**Mean Income Pivot Table:**\n",
    "|Marital_Status |Bachelor    |Master       |PhD         |Secondary   |\n",
    "|----------------|------------|-------------|------------|------------|\n",
    "|Divorced        |54526.04   |49972.83    |53096.62   |9548.00    |\n",
    "|Married         |50800.26   |50686.06    |58138.03   |21960.50   |\n",
    "|Single          |51365.63   |53751.08    |53039.67   |18238.67   |\n",
    "|Together        |55758.48   |49495.94    |56041.42   |21240.07   |\n",
    "|Widow           |54976.66   |56211.12    |60288.08   |22123.00   |\n",
    "\n",
    "**Median Income Pivot Table:**\n",
    "| Marital_Status       | Bachelor   | Master      | PhD       | Secondary  |\n",
    "|-----------------|------------|-------------|-----------|------------|\n",
    "| Divorced        | 55635.00   | 49297.00    | 50613.50  | 9548.00    |\n",
    "| Married         | 50737.00   | 50017.00    | 57081.50  | 22352.00   |\n",
    "| Single          | 49973.50   | 49514.00    | 48918.00  | 16383.00   |\n",
    "| Together       | 53977.00   | 47586.50    | 56756.00  | 23179.00   |\n",
    "| Widow          | 58275.00   | 51459.50    | 57032.00  | 22123.00   |"
   ]
  },
  {
   "cell_type": "markdown",
   "id": "da9b353a-134b-46d0-bfb3-957284202493",
   "metadata": {},
   "source": [
    "#### Missing Value Imputation"
   ]
  },
  {
   "cell_type": "markdown",
   "id": "8a2867ad-0975-4070-b0f8-48a72b8636a1",
   "metadata": {},
   "source": [
    "**Basic Statistical Data for Income column:**\n",
    "|Statistic | Value      |\n",
    "|----------|-----------|\n",
    "|count      |2216.00|\n",
    "|mean      |52247.25|\n",
    "|std       |25173.08|\n",
    "|min        |1730.00|\n",
    "|25%       |35303.00|\n",
    "|50%       |51381.50|\n",
    "|75%       |68522.00|\n",
    "|max       |666666.00|\n",
    "|skew      | 6.76      |\n",
    "|NaN count | 24        |\n",
    "\n",
    "The skewness value of 6.76 indicates extremely high positive skewness in income distribution\n",
    "- Mean income will be substantially higher than median income\n",
    "- Standard deviation may not accurately represent typical variation\n",
    "- The bulk of data points cluster at lower income levels\n",
    "- Use median instead of mean as a measure of central tendency\n",
    "\n",
    "\n",
    "**Conclusion**: Impute missing Income values using the median income for the appropriate Education and Maritial_Status categories"
   ]
  },
  {
   "cell_type": "markdown",
   "id": "45b986c9-2d11-49e5-a0c5-ab708eabd1b7",
   "metadata": {},
   "source": [
    "#### Basic Statistical Data for Income column after imputation:\n",
    "| Statistic | Value      |\n",
    "|-----------|------------|\n",
    "| count     | 2240.00    |\n",
    "| mean      | 52229.62   |\n",
    "| std       | 25040.06   |\n",
    "| min       | 1730.00    |\n",
    "| 25%       | 35538.75   |\n",
    "| 50%       | 51222.50   |\n",
    "| 75%       | 68289.75   |\n",
    "| max       | 666666.00  |\n",
    "\n",
    "Notice the count value has increased from 2216 to 2240 which has also altered the _overall_ mean and median"
   ]
  },
  {
   "cell_type": "markdown",
   "id": "1154506f-cf17-4800-9806-742e933c85c5",
   "metadata": {},
   "source": [
    "#### Median Income Pivot Table After Imputation:\n",
    "|Marital_Status  |Bachelor   |Master      |PhD        |Secondary  |\n",
    "|----------------|-----------|------------|-----------|-----------|\n",
    "|Divorced        |55635.00   |49297.00    |50613.50   |9548.00    |\n",
    "|Married         |50737.00   |50017.00    |57081.50   |22352.00   |\n",
    "|Single          |49973.50   |49514.00    |48918.00   |16383.00   |\n",
    "|Together        |53977.00   |47586.50    |56756.00   |23179.00   |\n",
    "|Widow           |58275.00   |51459.50    |57032.00   |22123.00   |\n",
    "\n",
    "The categorical median has been retained as seen in the updated pivot table"
   ]
  },
  {
   "cell_type": "markdown",
   "id": "440727b2-1e50-4b80-b1ca-2b2dde8b2e8f",
   "metadata": {},
   "source": [
    "# Step 3: Feature Engineering"
   ]
  },
  {
   "cell_type": "markdown",
   "id": "6d75c570",
   "metadata": {},
   "source": [
    "#### Create new features for Age, Total Children, Total Spending, and Total Purchases"
   ]
  },
  {
   "cell_type": "code",
   "execution_count": 1,
   "id": "953e6e09-a2b0-46bf-aa52-a573cf0be600",
   "metadata": {},
   "outputs": [],
   "source": [
    "# current_year = 2025\n",
    "# df['Age'] = current_year - df['Year_Birth']\n",
    "# df['Total_Children'] = df['Kidhome'] + df['Teenhome']\n",
    "# df['Total_Spending'] = df[['MntWines', 'MntFruits', 'MntMeatProducts',\n",
    "#                          'MntFishProducts', 'MntSweetProducts',\n",
    "#                          'MntGoldProds']].sum(axis=1)\n",
    "#df['Total_Purchases'] = df[['NumWebPurchases', 'NumCatalogPurchases',\n",
    "#                            'NumStorePurchases']].sum(axis=1)"
   ]
  },
  {
   "cell_type": "markdown",
   "id": "ade691ea-6664-4e6f-9ab4-01ba76f72041",
   "metadata": {},
   "source": [
    "# Step 4: Visualizations"
   ]
  },
  {
   "cell_type": "markdown",
   "id": "0485b1fe",
   "metadata": {},
   "source": [
    "### Original Plots for Age, Income, Total Purchases, Total Spending"
   ]
  },
  {
   "cell_type": "markdown",
   "id": "e42fcc34-cbc0-4a29-bb01-c2bb7103f185",
   "metadata": {},
   "source": [
    "![Original Age and Income Plots](figures/Original_Age_and_Income_Plots.png)"
   ]
  },
  {
   "cell_type": "markdown",
   "id": "697c1ab3-6224-4fa7-8283-bc45fda553c6",
   "metadata": {},
   "source": [
    "### Outlier Calculations and Data Modification"
   ]
  },
  {
   "cell_type": "markdown",
   "id": "8b384427",
   "metadata": {},
   "source": [
    "**Formula for identifying outliers using the IQR method:**"
   ]
  },
  {
   "cell_type": "markdown",
   "id": "548de7c2-6b32-4d9f-af34-2a840f2c772e",
   "metadata": {},
   "source": [
    "```\n",
    "Q1 = df[column].quantile(0.25)\n",
    "Q3 = df[column].quantile(0.75)\n",
    "IQR = Q3 - Q1\n",
    "lower_bound = Q1 - 1.5 * IQR\n",
    "upper_bound = Q3 + 1.5 * IQR\n",
    "```"
   ]
  },
  {
   "cell_type": "markdown",
   "id": "98d609a2-1831-47da-b0f5-5a389ea660e7",
   "metadata": {},
   "source": [
    "**Age**\n",
    "<br>\n",
    "\n",
    "_Lower Bound: 21.0_\n",
    "- Number of records below Lower Bound: 0\n",
    "- Number of records less than 0: 0\n",
    "<br>\n",
    "\n",
    "_Upper Bound: 93.0_\n",
    "- Number of records above Upper Bound: 3\n",
    "  - 132\n",
    "  - 126\n",
    "  - 125\n",
    " \n",
    "**Income**\n",
    "<br>\n",
    "\n",
    "_Lower Bound: -$13587.75_\n",
    "- Number of records below Lower Bound: 0\n",
    "- Number of records less than 0: 0\n",
    "<br>\n",
    "\n",
    "_Upper Bound: $117416.25_\n",
    "- Number of records above Upper Bound: 8\n",
    "  - $157146.00\n",
    "  - $160803.00\n",
    "  - $666666.00\n",
    "  - $162397.00\n",
    "  - $157733.00\n",
    "  - $153924.00\n",
    "  - $156924.00\n",
    "  - $157243.00\n",
    " \n",
    "**Total_Purchases**\n",
    "<br>\n",
    "\n",
    "_Lower Bound: -12_\n",
    "- Number of records below Lower Bound: 0\n",
    "- Number of records less than 0: 0\n",
    "<br>\n",
    "\n",
    "_Upper Bound: 36_\n",
    "- Number of records above Upper Bound: 0\n",
    "\n",
    "**Total_Spending**\n",
    "<br>\n",
    "\n",
    "_Lower Bound: -$1396.38_\n",
    "- Number of records below Lower Bound: 0\n",
    "- Number of records less than 0: 0\n",
    "<br>\n",
    "\n",
    "_Upper Bound: $2510.63_\n",
    "- Number of records above Upper Bound: 3\n",
    "  - $2525.00\n",
    "  - $2525.00\n",
    "  - $2524.00"
   ]
  },
  {
   "cell_type": "markdown",
   "id": "ecffd037-4586-441c-848c-2bd0b9f77d68",
   "metadata": {},
   "source": [
    "Results from the plots and outlier calculations show that for the variables Total_Purchases and Total_Spending it does not make sense to remove any outliers. While the data is skewed the outlier data is relevant.\n",
    "\n",
    "For the variables Age and Income different results are shown.\n",
    "- For Age the 3 outlier values seem to be erroneous since the ages are above 93.\n",
    "  - The suggestion is to remove these rows.\n",
    "- For Income 1 of the 8 values seems to be erroneous or at least drastically different than the rest of the data.\n",
    "  - The suggestion is to remove the rows with Income outliers above the upper bound"
   ]
  },
  {
   "cell_type": "markdown",
   "id": "aa474c7c",
   "metadata": {},
   "source": [
    "#### Median Income Pivot Table After Imputation:\n",
    "|Marital_Status  |Bachelor   |Master      |PhD        |Secondary  |\n",
    "|----------------|-----------|------------|-----------|-----------|\n",
    "|Divorced        |55635.00   |49297.00    |50613.50   |9548.00    |\n",
    "|Married         |50737.00   |50017.00    |57081.50   |22352.00   |\n",
    "|Single          |49973.50   |49514.00    |48918.00   |16383.00   |\n",
    "|Together        |53977.00   |47586.50    |56756.00   |23179.00   |\n",
    "|Widow           |58275.00   |51459.50    |57032.00   |22123.00   |\n",
    "\n",
    "#### Median Income Pivot Table After Removing Outliers:\n",
    "|Marital_Status  |Bachelor   |Master      |PhD        |Secondary  |\n",
    "|----------------|-----------|------------|-----------|-----------|\n",
    "|Divorced        |55599.00   |49476.00    |50613.50   |9548.00    |\n",
    "|Married         |50737.00   |50017.00    |57072.00   |22352.00   |\n",
    "|Single          |49973.50   |49514.00    |48918.00   |16383.00   |\n",
    "|Together        |53977.00   |47586.50    |56575.00   |23179.00   |\n",
    "|Widow           |58275.00   |51459.50    |57032.00   |22123.00   |\n",
    "\n",
    "The categorical median has been retained after removing the outliers except for the Divorced-Bachelors category where it has gone from 55635.00 to 55599.00 as seen in the updated pivot table."
   ]
  },
  {
   "cell_type": "markdown",
   "id": "836bd367",
   "metadata": {},
   "source": [
    "### Updated Plots for Age, Income, Total Purchases, Total Spending after Removing Outliers"
   ]
  },
  {
   "cell_type": "markdown",
   "id": "b8a785ab-2a7b-4445-ab09-eb9cb88e9e73",
   "metadata": {},
   "source": [
    "![Age and Income Plots_Post Outlier Removal](figures/Age_and_Income_Plots_Post_Outlier_Removal.png)"
   ]
  },
  {
   "cell_type": "markdown",
   "id": "ec8274db-902f-485d-ad18-66c42507e3fd",
   "metadata": {},
   "source": [
    "#### Conclusion: \n",
    "After removing outliers from Age and Income the box and histogram plots look more like a normal curve. However Total Purchases and Total Spending are still very heavily right skewed."
   ]
  },
  {
   "cell_type": "markdown",
   "id": "aa346287-7741-4b77-a286-25f419718c0e",
   "metadata": {},
   "source": [
    "# Step 5: Encoding Categorical Variables"
   ]
  },
  {
   "cell_type": "markdown",
   "id": "7026fcb0-760c-4924-ace6-cb25f9bfca12",
   "metadata": {},
   "source": [
    "### Ordinal encoding for Education"
   ]
  },
  {
   "cell_type": "markdown",
   "id": "e89b1756-9a7e-4491-b33a-df2b6ff4e1ef",
   "metadata": {},
   "source": [
    "```\n",
    "education_mapping = {'Secondary': 1, 'Bachelor': 2, 'Master': 3, 'PhD': 4}\n",
    "df['Education_Encoded'] = df['Education'].map(education_mapping)\n",
    "df.drop(columns=['Education'],inplace=True)\n",
    "```"
   ]
  },
  {
   "cell_type": "markdown",
   "id": "71e03315-519e-4190-87fd-aa07b9c207d0",
   "metadata": {},
   "source": [
    "### One-hot encoding for Marital_Status and Country"
   ]
  },
  {
   "cell_type": "markdown",
   "id": "8d83ed64-82e9-4269-9f3a-d99e083af171",
   "metadata": {},
   "source": [
    "```\n",
    "df = pd.get_dummies(df, columns=['Marital_Status', 'Country'], prefix=['Marital', 'Country'])\n",
    "\n",
    "Index(['ID', 'Year_Birth', 'Income', 'Kidhome', 'Teenhome', 'Dt_Customer',\n",
    "       'Recency', 'MntWines', 'MntFruits', 'MntMeatProducts',\n",
    "       'MntFishProducts', 'MntSweetProducts', 'MntGoldProds',\n",
    "       'NumDealsPurchases', 'NumWebPurchases', 'NumCatalogPurchases',\n",
    "       'NumStorePurchases', 'NumWebVisitsMonth', 'AcceptedCmp3',\n",
    "       'AcceptedCmp4', 'AcceptedCmp5', 'AcceptedCmp1', 'AcceptedCmp2',\n",
    "       'Response', 'Complain', 'Age', 'Total_Children', 'Total_Spending',\n",
    "       'Total_Purchases', 'Education_Encoded', 'Marital_Divorced',\n",
    "       'Marital_Married', 'Marital_Single', 'Marital_Together',\n",
    "       'Marital_Widow', 'Country_AUS', 'Country_CA', 'Country_GER',\n",
    "       'Country_IND', 'Country_ME', 'Country_SA', 'Country_SP', 'Country_US'],\n",
    "      dtype='object')\n",
    "```"
   ]
  },
  {
   "cell_type": "markdown",
   "id": "4e933918-fcc7-4e23-ba73-01d0a51a6725",
   "metadata": {},
   "source": [
    "# Step 6: Correlation Heatmaps"
   ]
  },
  {
   "cell_type": "markdown",
   "id": "fd507557-2bce-48a5-a9f9-dc05f6a2f490",
   "metadata": {},
   "source": [
    "### Base Correlation Heatmap"
   ]
  },
  {
   "cell_type": "markdown",
   "id": "c62812f3-cf99-4c45-936c-7fbe1d94781f",
   "metadata": {},
   "source": [
    "![Correlation Heatmap with Base Variables](figures/Correlation_Heatmap_Base_Variables.png)"
   ]
  },
  {
   "cell_type": "markdown",
   "id": "56636947-4543-4dd8-af4c-77834be1dc78",
   "metadata": {},
   "source": [
    "### Correlation Heatmap (Base Plus Products, Recency and Last Campaign Response)"
   ]
  },
  {
   "cell_type": "markdown",
   "id": "da2d4633-3be1-464b-b880-a2828bfdb2a7",
   "metadata": {},
   "source": [
    "![Correlation Heatmap - Base Plus Products, Recency and Last Campaign Response](figures/Correlation_Heatmap_Base_Plus_Products_Response.png)"
   ]
  },
  {
   "cell_type": "markdown",
   "id": "06e7b21a-dc0e-4b46-a5d3-085ffd95e155",
   "metadata": {},
   "source": [
    "### Correlation Heatmap (Base Plus Purchase Channels and Campaign Acceptance)"
   ]
  },
  {
   "cell_type": "markdown",
   "id": "8c7d4194-0e91-46e7-a879-a9befee12aec",
   "metadata": {},
   "source": [
    "![Correlation Heatmap - Base Plus Purchase Channels and Campaign Acceptance](figures/Correlation_Heatmap_Base_Plus_Channel_Campaign.png)"
   ]
  },
  {
   "cell_type": "markdown",
   "id": "20b40f53-cc43-4f20-97a0-f3e67b2a33ff",
   "metadata": {},
   "source": [
    "### Results"
   ]
  },
  {
   "cell_type": "markdown",
   "id": "2f265246-980c-4f14-8b6d-60efff34ba89",
   "metadata": {},
   "source": [
    "**Strong Positive Correlations (0.7+)**\n",
    "- Income-Spending Cluster: The strongest relationships center around income and spending patterns:\n",
    "  - Income ↔ Total_Spending (0.82): Higher income directly drives higher overall\n",
    "  - Income ↔ Total_Purchases (0.77): Wealthier customers make more transactions\n",
    "  - Total_Spending ↔ Total_Purchases (0.82): More spending correlates with more purchase events\n",
    "- Product Category Interconnections: Customers who buy one premium product category tend to buy others:\n",
    "  - MntWines ↔ Total_Spending (0.90): Wine purchases are the strongest predictor of total spending\n",
    "  - MntMeatProducts ↔ Total_Spending (0.85): Meat products also strongly correlate with overall spending\n",
    "  - Various product categories show moderate correlations (0.4-0.6), suggesting cross-category purchasing"
   ]
  },
  {
   "cell_type": "markdown",
   "id": "0bdfbed0-1c29-4adc-b9ad-d9ed65ba46ea",
   "metadata": {},
   "source": [
    "**Moderate Correlations (0.4-0.7)**\n",
    "- Purchase Channel Patterns:\n",
    "  - NumCatalogPurchases ↔ Income (0.71): Higher-income customers prefer catalog shopping\n",
    "  - NumWebPurchases ↔ Income (0.49): Web purchases also increase with income\n",
    "  - NumStorePurchases ↔ Income (0.68): Store visits correlate with income"
   ]
  },
  {
   "cell_type": "markdown",
   "id": "fba26366-bead-42bf-9c72-be52fd73e8f0",
   "metadata": {},
   "source": [
    "**Notable Negative Correlations**\n",
    "- Family Structure Impact:\n",
    "  - Total_Children ↔ Income (-0.35): More children correlates with lower income\n",
    "  - Total_Children ↔ Total_Spending (-0.50): Families with more children spend less overall\n",
    "  - NumWebVisitsMonth shows negative correlations with spending (-0.50) and purchases (-0.43): \n",
    "    More web browsing without purchasing suggests price sensitivity"
   ]
  },
  {
   "cell_type": "markdown",
   "id": "6e09fdb0-0e87-453c-ad93-d4c5cea7e9d0",
   "metadata": {},
   "source": [
    "**Weaker Relationships**\n",
    "- Campaign Response: Most campaign acceptance rates show weak correlations (0.1-0.4) with other variables, suggesting campaigns aren’t strongly tied to demographic or spending patterns.\n",
    "- Recency: Shows very weak correlations across the board, indicating recent purchase timing isn’t strongly predictive of other behaviors."
   ]
  }
 ],
 "metadata": {
  "kernelspec": {
   "display_name": ".venv",
   "language": "python",
   "name": "python3"
  },
  "language_info": {
   "codemirror_mode": {
    "name": "ipython",
    "version": 3
   },
   "file_extension": ".py",
   "mimetype": "text/x-python",
   "name": "python",
   "nbconvert_exporter": "python",
   "pygments_lexer": "ipython3",
   "version": "3.10.11"
  }
 },
 "nbformat": 4,
 "nbformat_minor": 5
}
