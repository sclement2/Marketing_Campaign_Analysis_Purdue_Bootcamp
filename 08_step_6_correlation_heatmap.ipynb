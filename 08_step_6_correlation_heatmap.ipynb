{
 "cells": [
  {
   "cell_type": "markdown",
   "id": "a8dc0f92",
   "metadata": {},
   "source": [
    "# Step 6: Correlation Heatmap\n",
    "\n",
    "Section: Step 6: Correlation Heatmap\n",
    "\n",
    "**Part of:** [marketing_campaign_082825_working.ipynb](./marketing_campaign_082825_working.ipynb)"
   ]
  },
  {
   "cell_type": "code",
   "execution_count": null,
   "id": "e3fa6f9f",
   "metadata": {
    "execution": {
     "iopub.execute_input": "2025-09-06T21:12:26.639137Z",
     "iopub.status.busy": "2025-09-06T21:12:26.638137Z",
     "iopub.status.idle": "2025-09-06T21:12:28.426594Z",
     "shell.execute_reply": "2025-09-06T21:12:28.425594Z"
    }
   },
   "outputs": [],
   "source": [
    "# Setup and data loading\n",
    "from utils import (\n",
    "    ProjectConfig,\n",
    "    load_intermediate_results,\n",
    "    save_intermediate_results,\n",
    "    save_project_figure,\n",
    "    reset_plot_settings,\n",
    ")\n",
    "import matplotlib.pyplot as plt\n",
    "import seaborn as sns\n",
    "\n",
    "config = ProjectConfig()\n",
    "# Load data from previous notebook\n",
    "df = load_intermediate_results('data_from_07_step_5.pkl', config)\n"
   ]
  },
  {
   "cell_type": "code",
   "execution_count": null,
   "id": "79e4d6c8-0f80-4bd0-9808-da7ec255fdcf",
   "metadata": {
    "execution": {
     "iopub.execute_input": "2025-09-06T21:12:28.428596Z",
     "iopub.status.busy": "2025-09-06T21:12:28.428596Z",
     "iopub.status.idle": "2025-09-06T21:12:29.198601Z",
     "shell.execute_reply": "2025-09-06T21:12:29.197593Z"
    }
   },
   "outputs": [],
   "source": [
    "# Base Correlation Heatmap\n",
    "reset_plot_settings()\n",
    "\n",
    "plt.figure(figsize=(12, 8))\n",
    "correlation_matrix = df[['Age', 'Income', 'Total_Children', 'Total_Spending',\n",
    "                        'Total_Purchases', 'Education_Encoded', 'Recency', 'Response']].corr()\n",
    "sns.heatmap(correlation_matrix, annot=True, cmap='coolwarm', center=0, vmin=-1, vmax=1, fmt='.2f')\n",
    "plt.title('Correlation Heatmap (Base Variables)')\n",
    "plt.tight_layout()\n",
    "save_project_figure(\n",
    "    \"Correlation_Heatmap_Base_Variables\",\n",
    "    \"Correlation Heatmap (Base Variables)\",\n",
    "    config,\n",
    ")\n",
    "plt.show()"
   ]
  },
  {
   "cell_type": "code",
   "execution_count": null,
   "id": "c6f22aca",
   "metadata": {
    "colab": {
     "base_uri": "https://localhost:8080/",
     "height": 0
    },
    "execution": {
     "iopub.execute_input": "2025-09-06T21:12:29.201594Z",
     "iopub.status.busy": "2025-09-06T21:12:29.201594Z",
     "iopub.status.idle": "2025-09-06T21:12:30.213717Z",
     "shell.execute_reply": "2025-09-06T21:12:30.212716Z"
    },
    "executionInfo": {
     "elapsed": 675,
     "status": "ok",
     "timestamp": 1756043829978,
     "user": {
      "displayName": "Scott Clement",
      "userId": "09077177954652264696"
     },
     "user_tz": 420
    },
    "id": "AcF5sIRRLT10",
    "outputId": "26632892-d24d-4218-a81b-4a74dd5d6826"
   },
   "outputs": [],
   "source": [
    "# Correlation Heatmap (Base Plus Products, Recency and Last Campaign Response)\n",
    "reset_plot_settings()\n",
    "\n",
    "plt.figure(figsize=(12, 8))\n",
    "correlation_matrix = df[['Age', 'Income', 'Total_Children', 'Total_Spending',\n",
    "                        'Total_Purchases', 'Education_Encoded', 'Recency', 'Response', 'MntWines', 'MntFruits', 'MntMeatProducts',\n",
    "       'MntFishProducts', 'MntSweetProducts', 'MntGoldProds']].corr()\n",
    "sns.heatmap(correlation_matrix, annot=True, cmap='coolwarm', center=0, vmin=-1, vmax=1, fmt='.2f')\n",
    "plt.title('Correlation Heatmap (Base Plus Products, Recency and Last Campaign Response)')\n",
    "plt.tight_layout()\n",
    "save_project_figure(\n",
    "    \"Correlation_Heatmap_Base_Plus_Products_Response\",\n",
    "    \"Correlation Heatmap (Base Plus Products, Recency and Last Campaign Response)\",\n",
    "    config,\n",
    ")\n",
    "plt.show()"
   ]
  },
  {
   "cell_type": "code",
   "execution_count": null,
   "id": "cc453ce1",
   "metadata": {
    "colab": {
     "base_uri": "https://localhost:8080/",
     "height": 0
    },
    "execution": {
     "iopub.execute_input": "2025-09-06T21:12:30.216734Z",
     "iopub.status.busy": "2025-09-06T21:12:30.216734Z",
     "iopub.status.idle": "2025-09-06T21:12:31.557558Z",
     "shell.execute_reply": "2025-09-06T21:12:31.556556Z"
    },
    "executionInfo": {
     "elapsed": 815,
     "status": "ok",
     "timestamp": 1756043830796,
     "user": {
      "displayName": "Scott Clement",
      "userId": "09077177954652264696"
     },
     "user_tz": 420
    },
    "id": "FIF9xUEdLT10",
    "outputId": "6efd139d-8059-4c71-ae3c-3a7ddb09151f"
   },
   "outputs": [],
   "source": [
    "# Correlation Heatmap (Base Plus Purchase Channels and Campaign Acceptance)\n",
    "reset_plot_settings()\n",
    "\n",
    "plt.figure(figsize=(12, 8))\n",
    "correlation_matrix = df[['Age', 'Income', 'Total_Children', 'Total_Spending',\n",
    "                         'Total_Purchases', 'Education_Encoded', 'NumDealsPurchases', 'NumWebPurchases',\n",
    "                         'NumCatalogPurchases','NumStorePurchases', 'NumWebVisitsMonth', 'Response', 'AcceptedCmp3',\n",
    "                         'AcceptedCmp4', 'AcceptedCmp5', 'AcceptedCmp1', 'AcceptedCmp2',]].corr()\n",
    "sns.heatmap(correlation_matrix, annot=True, cmap='coolwarm', center=0, vmin=-1, vmax=1, fmt='.2f')\n",
    "plt.title('Correlation Heatmap (Base Plus Purchase Channels and Campaign Acceptance)')\n",
    "plt.tight_layout()\n",
    "save_project_figure(\n",
    "    \"Correlation_Heatmap_Base_Plus_Channel_Campaign\",\n",
    "    \"Correlation Heatmap (Base Plus Purchase Channels and Campaign Acceptance)\",\n",
    "    config,\n",
    ")\n",
    "plt.show()"
   ]
  },
  {
   "cell_type": "code",
   "execution_count": null,
   "id": "9650628a",
   "metadata": {
    "execution": {
     "iopub.execute_input": "2025-09-06T21:12:31.560558Z",
     "iopub.status.busy": "2025-09-06T21:12:31.559557Z",
     "iopub.status.idle": "2025-09-06T21:12:31.573558Z",
     "shell.execute_reply": "2025-09-06T21:12:31.572556Z"
    }
   },
   "outputs": [],
   "source": [
    "# Save results for next notebook\n",
    "save_intermediate_results(df, 'data_from_08_step_6.pkl', config)\n",
    "print('✓ Results saved for next notebook')"
   ]
  }
 ],
 "metadata": {
  "kernelspec": {
   "display_name": ".venv",
   "language": "python",
   "name": "python3"
  },
  "language_info": {
   "codemirror_mode": {
    "name": "ipython",
    "version": 3
   },
   "file_extension": ".py",
   "mimetype": "text/x-python",
   "name": "python",
   "nbconvert_exporter": "python",
   "pygments_lexer": "ipython3",
   "version": "3.10.11"
  }
 },
 "nbformat": 4,
 "nbformat_minor": 5
}
