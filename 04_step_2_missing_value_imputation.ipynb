{
 "cells": [
  {
   "cell_type": "markdown",
   "id": "749b0fed",
   "metadata": {},
   "source": [
    "# Step 2: Missing Value Imputation\n",
    "\n",
    "Section: Step 2: Missing Value Imputation\n",
    "\n",
    "**Part of:** [marketing_campaign_082825_working.ipynb](./marketing_campaign_082825_working.ipynb)"
   ]
  },
  {
   "cell_type": "code",
   "execution_count": 1,
   "id": "c06dde7a",
   "metadata": {},
   "outputs": [],
   "source": [
    "# Setup and data loading\n",
    "from utils import ProjectConfig, load_intermediate_results, save_intermediate_results\n",
    "import pandas as pd\n",
    "\n",
    "config = ProjectConfig()\n",
    "# Load data from previous notebook\n",
    "df = load_intermediate_results('data_from_03_step_1.pkl', config)\n"
   ]
  },
  {
   "cell_type": "code",
   "execution_count": 2,
   "id": "c5c12d23",
   "metadata": {},
   "outputs": [
    {
     "name": "stdout",
     "output_type": "stream",
     "text": [
      "\n",
      "Skewness of Income distribution: 6.76\n"
     ]
    }
   ],
   "source": [
    "skewness = df[\"Income\"].skew()\n",
    "print(f\"\\nSkewness of Income distribution: {round(skewness, 2)}\")\n",
    "# The skewness value of 6.76 indicates extremely high positive skewness in income distribution\n",
    "# - Mean income will be substantially higher than median income\n",
    "# - Standard deviation may not accurately represent typical variation\n",
    "# - The bulk of data points cluster at lower income levels\n",
    "# - Use median instead of mean as a measure of central tendency"
   ]
  },
  {
   "cell_type": "code",
   "execution_count": 3,
   "id": "427bf639",
   "metadata": {
    "executionInfo": {
     "elapsed": 311,
     "status": "ok",
     "timestamp": 1756043827390,
     "user": {
      "displayName": "Scott Clement",
      "userId": "09077177954652264696"
     },
     "user_tz": 420
    },
    "id": "4hfCQ1Nm8ygG"
   },
   "outputs": [],
   "source": [
    "# Impute missing Income values using the median income for the appropriate Education and Maritial_Status categories\n",
    "income_median = df.groupby(['Education', 'Marital_Status'])['Income'].median()\n",
    "def impute_income(row):\n",
    "    if pd.isna(row['Income']):\n",
    "        try:\n",
    "            return income_median[row['Education'], row['Marital_Status']]\n",
    "        except KeyError:\n",
    "            return df['Income'].median()  # Fallback to overall mean if combination is missing\n",
    "    return row['Income']\n",
    "df['Income'] = df.apply(impute_income, axis=1)"
   ]
  },
  {
   "cell_type": "code",
   "execution_count": 4,
   "id": "aa4c0afe",
   "metadata": {
    "colab": {
     "base_uri": "https://localhost:8080/"
    },
    "executionInfo": {
     "elapsed": 51,
     "status": "ok",
     "timestamp": 1756043827401,
     "user": {
      "displayName": "Scott Clement",
      "userId": "09077177954652264696"
     },
     "user_tz": 420
    },
    "id": "QGgXWPdM9mYL",
    "outputId": "fb62d838-db43-4c06-fd68-8442bb447127"
   },
   "outputs": [
    {
     "name": "stdout",
     "output_type": "stream",
     "text": [
      "Missing values: 0\n",
      "Basic Statistical Data for Income column after imputation:\n",
      "count      2240.00\n",
      "mean      52229.62\n",
      "std       25040.06\n",
      "min        1730.00\n",
      "25%       35538.75\n",
      "50%       51222.50\n",
      "75%       68289.75\n",
      "max      666666.00\n",
      "Name: Income, dtype: float64\n"
     ]
    }
   ],
   "source": [
    "# Stats update post Input column update\n",
    "print(\"Missing values:\",df['Income'].isna().sum())\n",
    "print(\"Basic Statistical Data for Income column after imputation:\")\n",
    "print(df['Income'].describe().round(2))\n",
    "# Notice the count value has increased from 2216 to 2240 which has also altered the overall mean and median"
   ]
  },
  {
   "cell_type": "code",
   "execution_count": 5,
   "id": "361b4aea",
   "metadata": {
    "colab": {
     "base_uri": "https://localhost:8080/"
    },
    "executionInfo": {
     "elapsed": 64,
     "status": "ok",
     "timestamp": 1756043827435,
     "user": {
      "displayName": "Scott Clement",
      "userId": "09077177954652264696"
     },
     "user_tz": 420
    },
    "id": "fF9VxrAkAtea",
    "outputId": "d65c2671-7b6c-44f0-ebef-019a0782d8d0"
   },
   "outputs": [
    {
     "name": "stdout",
     "output_type": "stream",
     "text": [
      "\n",
      "Median Income Pivot Table:\n",
      "Education       Bachelor   Master      PhD  Secondary\n",
      "Marital_Status                                       \n",
      "Divorced         55635.0  49297.0  50613.5     9548.0\n",
      "Married          50737.0  50017.0  57081.5    22352.0\n",
      "Single           49973.5  49514.0  48918.0    16383.0\n",
      "Together         53977.0  47586.5  56756.0    23179.0\n",
      "Widow            58275.0  51459.5  57032.0    22123.0\n"
     ]
    }
   ],
   "source": [
    "median_pivot = df.pivot_table(values='Income', index='Marital_Status', columns='Education',\n",
    "                             aggfunc='median').round(2)\n",
    "\n",
    "print(\"\\nMedian Income Pivot Table:\")\n",
    "print(median_pivot)\n",
    "# The categorical median has been retained as seen in the updated pivot table"
   ]
  },
  {
   "cell_type": "code",
   "execution_count": 6,
   "id": "dea82c29",
   "metadata": {},
   "outputs": [
    {
     "name": "stdout",
     "output_type": "stream",
     "text": [
      "Saved: outputs\\data_from_04_step_2.pkl\n",
      "✓ Results saved for next notebook\n"
     ]
    }
   ],
   "source": [
    "\n",
    "# Save results for next notebook\n",
    "save_intermediate_results(df, 'data_from_04_step_2.pkl', config)\n",
    "print('✓ Results saved for next notebook')"
   ]
  }
 ],
 "metadata": {
  "kernelspec": {
   "display_name": ".venv",
   "language": "python",
   "name": "python3"
  },
  "language_info": {
   "codemirror_mode": {
    "name": "ipython",
    "version": 3
   },
   "file_extension": ".py",
   "mimetype": "text/x-python",
   "name": "python",
   "nbconvert_exporter": "python",
   "pygments_lexer": "ipython3",
   "version": "3.10.11"
  }
 },
 "nbformat": 4,
 "nbformat_minor": 5
}
