{
 "cells": [
  {
   "cell_type": "markdown",
   "id": "04e73acb",
   "metadata": {},
   "source": [
    "# Marketing Campaign Analysis\n",
    "\n",
    "Section: Marketing Campaign Analysis\n",
    "\n",
    "**Part of:** [marketing_campaign_082825_working.ipynb](./marketing_campaign_082825_working.ipynb)"
   ]
  },
  {
   "cell_type": "markdown",
   "id": "745b6f6a",
   "metadata": {
    "id": "JGEt5Z8GdgFD"
   },
   "source": [
    "## Marketing Campaign Analysis - Exploratory Data Analysis, Hypothesis Testing and Additional Visualizations\n",
    "\n",
    "The complete set of notebooks performs exploratory data analysis and hypothesis testing on marketing campaign data to understand customer acquisition factors. Together, the 3 summary notebooks provide the results of comprehensive analysis of the marketing campaign data."
   ]
  },
  {
   "cell_type": "markdown",
   "id": "d7f385dc",
   "metadata": {},
   "source": [
    "#### Summary Notebooks\n",
    "- [20_marketing_campaign_analysis_summary.ipynb](./20_marketing_campaign_analysis_summary.ipynb) - Exploratory Data Analysis\n",
    "- [21_step_7_hypothesis_testing_summary.ipynb](./21_step_7_hypothesis_testing_summary.ipynb) - Hypothesis Testing\n",
    "- [22_step_8_additional_visualizations_summary.ipynb](./22_step_8_additional_visualizations_summary.ipynb) - Additional Visualizations"
   ]
  },
  {
   "cell_type": "markdown",
   "id": "2e245268",
   "metadata": {},
   "source": [
    "#### Working Notebooks\n",
    "Please refer to the individual notebooks for detailed analysis, code, and visualizations.\n",
    "- EDA Notebooks:\n",
    "  - [01_marketing_campaign_analysis.ipynb](./01_marketing_campaign_analysis.ipynb)\n",
    "  - [02_step_0_load_and_investigate_the_data.ipynb](./02_step_0_load_and_investigate_the_data.ipynb)\n",
    "  - [03_step_1_examine_dt_customer_and_income.ipynb](./03_step_1_examine_dt_customer_and_income.ipynb)\n",
    "  - [04_step_2_missing_value_imputation.ipynb](./04_step_2_missing_value_imputation.ipynb)\n",
    "  - [05_step_3_feature_engineering.ipynb](./05_step_3_feature_engineering.ipynb)\n",
    "  - [06_step_4_visualizations_box_plots_histograms_and_den.ipynb](./06_step_4_visualizations_box_plots_histograms_and_den.ipynb)\n",
    "  - [07_step_5_encoding_categorical_variables.ipynb](./07_step_5_encoding_categorical_variables.ipynb)\n",
    "  - [08_step_6_correlation_heatmap.ipynb](./08_step_6_correlation_heatmap.ipynb)\n",
    "- Hypothesis Testing Notebooks:\n",
    "  - [09_step_7_hypothesis_testing.ipynb](./09_step_7_hypothesis_testing.ipynb)\n",
    "  - [10_older_individuals_prefer_in_store_shopping.ipynb](./10_older_individuals_prefer_in_store_shopping.ipynb)\n",
    "  - [11_customers_with_children_prefer_online_shopping.ipynb](./11_customers_with_children_prefer_online_shopping.ipynb)\n",
    "  - [12_store_sales_cannibalization_by_alternative_distrib.ipynb](./12_store_sales_cannibalization_by_alternative_distrib.ipynb)\n",
    "  - [13_us_versus_the_rest_of_the_world_in_total_purchases.ipynb](./13_us_versus_the_rest_of_the_world_in_total_purchases.ipynb)\n",
    "- Additional Visualizations Notebooks:\n",
    "  - [14_step_8_additional_visualizations.ipynb](./14_step_8_additional_visualizations.ipynb)\n",
    "  - [15_identify_the_top_performing_products_and_those_with.ipynb](./15_identify_the_top_performing_products_and_those_with.ipynb)\n",
    "  - [16_examine_if_there_is_a_correlation_between_customer.ipynb](./16_examine_if_there_is_a_correlation_between_customer.ipynb)\n",
    "  - [17_determine_the_country_with_the_highest_number_of_c.ipynb](./17_determine_the_country_with_the_highest_number_of_c.ipynb)\n",
    "  - [18_investigate_if_there_is_a_discernible_pattern_in_t.ipynb](./18_investigate_if_there_is_a_discernible_pattern_in_t.ipynb)\n",
    "  - [19_analyze_the_educational_background_of_customers_wh.ipynb](./19_analyze_the_educational_background_of_customers_wh.ipynb)\n"
   ]
  }
 ],
 "metadata": {
  "kernelspec": {
   "display_name": ".venv",
   "language": "python",
   "name": "python3"
  },
  "language_info": {
   "codemirror_mode": {
    "name": "ipython",
    "version": 3
   },
   "file_extension": ".py",
   "mimetype": "text/x-python",
   "name": "python",
   "nbconvert_exporter": "python",
   "pygments_lexer": "ipython3",
   "version": "3.10.11"
  }
 },
 "nbformat": 4,
 "nbformat_minor": 4
}