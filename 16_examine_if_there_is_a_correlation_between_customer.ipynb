{
 "cells": [
  {
   "cell_type": "markdown",
   "id": "be1edabb",
   "metadata": {},
   "source": [
    "# Additional Visualizations\n",
    "Section: b. Examine if there is a correlation between customers’ age and the acceptance rate of the last campaign\n",
    "\n",
    "**Part of:** [marketing_campaign_082825_working.ipynb](./marketing_campaign_082825_working.ipynb)"
   ]
  },
  {
   "cell_type": "code",
   "execution_count": null,
   "id": "bf0f2d23",
   "metadata": {
    "execution": {
     "iopub.execute_input": "2025-09-06T21:13:40.056005Z",
     "iopub.status.busy": "2025-09-06T21:13:40.056005Z",
     "iopub.status.idle": "2025-09-06T21:13:41.766237Z",
     "shell.execute_reply": "2025-09-06T21:13:41.765238Z"
    }
   },
   "outputs": [],
   "source": [
    "# Setup and data loading\n",
    "from utils import (\n",
    "    ProjectConfig,\n",
    "    load_intermediate_results,\n",
    "    save_project_figure,\n",
    "    reset_plot_settings,\n",
    ")\n",
    "import pandas as pd\n",
    "import numpy as np\n",
    "import seaborn as sns\n",
    "import matplotlib.pyplot as plt\n",
    "import warnings\n",
    "warnings.filterwarnings(\"ignore\")\n",
    "\n",
    "config = ProjectConfig()\n",
    "# Load data from previous notebook\n",
    "df = load_intermediate_results(\"data_from_08_step_6.pkl\", config)\n"
   ]
  },
  {
   "cell_type": "markdown",
   "id": "41a6e476",
   "metadata": {
    "id": "wgFBL7MPeYAr"
   },
   "source": [
    "## b. Examine if there is a correlation between customers’ age and the acceptance rate of the last campaign"
   ]
  },
  {
   "cell_type": "code",
   "execution_count": null,
   "id": "68ad57ca",
   "metadata": {
    "colab": {
     "base_uri": "https://localhost:8080/"
    },
    "execution": {
     "iopub.execute_input": "2025-09-06T21:13:41.769237Z",
     "iopub.status.busy": "2025-09-06T21:13:41.769237Z",
     "iopub.status.idle": "2025-09-06T21:13:41.781237Z",
     "shell.execute_reply": "2025-09-06T21:13:41.780239Z"
    },
    "executionInfo": {
     "elapsed": 121,
     "status": "ok",
     "timestamp": 1756043835377,
     "user": {
      "displayName": "Scott Clement",
      "userId": "09077177954652264696"
     },
     "user_tz": 420
    },
    "id": "mSqnYSwSLT2A",
    "outputId": "bbfa40ee-3773-48f5-a754-098d8209c6c2"
   },
   "outputs": [],
   "source": [
    "from scipy.stats import pointbiserialr\n",
    "\n",
    "corr, p_value = pointbiserialr(df['Age'], df['Response'])\n",
    "print(f\"Point-Biserial Correlation between Age and Response: {corr:.3f} (p-value: {p_value:.3f})\")\n",
    "\n",
    "# What is Point-Biserial Correlation?\n",
    "# Point-biserial correlation is chosen because it is a statistical measure that quantifies\n",
    "# the linear relationship between a continuous variable and a binary variable.\n",
    "# It's essentially a special case of the standard Pearson correlation coefficient,\n",
    "# specifically designed for binary outcomes.\n",
    "\n",
    "# Why I used\n",
    "# In campaign analysis, you have:\n",
    "# - Binary variable: Campaign response (Accepted = 1, Not Accepted = 0)\n",
    "# - Continuous variable: Age (ranging from ~30 to 80+)\n",
    "\n",
    "# Output: correlation ≈ -0.019, p-value ≈ 0.372, indicating a very weak, non-significant\n",
    "# relationship. Younger customers may have a slight tendency to accept the campaign,\n",
    "# but the effect is negligible."
   ]
  },
  {
   "cell_type": "code",
   "execution_count": null,
   "id": "7fb789dc",
   "metadata": {
    "colab": {
     "base_uri": "https://localhost:8080/"
    },
    "execution": {
     "iopub.execute_input": "2025-09-06T21:13:41.783237Z",
     "iopub.status.busy": "2025-09-06T21:13:41.782237Z",
     "iopub.status.idle": "2025-09-06T21:13:41.856237Z",
     "shell.execute_reply": "2025-09-06T21:13:41.856237Z"
    },
    "executionInfo": {
     "elapsed": 56,
     "status": "ok",
     "timestamp": 1756043835378,
     "user": {
      "displayName": "Scott Clement",
      "userId": "09077177954652264696"
     },
     "user_tz": 420
    },
    "id": "BdrmHbKULT2A",
    "outputId": "d827ea25-48f4-4fed-9c9d-b5f9ba7fa7cb"
   },
   "outputs": [],
   "source": [
    "# Statistics to use for age analysis for last campaign response\n",
    "# Data will be used in plots\n",
    "\n",
    "accepted = df[df['Response'] == 1]['Age']\n",
    "not_accepted = df[df['Response'] == 0]['Age']\n",
    "\n",
    "# Create age groups\n",
    "bins = [0, 40, 50, 60, 70, 100]\n",
    "labels = ['<40', '40-50', '50-60', '60-70', '70+']\n",
    "df['Age_Group'] = pd.cut(df['Age'], bins=bins, labels=labels, include_lowest=True)\n",
    "print(df['Age_Group'].value_counts())\n",
    "\n",
    "age_analysis = df.groupby('Age_Group').agg({\n",
    "    'Response': ['sum','count','mean'],\n",
    "    'Age': ['mean','std']}).round(3)\n",
    "\n",
    "age_analysis.columns = ['Accepted_Count','Total_Count','Acceptance_Rate','Mean_Age','Age_SD']\n",
    "age_analysis['Sample_Size_Category'] = pd.qcut(age_analysis['Total_Count'],\n",
    "                                              q=3,\n",
    "                                              labels=['Small','Medium','Large'])\n",
    "\n",
    "print(age_analysis)"
   ]
  },
  {
   "cell_type": "code",
   "execution_count": null,
   "id": "3f03702e",
   "metadata": {
    "colab": {
     "base_uri": "https://localhost:8080/",
     "height": 0
    },
    "execution": {
     "iopub.execute_input": "2025-09-06T21:13:41.859237Z",
     "iopub.status.busy": "2025-09-06T21:13:41.858236Z",
     "iopub.status.idle": "2025-09-06T21:13:42.587466Z",
     "shell.execute_reply": "2025-09-06T21:13:42.586467Z"
    },
    "executionInfo": {
     "elapsed": 230,
     "status": "ok",
     "timestamp": 1756043835579,
     "user": {
      "displayName": "Scott Clement",
      "userId": "09077177954652264696"
     },
     "user_tz": 420
    },
    "id": "o50aEOAmLT2B",
    "outputId": "a58c94f7-c340-4c69-d390-16e6104237d1"
   },
   "outputs": [],
   "source": [
    "# Visualizations\n",
    "from matplotlib.patches import Patch\n",
    "from matplotlib.lines import Line2D\n",
    "\n",
    "reset_plot_settings()\n",
    "\n",
    "fig, (ax1, ax2) = plt.subplots(1,2, figsize=(12,6))\n",
    "\n",
    "# Define colors upfront\n",
    "# Use matplotlib's palette\n",
    "sns.set_palette(\"tab10\")\n",
    "matplot_colors = sns.color_palette(\"tab10\")\n",
    "matplot_blue = matplot_colors[0]\n",
    "matplot_orange = matplot_colors[1]\n",
    "\n",
    "# Age group acceptance rates\n",
    "acceptance_rates = age_analysis['Acceptance_Rate']\n",
    "sample_sizes = age_analysis['Total_Count']\n",
    "\n",
    "# Box Plot with statistical results\n",
    "sns.boxplot(x='Response', y='Age', data=df, hue='Response', ax=ax1,\n",
    "            palette='tab10', legend=False)\n",
    "ax1.set_xlabel('Response')\n",
    "ax1.set_xticks([0,1], ['Not Accepted', 'Accepted'])\n",
    "ax1.set_title('Age Distribution Box Plot')\n",
    "ax1.set_ylabel('Age')\n",
    "\n",
    "# Distribution comparison with statistical annotation\n",
    "# Create subsets\n",
    "not_accepted = df[df['Response'] == 0]['Age']\n",
    "accepted = df[df['Response'] == 1]['Age']\n",
    "\n",
    "# Create labels with counts\n",
    "df['Response_Label'] = df['Response'].map({\n",
    "    0: f'Not Accepted (n={len(not_accepted)})',\n",
    "    1: f'Accepted (n={len(accepted)})'\n",
    "})\n",
    "\n",
    "# Create histogram with specific colors\n",
    "sns.histplot(data=df, x='Age', hue='Response_Label',\n",
    "             kde=True, stat='density', ax=ax2, alpha=0.6,\n",
    "             hue_order=[f'Not Accepted (n={len(not_accepted)})', f'Accepted (n={len(accepted)})'],\n",
    "             palette='tab10', legend=False)\n",
    "\n",
    "# Add mean lines with matching colors\n",
    "ax2.axvline(not_accepted.mean(), color=matplot_blue, linestyle='--', alpha=0.8)\n",
    "ax2.axvline(accepted.mean(), color=matplot_orange, linestyle='--', alpha=0.8)\n",
    "\n",
    "# Create legend manually\n",
    "legend_elements = [\n",
    "    Patch(facecolor=matplot_blue, alpha=0.6, label=f'Not Accepted (n={len(not_accepted)})'),\n",
    "    Patch(facecolor=matplot_orange, alpha=0.6, label=f'Accepted (n={len(accepted)})'),\n",
    "    Line2D([0], [0], color=matplot_blue, linestyle='--', alpha=0.8,\n",
    "           label=f'Mean Not Accepted: {not_accepted.mean():.1f}'),\n",
    "    Line2D([0], [0], color=matplot_orange, linestyle='--', alpha=0.8,\n",
    "           label=f'Mean Accepted: {accepted.mean():.1f}')\n",
    "]\n",
    "\n",
    "ax2.legend(handles=legend_elements)\n",
    "\n",
    "# Set titles and labels\n",
    "ax2.set_title(f'Age Distribution by Campaign Response\\n'\n",
    "              f'Mean Difference: {accepted.mean() - not_accepted.mean():.2f} years')\n",
    "ax2.set_xlabel('Age')\n",
    "ax2.set_ylabel('Density')\n",
    "\n",
    "\n",
    "plt.tight_layout()\n",
    "save_project_figure(\n",
    "    \"Age_Distribution_by_Campaign_Response\",\n",
    "    \"Age Distribution by Campaign Response\",\n",
    "    config,\n",
    ")\n",
    "plt.show()"
   ]
  },
  {
   "cell_type": "code",
   "execution_count": null,
   "id": "b90670e1",
   "metadata": {
    "execution": {
     "iopub.execute_input": "2025-09-06T21:13:42.589466Z",
     "iopub.status.busy": "2025-09-06T21:13:42.589466Z",
     "iopub.status.idle": "2025-09-06T21:13:42.602469Z",
     "shell.execute_reply": "2025-09-06T21:13:42.601467Z"
    },
    "executionInfo": {
     "elapsed": 16,
     "status": "ok",
     "timestamp": 1756043835609,
     "user": {
      "displayName": "Scott Clement",
      "userId": "09077177954652264696"
     },
     "user_tz": 420
    },
    "id": "h92GmizniGAi"
   },
   "outputs": [],
   "source": [
    "# Results and possible conclusions from intial visualizations show that age does\n",
    "# not seem to be correlated strongly to age. This is based on the point-biserial\n",
    "# correlation and the boxplots and histogram plots which show if anything\n",
    "# younger customers have a slight tendency to accept the campaign.\n",
    "\n",
    "# Below several other visualizations are created to explore the age versus\n",
    "# campaign response."
   ]
  },
  {
   "cell_type": "code",
   "execution_count": null,
   "id": "0c721d5d",
   "metadata": {
    "colab": {
     "base_uri": "https://localhost:8080/",
     "height": 0
    },
    "execution": {
     "iopub.execute_input": "2025-09-06T21:13:42.604473Z",
     "iopub.status.busy": "2025-09-06T21:13:42.604473Z",
     "iopub.status.idle": "2025-09-06T21:13:43.223465Z",
     "shell.execute_reply": "2025-09-06T21:13:43.223465Z"
    },
    "executionInfo": {
     "elapsed": 138,
     "status": "ok",
     "timestamp": 1756043835781,
     "user": {
      "displayName": "Scott Clement",
      "userId": "09077177954652264696"
     },
     "user_tz": 420
    },
    "id": "fb0sRcpnLT2B",
    "outputId": "604af764-47f8-47c6-8b2e-a038ca32575b"
   },
   "outputs": [],
   "source": [
    "reset_plot_settings()\n",
    "\n",
    "fig, (ax1, ax2) = plt.subplots(1,2, figsize=(12,6), sharey=True)\n",
    "\n",
    "# Bar plot of acceptance rates\n",
    "# Age group acceptance rates with confidence intervals\n",
    "acceptance_rates = age_analysis['Acceptance_Rate']\n",
    "sample_sizes = age_analysis['Total_Count']\n",
    "\n",
    "# Calculate 95% confidence intervals for proportions\n",
    "z_score = 1.96  # 95% confidence\n",
    "ci_lower = []\n",
    "ci_upper = []\n",
    "\n",
    "for rate, n in zip(acceptance_rates, sample_sizes):\n",
    "    se = np.sqrt(rate * (1 - rate) / n)  # Standard error for proportion\n",
    "    ci_lower.append(max(0, rate - z_score * se))\n",
    "    ci_upper.append(min(1, rate + z_score * se))\n",
    "\n",
    "#print(age_analysis[['Age_Group','Acceptance_Rate','Total_Count']])\n",
    "print(age_analysis)\n",
    "\n",
    "bars = sns.barplot(x='Age_Group', y='Acceptance_Rate', data=age_analysis,\n",
    "                   errorbar=None, color=matplot_orange,\n",
    "                   ax=ax1)\n",
    "ax1.errorbar(x=range(len(acceptance_rates)), y=acceptance_rates,\n",
    "             yerr=[acceptance_rates - ci_lower, ci_upper - acceptance_rates],\n",
    "             fmt='none', c='black', capsize=5)\n",
    "for i, bar in enumerate(bars.patches):\n",
    "    height = bar.get_height()\n",
    "    ax1.text(bar.get_x() + bar.get_width() / 2, height - 0.1,\n",
    "             f'Acceptance\\nRate\\n{(age_analysis[\"Acceptance_Rate\"].iloc[i])*100}%',\n",
    "             ha='center', va='bottom', fontsize='small')\n",
    "ax1.set_title(f'Acceptance Rate of Last Campaign by Age Group (Correlation: {corr:.3f})', fontsize=12)\n",
    "ax1.set_xlabel('Age Group', fontsize=12)\n",
    "ax1.set_ylabel('Acceptance Rate (Proportion Accepted)', fontsize=12)\n",
    "ax1.grid(True, axis='y', alpha=0.3)\n",
    "ax1.set_axisbelow(True)\n",
    "ax1.set_ylim(0, max(ci_upper) * 1.1)\n",
    "\n",
    "\n",
    "# Scatterplot showing age group sample size and acceptance rate\n",
    "age_analysis_reset = age_analysis.reset_index()\n",
    "\n",
    "sns.scatterplot(data=age_analysis_reset,\n",
    "                x='Total_Count',\n",
    "                y='Acceptance_Rate',\n",
    "                hue='Age_Group',\n",
    "                s=100,\n",
    "                alpha=0.7,\n",
    "                ax=ax2,\n",
    "                palette='viridis')\n",
    "\n",
    "# Add annotations\n",
    "for i, row in age_analysis_reset.iterrows():\n",
    "    ax2.annotate(row['Age_Group'],\n",
    "                (row['Total_Count'], row['Acceptance_Rate']),\n",
    "                xytext=(-8, 8),\n",
    "                textcoords='offset points',\n",
    "                fontsize=9)\n",
    "\n",
    "ax2.set_xlabel('Sample Size', fontsize=12)\n",
    "ax2.set_ylabel('Acceptance Rate', fontsize=12)\n",
    "ax2.set_title('Sample Size vs Acceptance Rate by Age Group\\n(Larger samples = more reliable estimates)', fontsize=12)\n",
    "ax2.grid(True, axis='y', alpha=0.3)\n",
    "ax2.set_axisbelow(True)\n",
    "ax2.legend(title='Age Group', loc='upper right')\n",
    "\n",
    "plt.tight_layout()\n",
    "save_project_figure(\n",
    "    \"Age_Distribution_by_Campaign_Response_Significance\",\n",
    "    \"Age Distribution by Campaign Response Significance\",\n",
    "    config,\n",
    ")\n",
    "plt.show()"
   ]
  },
  {
   "cell_type": "code",
   "execution_count": null,
   "id": "7a25d06d",
   "metadata": {
    "colab": {
     "base_uri": "https://localhost:8080/"
    },
    "execution": {
     "iopub.execute_input": "2025-09-06T21:13:43.225467Z",
     "iopub.status.busy": "2025-09-06T21:13:43.225467Z",
     "iopub.status.idle": "2025-09-06T21:13:43.238466Z",
     "shell.execute_reply": "2025-09-06T21:13:43.238466Z"
    },
    "executionInfo": {
     "elapsed": 487,
     "status": "ok",
     "timestamp": 1756043836293,
     "user": {
      "displayName": "Scott Clement",
      "userId": "09077177954652264696"
     },
     "user_tz": 420
    },
    "id": "y1l9CLuyocbE",
    "outputId": "c731f6af-53bc-4ae7-da87-dd1cab9a1046"
   },
   "outputs": [],
   "source": [
    "# Cleanup and summary analysis creation\n",
    "df.drop('Response_Label', axis=1, inplace=True)\n",
    "age_analysis_reset = age_analysis.copy()\n",
    "age_analysis_reset['Acceptance_Rate_Percent'] = age_analysis_reset['Acceptance_Rate'] * 100\n",
    "print(age_analysis_reset[['Sample_Size_Category','Acceptance_Rate_Percent']])"
   ]
  },
  {
   "cell_type": "code",
   "execution_count": null,
   "id": "d5b2ee96",
   "metadata": {
    "execution": {
     "iopub.execute_input": "2025-09-06T21:13:43.240466Z",
     "iopub.status.busy": "2025-09-06T21:13:43.240466Z",
     "iopub.status.idle": "2025-09-06T21:13:43.253467Z",
     "shell.execute_reply": "2025-09-06T21:13:43.253467Z"
    },
    "executionInfo": {
     "elapsed": 403,
     "status": "ok",
     "timestamp": 1756043836295,
     "user": {
      "displayName": "Scott Clement",
      "userId": "09077177954652264696"
     },
     "user_tz": 420
    },
    "id": "ZT0nWsITiS7a"
   },
   "outputs": [],
   "source": [
    "# Output: correlation, boxplots, histogram plots, bar plot with error bars and scatter\n",
    "# plot show no significant age to campaign acceptance relationship\n",
    "\n",
    "# Primary Findings\n",
    "# •  Minimal Age Effect: The most striking finding is that age has virtually no meaningful\n",
    "#    relationship with campaign acceptance. The correlation of -0.019 is essentially zero,\n",
    "#    indicating no practical relationship between age and response rates (very weak,\n",
    "#    non-significant relationship).\n",
    "# •  Consistent Acceptance Across Age Groups: The acceptance rates across all age groups\n",
    "#    cluster between 13-16%, with the 60-70 age group showing the lowest rate at approximately\n",
    "#    13% and the <40 and 70+ groups showing the highest at around 16%. This 3\n",
    "#    percentage point difference is quite small from a practical standpoint.\n",
    "\n",
    "# Statistical Considerations\n",
    "# •  Sample Size Reliability: The scatterplot reveals that the 60-70 age group has the\n",
    "#    smallest sample size (467), while the 50-60 group has the largest (674).\n",
    "#    The smaller sample size for the 60-70 group may contribute to the slightly lower observed\n",
    "#    acceptance rate, but the confidence intervals shown in the bar chart suggest these\n",
    "#    differences aren't statistically significant.\n",
    "# •  Age Distribution Insights: The first chart shows that both accepted and non-accepted\n",
    "#    groups have very similar age distributions, with mean ages differing by only 0.62 years\n",
    "#    (56.2 vs 55.6). This minimal difference reinforces that age is not a meaningful predictor.\n",
    "\n",
    "# Result\n",
    "# Campaign acceptance does not seem to be correlated strongly to age."
   ]
  },
  {
   "cell_type": "code",
   "execution_count": null,
   "id": "08040a34",
   "metadata": {
    "execution": {
     "iopub.execute_input": "2025-09-06T21:13:43.255466Z",
     "iopub.status.busy": "2025-09-06T21:13:43.255466Z",
     "iopub.status.idle": "2025-09-06T21:13:43.269465Z",
     "shell.execute_reply": "2025-09-06T21:13:43.269465Z"
    }
   },
   "outputs": [],
   "source": [
    "\n",
    "# Save results for next notebook\n",
    "# save_intermediate_results(df_processed, 'processed_data.pkl', config)\n",
    "# save_intermediate_results(analysis_results, 'analysis_results.pkl', config)\n",
    "# print('✓ Results saved for next notebook')"
   ]
  },
  {
   "cell_type": "code",
   "execution_count": null,
   "id": "5e091e15-6598-4d71-ab63-93fe263ee3da",
   "metadata": {},
   "outputs": [],
   "source": []
  }
 ],
 "metadata": {
  "kernelspec": {
   "display_name": ".venv",
   "language": "python",
   "name": "python3"
  },
  "language_info": {
   "codemirror_mode": {
    "name": "ipython",
    "version": 3
   },
   "file_extension": ".py",
   "mimetype": "text/x-python",
   "name": "python",
   "nbconvert_exporter": "python",
   "pygments_lexer": "ipython3",
   "version": "3.10.11"
  }
 },
 "nbformat": 4,
 "nbformat_minor": 5
}
