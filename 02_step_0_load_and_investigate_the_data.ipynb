{
 "cells": [
  {
   "cell_type": "markdown",
   "id": "a8d093ad",
   "metadata": {},
   "source": [
    "# Step 0: Load and Investigate the Data\n",
    "\n",
    "Section: Step 0: Load and Investigate the Data\n",
    "\n",
    "**Part of:** [marketing_campaign_082825_working.ipynb](./marketing_campaign_082825_working.ipynb)"
   ]
  },
  {
   "cell_type": "code",
   "execution_count": 1,
   "id": "d1313bce",
   "metadata": {
    "execution": {
     "iopub.execute_input": "2025-09-06T21:11:38.984167Z",
     "iopub.status.busy": "2025-09-06T21:11:38.984167Z",
     "iopub.status.idle": "2025-09-06T21:11:40.792042Z",
     "shell.execute_reply": "2025-09-06T21:11:40.792042Z"
    }
   },
   "outputs": [],
   "source": [
    "# Setup and data loading\n",
    "from utils import ProjectConfig, save_intermediate_results\n",
    "import pandas as pd\n",
    "import warnings\n",
    "warnings.filterwarnings(\"ignore\")\n",
    "\n",
    "config = ProjectConfig()\n",
    "# Load data from previous notebook\n",
    "# df = load_intermediate_results('data_from_previous_step.pkl', config)\n"
   ]
  },
  {
   "cell_type": "code",
   "execution_count": 2,
   "id": "62d375fa",
   "metadata": {
    "colab": {
     "base_uri": "https://localhost:8080/"
    },
    "execution": {
     "iopub.execute_input": "2025-09-06T21:11:40.795043Z",
     "iopub.status.busy": "2025-09-06T21:11:40.795043Z",
     "iopub.status.idle": "2025-09-06T21:11:40.808044Z",
     "shell.execute_reply": "2025-09-06T21:11:40.807042Z"
    },
    "executionInfo": {
     "elapsed": 1189,
     "status": "ok",
     "timestamp": 1756043826008,
     "user": {
      "displayName": "Scott Clement",
      "userId": "09077177954652264696"
     },
     "user_tz": 420
    },
    "id": "aqkpKXBddw1B",
    "outputId": "54941230-66c1-4711-9864-d4c4bd8938f8"
   },
   "outputs": [],
   "source": [
    "#if running Colab to connect to GDrive\n",
    "#from google.colab import drive\n",
    "#drive.mount('/content/drive')"
   ]
  },
  {
   "cell_type": "code",
   "execution_count": 3,
   "id": "6a10a76e",
   "metadata": {
    "execution": {
     "iopub.execute_input": "2025-09-06T21:11:40.810043Z",
     "iopub.status.busy": "2025-09-06T21:11:40.809043Z",
     "iopub.status.idle": "2025-09-06T21:11:40.822043Z",
     "shell.execute_reply": "2025-09-06T21:11:40.822043Z"
    },
    "executionInfo": {
     "elapsed": 66,
     "status": "ok",
     "timestamp": 1756043826019,
     "user": {
      "displayName": "Scott Clement",
      "userId": "09077177954652264696"
     },
     "user_tz": 420
    },
    "id": "Lr0VYCJheAOz"
   },
   "outputs": [],
   "source": [
    "# Filepath on GDrive\n",
    "# filepath = '/content/drive/MyDrive/School/SimpliLearn/PC DS-Applied Data Science with Python/End Projects/working/marketing_data.csv'\n",
    "\n",
    "# Filepath on local machine\n",
    "filepath = './data/marketing_data.csv'"
   ]
  },
  {
   "cell_type": "code",
   "execution_count": 4,
   "id": "ae66d8c4",
   "metadata": {
    "execution": {
     "iopub.execute_input": "2025-09-06T21:11:40.825043Z",
     "iopub.status.busy": "2025-09-06T21:11:40.824043Z",
     "iopub.status.idle": "2025-09-06T21:11:40.853042Z",
     "shell.execute_reply": "2025-09-06T21:11:40.853042Z"
    },
    "executionInfo": {
     "elapsed": 55,
     "status": "ok",
     "timestamp": 1756043826032,
     "user": {
      "displayName": "Scott Clement",
      "userId": "09077177954652264696"
     },
     "user_tz": 420
    },
    "id": "EsahWXSkfBJA"
   },
   "outputs": [],
   "source": [
    "# Reading the data\n",
    "df = pd.read_csv(filepath)"
   ]
  },
  {
   "cell_type": "code",
   "execution_count": 5,
   "id": "54776e8a",
   "metadata": {
    "execution": {
     "iopub.execute_input": "2025-09-06T21:11:40.856043Z",
     "iopub.status.busy": "2025-09-06T21:11:40.856043Z",
     "iopub.status.idle": "2025-09-06T21:11:40.869044Z",
     "shell.execute_reply": "2025-09-06T21:11:40.868042Z"
    },
    "executionInfo": {
     "elapsed": 64,
     "status": "ok",
     "timestamp": 1756043826061,
     "user": {
      "displayName": "Scott Clement",
      "userId": "09077177954652264696"
     },
     "user_tz": 420
    },
    "id": "cI-WFYZxg7kG"
   },
   "outputs": [],
   "source": [
    "# Investigate the data"
   ]
  },
  {
   "cell_type": "code",
   "execution_count": 6,
   "id": "76b66344",
   "metadata": {
    "colab": {
     "base_uri": "https://localhost:8080/"
    },
    "execution": {
     "iopub.execute_input": "2025-09-06T21:11:40.871042Z",
     "iopub.status.busy": "2025-09-06T21:11:40.871042Z",
     "iopub.status.idle": "2025-09-06T21:11:40.932049Z",
     "shell.execute_reply": "2025-09-06T21:11:40.931043Z"
    },
    "executionInfo": {
     "elapsed": 22,
     "status": "ok",
     "timestamp": 1756043826360,
     "user": {
      "displayName": "Scott Clement",
      "userId": "09077177954652264696"
     },
     "user_tz": 420
    },
    "id": "l-rjW_UHf9Us",
    "outputId": "bd77f51f-14cc-4448-b532-eb153e27b26e"
   },
   "outputs": [
    {
     "data": {
      "text/plain": [
       "Index(['ID', 'Year_Birth', 'Education', 'Marital_Status', ' Income ',\n",
       "       'Kidhome', 'Teenhome', 'Dt_Customer', 'Recency', 'MntWines',\n",
       "       'MntFruits', 'MntMeatProducts', 'MntFishProducts', 'MntSweetProducts',\n",
       "       'MntGoldProds', 'NumDealsPurchases', 'NumWebPurchases',\n",
       "       'NumCatalogPurchases', 'NumStorePurchases', 'NumWebVisitsMonth',\n",
       "       'AcceptedCmp3', 'AcceptedCmp4', 'AcceptedCmp5', 'AcceptedCmp1',\n",
       "       'AcceptedCmp2', 'Response', 'Complain', 'Country'],\n",
       "      dtype='object')"
      ]
     },
     "execution_count": 6,
     "metadata": {},
     "output_type": "execute_result"
    }
   ],
   "source": [
    "df.columns"
   ]
  },
  {
   "cell_type": "code",
   "execution_count": 7,
   "id": "6e218e85",
   "metadata": {
    "execution": {
     "iopub.execute_input": "2025-09-06T21:11:40.934043Z",
     "iopub.status.busy": "2025-09-06T21:11:40.934043Z",
     "iopub.status.idle": "2025-09-06T21:11:40.947043Z",
     "shell.execute_reply": "2025-09-06T21:11:40.947043Z"
    },
    "executionInfo": {
     "elapsed": 16,
     "status": "ok",
     "timestamp": 1756043826390,
     "user": {
      "displayName": "Scott Clement",
      "userId": "09077177954652264696"
     },
     "user_tz": 420
    },
    "id": "9RP4QKbMyc-c"
   },
   "outputs": [],
   "source": [
    "# Fix the Income column name to remove the spaces\n",
    "df.rename(columns={' Income ': 'Income'}, inplace=True)"
   ]
  },
  {
   "cell_type": "code",
   "execution_count": 8,
   "id": "359a5523",
   "metadata": {
    "colab": {
     "base_uri": "https://localhost:8080/"
    },
    "execution": {
     "iopub.execute_input": "2025-09-06T21:11:40.950044Z",
     "iopub.status.busy": "2025-09-06T21:11:40.949045Z",
     "iopub.status.idle": "2025-09-06T21:11:40.964044Z",
     "shell.execute_reply": "2025-09-06T21:11:40.963043Z"
    },
    "executionInfo": {
     "elapsed": 47,
     "status": "ok",
     "timestamp": 1756043826462,
     "user": {
      "displayName": "Scott Clement",
      "userId": "09077177954652264696"
     },
     "user_tz": 420
    },
    "id": "BSgA0nbCgwkT",
    "outputId": "77961bb3-14f8-4de5-9975-7a4acbcd70b3"
   },
   "outputs": [
    {
     "name": "stdout",
     "output_type": "stream",
     "text": [
      "<class 'pandas.core.frame.DataFrame'>\n",
      "RangeIndex: 2240 entries, 0 to 2239\n",
      "Data columns (total 28 columns):\n",
      " #   Column               Non-Null Count  Dtype \n",
      "---  ------               --------------  ----- \n",
      " 0   ID                   2240 non-null   int64 \n",
      " 1   Year_Birth           2240 non-null   int64 \n",
      " 2   Education            2240 non-null   object\n",
      " 3   Marital_Status       2240 non-null   object\n",
      " 4   Income               2216 non-null   object\n",
      " 5   Kidhome              2240 non-null   int64 \n",
      " 6   Teenhome             2240 non-null   int64 \n",
      " 7   Dt_Customer          2240 non-null   object\n",
      " 8   Recency              2240 non-null   int64 \n",
      " 9   MntWines             2240 non-null   int64 \n",
      " 10  MntFruits            2240 non-null   int64 \n",
      " 11  MntMeatProducts      2240 non-null   int64 \n",
      " 12  MntFishProducts      2240 non-null   int64 \n",
      " 13  MntSweetProducts     2240 non-null   int64 \n",
      " 14  MntGoldProds         2240 non-null   int64 \n",
      " 15  NumDealsPurchases    2240 non-null   int64 \n",
      " 16  NumWebPurchases      2240 non-null   int64 \n",
      " 17  NumCatalogPurchases  2240 non-null   int64 \n",
      " 18  NumStorePurchases    2240 non-null   int64 \n",
      " 19  NumWebVisitsMonth    2240 non-null   int64 \n",
      " 20  AcceptedCmp3         2240 non-null   int64 \n",
      " 21  AcceptedCmp4         2240 non-null   int64 \n",
      " 22  AcceptedCmp5         2240 non-null   int64 \n",
      " 23  AcceptedCmp1         2240 non-null   int64 \n",
      " 24  AcceptedCmp2         2240 non-null   int64 \n",
      " 25  Response             2240 non-null   int64 \n",
      " 26  Complain             2240 non-null   int64 \n",
      " 27  Country              2240 non-null   object\n",
      "dtypes: int64(23), object(5)\n",
      "memory usage: 490.1+ KB\n"
     ]
    }
   ],
   "source": [
    "df.info()"
   ]
  },
  {
   "cell_type": "code",
   "execution_count": 9,
   "id": "feeb570a",
   "metadata": {
    "execution": {
     "iopub.execute_input": "2025-09-06T21:11:40.966043Z",
     "iopub.status.busy": "2025-09-06T21:11:40.965043Z",
     "iopub.status.idle": "2025-09-06T21:11:40.979042Z",
     "shell.execute_reply": "2025-09-06T21:11:40.979042Z"
    }
   },
   "outputs": [
    {
     "name": "stdout",
     "output_type": "stream",
     "text": [
      "Saved: outputs\\data_from_02_step_0.pkl\n",
      "✓ Results saved for next notebook\n"
     ]
    }
   ],
   "source": [
    "\n",
    "# Save results for next notebook\n",
    "save_intermediate_results(df, 'data_from_02_step_0.pkl', config)\n",
    "print('✓ Results saved for next notebook')"
   ]
  }
 ],
 "metadata": {
  "kernelspec": {
   "display_name": ".venv",
   "language": "python",
   "name": "python3"
  },
  "language_info": {
   "codemirror_mode": {
    "name": "ipython",
    "version": 3
   },
   "file_extension": ".py",
   "mimetype": "text/x-python",
   "name": "python",
   "nbconvert_exporter": "python",
   "pygments_lexer": "ipython3",
   "version": "3.10.11"
  }
 },
 "nbformat": 4,
 "nbformat_minor": 5
}
