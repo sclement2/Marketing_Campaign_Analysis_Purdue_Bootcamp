{
 "cells": [
  {
   "cell_type": "markdown",
   "id": "a8d093ad",
   "metadata": {},
   "source": [
    "# Step 0: Load and Investigate the Data\n",
    "\n",
    "Section: Step 0: Load and Investigate the Data\n",
    "\n",
    "**Part of:** [marketing_campaign_082825_working.ipynb](./marketing_campaign_082825_working.ipynb)"
   ]
  },
  {
   "cell_type": "code",
   "execution_count": null,
   "id": "d1313bce",
   "metadata": {
    "execution": {
     "iopub.execute_input": "2025-09-06T21:11:38.984167Z",
     "iopub.status.busy": "2025-09-06T21:11:38.984167Z",
     "iopub.status.idle": "2025-09-06T21:11:40.792042Z",
     "shell.execute_reply": "2025-09-06T21:11:40.792042Z"
    }
   },
   "outputs": [],
   "source": [
    "# Setup and data loading\n",
    "from utils import ProjectConfig, save_intermediate_results\n",
    "import pandas as pd\n",
    "import warnings\n",
    "warnings.filterwarnings(\"ignore\")\n",
    "\n",
    "config = ProjectConfig()\n",
    "# Load data from previous notebook\n",
    "# df = load_intermediate_results('data_from_previous_step.pkl', config)\n"
   ]
  },
  {
   "cell_type": "code",
   "execution_count": null,
   "id": "62d375fa",
   "metadata": {
    "colab": {
     "base_uri": "https://localhost:8080/"
    },
    "execution": {
     "iopub.execute_input": "2025-09-06T21:11:40.795043Z",
     "iopub.status.busy": "2025-09-06T21:11:40.795043Z",
     "iopub.status.idle": "2025-09-06T21:11:40.808044Z",
     "shell.execute_reply": "2025-09-06T21:11:40.807042Z"
    },
    "executionInfo": {
     "elapsed": 1189,
     "status": "ok",
     "timestamp": 1756043826008,
     "user": {
      "displayName": "Scott Clement",
      "userId": "09077177954652264696"
     },
     "user_tz": 420
    },
    "id": "aqkpKXBddw1B",
    "outputId": "54941230-66c1-4711-9864-d4c4bd8938f8"
   },
   "outputs": [],
   "source": [
    "#if running Colab to connect to GDrive\n",
    "#from google.colab import drive\n",
    "#drive.mount('/content/drive')"
   ]
  },
  {
   "cell_type": "code",
   "execution_count": null,
   "id": "6a10a76e",
   "metadata": {
    "execution": {
     "iopub.execute_input": "2025-09-06T21:11:40.810043Z",
     "iopub.status.busy": "2025-09-06T21:11:40.809043Z",
     "iopub.status.idle": "2025-09-06T21:11:40.822043Z",
     "shell.execute_reply": "2025-09-06T21:11:40.822043Z"
    },
    "executionInfo": {
     "elapsed": 66,
     "status": "ok",
     "timestamp": 1756043826019,
     "user": {
      "displayName": "Scott Clement",
      "userId": "09077177954652264696"
     },
     "user_tz": 420
    },
    "id": "Lr0VYCJheAOz"
   },
   "outputs": [],
   "source": [
    "# Filepath on GDrive\n",
    "# filepath = '/content/drive/MyDrive/School/SimpliLearn/PC DS-Applied Data Science with Python/End Projects/working/marketing_data.csv'\n",
    "\n",
    "# Filepath on local machine\n",
    "filepath = './data/marketing_data.csv'"
   ]
  },
  {
   "cell_type": "code",
   "execution_count": null,
   "id": "ae66d8c4",
   "metadata": {
    "execution": {
     "iopub.execute_input": "2025-09-06T21:11:40.825043Z",
     "iopub.status.busy": "2025-09-06T21:11:40.824043Z",
     "iopub.status.idle": "2025-09-06T21:11:40.853042Z",
     "shell.execute_reply": "2025-09-06T21:11:40.853042Z"
    },
    "executionInfo": {
     "elapsed": 55,
     "status": "ok",
     "timestamp": 1756043826032,
     "user": {
      "displayName": "Scott Clement",
      "userId": "09077177954652264696"
     },
     "user_tz": 420
    },
    "id": "EsahWXSkfBJA"
   },
   "outputs": [],
   "source": [
    "# Reading the data\n",
    "df = pd.read_csv(filepath)"
   ]
  },
  {
   "cell_type": "code",
   "execution_count": null,
   "id": "54776e8a",
   "metadata": {
    "execution": {
     "iopub.execute_input": "2025-09-06T21:11:40.856043Z",
     "iopub.status.busy": "2025-09-06T21:11:40.856043Z",
     "iopub.status.idle": "2025-09-06T21:11:40.869044Z",
     "shell.execute_reply": "2025-09-06T21:11:40.868042Z"
    },
    "executionInfo": {
     "elapsed": 64,
     "status": "ok",
     "timestamp": 1756043826061,
     "user": {
      "displayName": "Scott Clement",
      "userId": "09077177954652264696"
     },
     "user_tz": 420
    },
    "id": "cI-WFYZxg7kG"
   },
   "outputs": [],
   "source": [
    "# Investigate the data"
   ]
  },
  {
   "cell_type": "code",
   "execution_count": null,
   "id": "76b66344",
   "metadata": {
    "colab": {
     "base_uri": "https://localhost:8080/"
    },
    "execution": {
     "iopub.execute_input": "2025-09-06T21:11:40.871042Z",
     "iopub.status.busy": "2025-09-06T21:11:40.871042Z",
     "iopub.status.idle": "2025-09-06T21:11:40.932049Z",
     "shell.execute_reply": "2025-09-06T21:11:40.931043Z"
    },
    "executionInfo": {
     "elapsed": 22,
     "status": "ok",
     "timestamp": 1756043826360,
     "user": {
      "displayName": "Scott Clement",
      "userId": "09077177954652264696"
     },
     "user_tz": 420
    },
    "id": "l-rjW_UHf9Us",
    "outputId": "bd77f51f-14cc-4448-b532-eb153e27b26e"
   },
   "outputs": [],
   "source": [
    "df.columns"
   ]
  },
  {
   "cell_type": "code",
   "execution_count": null,
   "id": "6e218e85",
   "metadata": {
    "execution": {
     "iopub.execute_input": "2025-09-06T21:11:40.934043Z",
     "iopub.status.busy": "2025-09-06T21:11:40.934043Z",
     "iopub.status.idle": "2025-09-06T21:11:40.947043Z",
     "shell.execute_reply": "2025-09-06T21:11:40.947043Z"
    },
    "executionInfo": {
     "elapsed": 16,
     "status": "ok",
     "timestamp": 1756043826390,
     "user": {
      "displayName": "Scott Clement",
      "userId": "09077177954652264696"
     },
     "user_tz": 420
    },
    "id": "9RP4QKbMyc-c"
   },
   "outputs": [],
   "source": [
    "# Fix the Income column name to remove the spaces\n",
    "df.rename(columns={' Income ': 'Income'}, inplace=True)"
   ]
  },
  {
   "cell_type": "code",
   "execution_count": null,
   "id": "359a5523",
   "metadata": {
    "colab": {
     "base_uri": "https://localhost:8080/"
    },
    "execution": {
     "iopub.execute_input": "2025-09-06T21:11:40.950044Z",
     "iopub.status.busy": "2025-09-06T21:11:40.949045Z",
     "iopub.status.idle": "2025-09-06T21:11:40.964044Z",
     "shell.execute_reply": "2025-09-06T21:11:40.963043Z"
    },
    "executionInfo": {
     "elapsed": 47,
     "status": "ok",
     "timestamp": 1756043826462,
     "user": {
      "displayName": "Scott Clement",
      "userId": "09077177954652264696"
     },
     "user_tz": 420
    },
    "id": "BSgA0nbCgwkT",
    "outputId": "77961bb3-14f8-4de5-9975-7a4acbcd70b3"
   },
   "outputs": [],
   "source": [
    "df.info()"
   ]
  },
  {
   "cell_type": "code",
   "execution_count": null,
   "id": "feeb570a",
   "metadata": {
    "execution": {
     "iopub.execute_input": "2025-09-06T21:11:40.966043Z",
     "iopub.status.busy": "2025-09-06T21:11:40.965043Z",
     "iopub.status.idle": "2025-09-06T21:11:40.979042Z",
     "shell.execute_reply": "2025-09-06T21:11:40.979042Z"
    }
   },
   "outputs": [],
   "source": [
    "\n",
    "# Save results for next notebook\n",
    "save_intermediate_results(df, 'data_from_02_step_0.pkl', config)\n",
    "print('✓ Results saved for next notebook')"
   ]
  }
 ],
 "metadata": {
  "kernelspec": {
   "display_name": ".venv",
   "language": "python",
   "name": "python3"
  },
  "language_info": {
   "codemirror_mode": {
    "name": "ipython",
    "version": 3
   },
   "file_extension": ".py",
   "mimetype": "text/x-python",
   "name": "python",
   "nbconvert_exporter": "python",
   "pygments_lexer": "ipython3",
   "version": "3.10.11"
  }
 },
 "nbformat": 4,
 "nbformat_minor": 5
}
