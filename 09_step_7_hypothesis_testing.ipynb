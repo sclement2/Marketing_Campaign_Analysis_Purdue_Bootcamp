{
 "cells": [
  {
   "cell_type": "markdown",
   "id": "bada5966",
   "metadata": {},
   "source": [
    "# Step 7: Hypothesis Testing\n",
    "\n",
    "Section: Step 7: Hypothesis Testing\n",
    "\n",
    "**Part of:** [marketing_campaign_082825_working.ipynb](./marketing_campaign_082825_working.ipynb)"
   ]
  },
  {
   "cell_type": "markdown",
   "id": "4feeaf63",
   "metadata": {},
   "source": [
    "This notebook is the intro for the hypothesis testing section for the Marketing Campaign Analysis project. This notebook does not contain the actual python code used to perform the hypothesis testing. The code for each section can be found in the corresponding Jupyter notebooks.\n",
    "\n",
    "- [10_older_individuals_prefer_in_store_shopping.ipynb](./10_older_individuals_prefer_in_store_shopping.ipynb)\n",
    "- [11_customers_with_children_prefer_online_shopping.ipynb](./11_customers_with_children_prefer_online_shopping.ipynb)\n",
    "- [12_store_sales_cannibalization_by_alternative_distrib.ipynb](./12_store_sales_cannibalization_by_alternative_distrib.ipynb)\n",
    "- [13_us_versus_the_rest_of_the_world_in_total_purchases.ipynb](./13_us_versus_the_rest_of_the_world_in_total_purchases.ipynb)"
   ]
  },
  {
   "cell_type": "markdown",
   "id": "600be3ea",
   "metadata": {},
   "source": [
    "The complete set of notebooks performs exploratory data analysis and hypothesis testing on marketing campaign data to understand customer acquisition factors. The summarized results for hypothesis testing are presented below. The EDA and additional visualizations are in separate notebooks. Together, the 3 notebooks listed below provide the summary results of comprehensive analysis of the marketing campaign data.\n",
    "\n",
    "**Summary Notebooks**\n",
    "- [20_marketing_campaign_analysis_summary.ipynb](./20_marketing_campaign_analysis_summary.ipynb) - Exploratory Data Analysis\n",
    "- [21_step_7_hypothesis_testing_summary.ipynb](./21_step_7_hypothesis_testing_summary.ipynb) - Hypothesis Testing\n",
    "- [22_step_8_additional_visualizations_summary.ipynb](./22_step_8_additional_visualizations_summary.ipynb) - Additional Visualizations"
   ]
  }
 ],
 "metadata": {
  "kernelspec": {
   "display_name": ".venv",
   "language": "python",
   "name": "python3"
  },
  "language_info": {
   "codemirror_mode": {
    "name": "ipython",
    "version": 3
   },
   "file_extension": ".py",
   "mimetype": "text/x-python",
   "name": "python",
   "nbconvert_exporter": "python",
   "pygments_lexer": "ipython3",
   "version": "3.10.11"
  }
 },
 "nbformat": 4,
 "nbformat_minor": 5
}
