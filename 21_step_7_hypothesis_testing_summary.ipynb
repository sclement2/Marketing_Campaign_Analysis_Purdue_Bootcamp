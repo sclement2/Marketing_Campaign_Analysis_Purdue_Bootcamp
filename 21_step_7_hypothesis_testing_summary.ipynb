{
 "cells": [
  {
   "cell_type": "markdown",
   "id": "bada5966",
   "metadata": {},
   "source": [
    "# Step 7: Hypothesis Testing\n",
    "\n",
    "Section: Step 7: Hypothesis Testing\n",
    "\n",
    "**Part of:** [marketing_campaign_082825_working.ipynb](./marketing_campaign_082825_working.ipynb)"
   ]
  },
  {
   "cell_type": "markdown",
   "id": "4feeaf63",
   "metadata": {},
   "source": [
    "#### This notebook contains hypothesis testing results for the Marketing Campaign Analysis project. It encompasses the summary of key findings and insights derived from the data analysis. This notebook does not contain the actual python code used to perform the hypothesis testing. The code for each section can be found in the corresponding Jupyter notebooks.\n",
    "- 10_older_individuals_prefer_in_store_shopping.ipynb\n",
    "- 11_customers_with_children_prefer_online_shopping.ipynb\n",
    "- 12_store_sales_cannibalization_by_alternative_distrib.ipynb\n",
    "- 13_us_versus_the_rest_of_the_world_in_total_purchases.ipynb"
   ]
  },
  {
   "cell_type": "markdown",
   "id": "600be3ea",
   "metadata": {},
   "source": [
    "The complete set of notebooks performs exploratory data analysis and hypothesis testing on marketing campaign data to understand customer acquisition factors. The summarized results for hypothesis testing are presented below. The EDA and additional visualizations are in separate notebooks. Together, the 3 notebooks listed below provide the summary results of comprehensive analysis of the marketing campaign data.\n",
    "\n",
    "**Summary Notebooks**\n",
    "1. 01_marketing_campaign_analysis.ipynb - Exploratory Data Analysis\n",
    "2. 09_step_7_hypothesis_testing.ipynb - Hypothesis Testing\n",
    "3. 14_step_8_additional_visualizations.ipynb - Additional Visualizations"
   ]
  },
  {
   "cell_type": "markdown",
   "id": "2bea33c7",
   "metadata": {},
   "source": [
    "## a. Older individuals prefer in-store shopping"
   ]
  },
  {
   "cell_type": "markdown",
   "id": "6a5ff991",
   "metadata": {},
   "source": [
    "#### Specify H₀ and H₁:\n",
    "- H₀: The distributions of NumStorePurchases for older and younger customers are identical (no difference in distribution).\n",
    "- H₁: The distributions of NumStorePurchases for older customers is stochastically greater (they tend to have higher values).\n",
    "\n",
    "#### Normality and Test Choice:\n",
    "- Use the t-test if NumStorePurchases is approximately normally distributed.\n",
    "- Use the Mann-Whitney U test if the data is non-normal.\n",
    "\n",
    "#### Interpreting Results:\n",
    "- P-value ≤ α (0.05): Reject H₀, concluding there is evidence that older customers have higher in-store purchases.\n",
    "- P-value > α: Fail to reject H₀, indicating insufficient evidence that older customers prefer in-store purchases."
   ]
  },
  {
   "cell_type": "markdown",
   "id": "c5b52f82",
   "metadata": {},
   "source": [
    "### Results"
   ]
  },
  {
   "cell_type": "markdown",
   "id": "1842520a",
   "metadata": {},
   "source": [
    "#### Normality Tests"
   ]
  },
  {
   "cell_type": "markdown",
   "id": "6e20b9b3",
   "metadata": {},
   "source": [
    "**Perform Shapiro-Wilk Test**\n",
    "\n",
    "_Purpose:_\n",
    "- Tests the null hypothesis (H₀) that the data from the groups is normally distributed.\n",
    "- Alternative hypothesis (H₁): The data is not normally distributed."
   ]
  },
  {
   "cell_type": "markdown",
   "id": "dc6e3ef2",
   "metadata": {},
   "source": [
    "_Shapiro-Wilk Test Results:_\n",
    "- Shapiro-Wilk Test for Older Individuals = 1: p-value = 0.0000\n",
    "  - p-value < 0.05: Reject H₀, data is not normally distributed.\n",
    "- Shapiro-Wilk Test for Older Individuals = 0: p-value = 0.0000\n",
    "  - p-value < 0.05: Reject H₀, data is not normally distributed."
   ]
  },
  {
   "cell_type": "markdown",
   "id": "be68e4b1",
   "metadata": {},
   "source": [
    "**Descriptive Statistics**\n",
    "| Older | mean  | median       | std  | count |\n",
    "|-------|-------|--------------|------|-------|\n",
    "| False | 5.359259 | 4.0          | 3.200239 | 1080 |\n",
    "| True  | 6.238468 | 5.0          | 3.224830 | 1149 |"
   ]
  },
  {
   "cell_type": "markdown",
   "id": "04dc5b23",
   "metadata": {},
   "source": [
    "**Visualizations**\n",
    "\n",
    "![Box and Violin Plots of In-Store Purchases for Older Customers](figures/Box_and_Violin_Plots_Older_Customers.png)"
   ]
  },
  {
   "cell_type": "markdown",
   "id": "23003bb5",
   "metadata": {},
   "source": [
    "**Conclusion**: Shapiro-Wilk test and plots show data is not normally distributed so a non-parametric test seems more appropriate\n",
    "\n",
    "---"
   ]
  },
  {
   "cell_type": "markdown",
   "id": "041240b4",
   "metadata": {},
   "source": [
    "#### Non-Parametric Test"
   ]
  },
  {
   "cell_type": "markdown",
   "id": "3cc5716e",
   "metadata": {},
   "source": [
    "**Mann-Whitney U Test (One-Tailed) Results**\n",
    "- Mann-Whitney U Test: statistic = 735103.5000, p-value = 0.0000\n",
    "  - Reject H₀: Older customers have higher in-store purchases\n",
    "\n",
    "---"
   ]
  },
  {
   "cell_type": "markdown",
   "id": "e9a5ca1c",
   "metadata": {},
   "source": [
    "#### Parametric Tests"
   ]
  },
  {
   "cell_type": "markdown",
   "id": "0024f92e",
   "metadata": {},
   "source": [
    "Parametric tests (e.g., t-tests) assume normality and homogeneity of variances.\n",
    "\n",
    "**Why a t-test may be ok**\n",
    "- Large sample sizes (e.g., n > 30 or ideally n > 50 per group), due to the Central Limit Theorem (CLT).\n",
    "- The CLT states that the sampling distribution of the mean approaches normality as sample size increases, even if the underlying data is non-normal."
   ]
  },
  {
   "cell_type": "markdown",
   "id": "8ebccd69",
   "metadata": {},
   "source": [
    "_Sample size for Older Customers:_\n",
    "| Older | Sample Size |\n",
    "|-------|-------------|\n",
    "| True  | 1149        |\n",
    "| False | 1080        |"
   ]
  },
  {
   "cell_type": "markdown",
   "id": "d4e7e7af",
   "metadata": {},
   "source": [
    "**Perform Levene's test**\n",
    "\n",
    "_Purpose:_\n",
    "- Tests the null hypothesis (H₀) that the variances of the groups are equal.\n",
    "- Alternative hypothesis (H₁): The variances are not equal.\n",
    "\n",
    "_Variations of test:_\n",
    "- Standard Levene’s Test: Uses the group mean for calculating deviations.\n",
    "- Modified Levene’s Test (Brown-Forsythe): Uses the group median instead of the mean, which is more robust to non-normal data.\n",
    "\n",
    "_Implications of test:_\n",
    "- If Levene’s test indicates unequal variances (p-value ≤ 0.05), use Welch’s t-test to compare means.\n",
    "- If variances are equal, use the standard t-test."
   ]
  },
  {
   "cell_type": "markdown",
   "id": "c6182f26",
   "metadata": {},
   "source": [
    "**Modified Levene’s Test (Brown-Forsythe) Results**\n",
    "- Levene's Test: statistic = 4.1209, p-value = 0.0000\n",
    "  - Unequal variances (p < 0.05)\n",
    "- Unequal variances use Welch’s t-test to compare means\n",
    "  - Run parametric Welch's t-test"
   ]
  },
  {
   "cell_type": "markdown",
   "id": "05c225a9",
   "metadata": {},
   "source": [
    "**Welch's t-Test (unequal variances):**\n",
    "- Welch's t-test: statistic = 6.4582, p-value = 0.0000\n",
    "  - Reject H₀: Older customers have higher in-store purchases\n",
    "\n",
    "---"
   ]
  },
  {
   "cell_type": "markdown",
   "id": "10f12bc7",
   "metadata": {},
   "source": [
    "### Conclusions"
   ]
  },
  {
   "cell_type": "markdown",
   "id": "aae46dd8",
   "metadata": {},
   "source": [
    "Both the parametric test (Welch's t-Test) and the non-parametric test (Mann-Whitney U Test) reject H₀, meaning there is evidence that older customers make more in-store purchases than younger customers."
   ]
  },
  {
   "cell_type": "markdown",
   "id": "11a142fc",
   "metadata": {},
   "source": [
    "---\n",
    "---"
   ]
  },
  {
   "cell_type": "markdown",
   "id": "94f219a7",
   "metadata": {
    "jp-MarkdownHeadingCollapsed": true
   },
   "source": [
    "## b. Customers with children prefer online shopping"
   ]
  },
  {
   "cell_type": "markdown",
   "id": "7c500215",
   "metadata": {},
   "source": [
    "#### Specify H₀ and H₁:\n",
    "- H₀: The distributions of NumWebPurchases for customers with and without children are identical (no difference in distribution).\n",
    "- H₁: The distribution of NumWebPurchases for customers with children is stochastically greater (they tend to have higher values).\n",
    "\n",
    "#### Normality and Test Choice:\n",
    "- Use the t-test if NumWebPurchases is approximately normally distributed.\n",
    "- Use the Mann-Whitney U test if the data is non-normal.\n",
    "\n",
    "#### Interpreting Results:\n",
    "- P-value ≤ α (0.05): Reject H₀, concluding there is evidence that customers with children prefer online shopping.\n",
    "- P-value > α: Fail to reject H₀, indicating insufficient evidence that customers with children prefer online shopping."
   ]
  },
  {
   "cell_type": "markdown",
   "id": "1f4307c1",
   "metadata": {},
   "source": [
    "### Results"
   ]
  },
  {
   "cell_type": "markdown",
   "id": "08a03899",
   "metadata": {},
   "source": [
    "#### Normality Tests"
   ]
  },
  {
   "cell_type": "markdown",
   "id": "ffcb6b8e",
   "metadata": {},
   "source": [
    "**Perform Shapiro-Wilk Test**\n",
    "\n",
    "_Purpose:_\n",
    "- Tests the null hypothesis (H₀) that the data from the groups is normally distributed.\n",
    "- Alternative hypothesis (H₁): The data is not normally distributed."
   ]
  },
  {
   "cell_type": "markdown",
   "id": "f18097c7",
   "metadata": {},
   "source": [
    "_Shapiro-Wilk Test Results:_\n",
    "- Shapiro-Wilk Test for Has_Children = 1: p-value = 0.0000\n",
    "  - p-value < 0.05: Reject H₀, data is not normally distributed.\n",
    "- Shapiro-Wilk Test for Has_Children = 0: p-value = 0.0000\n",
    "  - p-value < 0.05: Reject H₀, data is not normally distributed."
   ]
  },
  {
   "cell_type": "markdown",
   "id": "3ed66ce7",
   "metadata": {},
   "source": [
    "**Descriptive Statistics:**\n",
    "| Has Children |      mean |  median |       std | count |\n",
    "|--------------|-----------|---------|-----------|-------|\n",
    "| False        | 4.421801  | 4.0     | 2.468273  | 633   |\n",
    "| True         | 3.972431  | 3.0     | 2.879044  | 1596  |"
   ]
  },
  {
   "cell_type": "markdown",
   "id": "6b72d314",
   "metadata": {},
   "source": [
    "**Visualizations**\n",
    "\n",
    "![Box and Violin Plots of Web Purchases for Customers with Children](figures/Box_and_Violin_Plots_Children_Customers.png)"
   ]
  },
  {
   "cell_type": "markdown",
   "id": "787b6c28",
   "metadata": {},
   "source": [
    "**Conclusion**: Shapiro-Wilk test and plots show data is not normally distributed so a non-parametric test seems more appropriate\n",
    "\n",
    "---\n"
   ]
  },
  {
   "cell_type": "markdown",
   "id": "dcb83e03",
   "metadata": {},
   "source": [
    "#### Non-Parametric Tests"
   ]
  },
  {
   "cell_type": "markdown",
   "id": "0e5a45df",
   "metadata": {},
   "source": [
    "**Mann-Whitney U Test (One-Tailed) Results**\n",
    "- Mann-Whitney U Test: statistic = 428511.0000, p-value = 1.0000\n",
    "  - Fail to reject H₀: No evidence that customers with children have higher web purchases\n",
    "\n",
    "---"
   ]
  },
  {
   "cell_type": "markdown",
   "id": "9032525f",
   "metadata": {},
   "source": [
    "#### Parametric Tests"
   ]
  },
  {
   "cell_type": "markdown",
   "id": "5e4bde1d",
   "metadata": {},
   "source": [
    "Parametric tests (e.g., t-tests) assume normality and homogeneity of variances.\n",
    "\n",
    "**Why a t-test may be ok**\n",
    "- Large sample sizes (e.g., n > 30 or ideally n > 50 per group), due to the Central Limit Theorem (CLT).\n",
    "- The CLT states that the sampling distribution of the mean approaches normality as sample size increases, even if the underlying data is non-normal."
   ]
  },
  {
   "cell_type": "markdown",
   "id": "4d351dfc",
   "metadata": {},
   "source": [
    "_Sample size for Has Children:_\n",
    "\n",
    "| Has Children | Sample Size |\n",
    "|--------------|-------------|\n",
    "| True         | 1596        |\n",
    "| False        | 633         |"
   ]
  },
  {
   "cell_type": "markdown",
   "id": "ac19d0f1",
   "metadata": {},
   "source": [
    "**Perform Levene's test**\n",
    "\n",
    "_Purpose:_\n",
    "\n",
    "- Alternative hypothesis (H₁): The variances are not equal.\n",
    "\n",
    "_Variations of test:_\n",
    "- Standard Levene’s Test: Uses the group mean for calculating deviations.\n",
    "- Modified Levene’s Test (Brown-Forsythe): Uses the group median instead of the mean, which is more robust to non-normal data.\n",
    "\n",
    "_Implications of test:_\n",
    "- If Levene’s test indicates unequal variances (p-value ≤ 0.05), use Welch’s t-test to compare means.\n",
    "- If variances are equal, use the standard t-test."
   ]
  },
  {
   "cell_type": "markdown",
   "id": "75ff8c05",
   "metadata": {},
   "source": [
    "**Modified Levene’s Test (Brown-Forsythe) Results**\n",
    "- Levene's Test: statistic = 22.7688, p-value = 0.0000\n",
    "  - Unequal variances (p < 0.05)\n",
    "- Unequal variances use Welch’s t-test to compare means\n",
    "  - Run parametric Welch's t-test"
   ]
  },
  {
   "cell_type": "markdown",
   "id": "6eeaab80",
   "metadata": {},
   "source": [
    "**Welch's t-Test (unequal variances):**\n",
    "- Welch's t-test: statistic = -3.6915, p-value = 0.9999\n",
    "  - Fail to reject H₀: No evidence that customers with children have higher web purchases\n",
    "\n",
    "---"
   ]
  },
  {
   "cell_type": "markdown",
   "id": "bf9b48d5",
   "metadata": {},
   "source": [
    "### Conclusions"
   ]
  },
  {
   "cell_type": "markdown",
   "id": "64b33345",
   "metadata": {},
   "source": [
    "Both the parametric test (Welch's t-Test) and the non-parametric test (Mann-Whitney U Test) fail to reject H₀, meaning there is no evidence that customers with children have higher web purchases."
   ]
  },
  {
   "cell_type": "markdown",
   "id": "730e7cc8",
   "metadata": {},
   "source": [
    "---\n",
    "---"
   ]
  },
  {
   "cell_type": "markdown",
   "id": "fa1f54a4",
   "metadata": {
    "jp-MarkdownHeadingCollapsed": true
   },
   "source": [
    "## c. Store Sales Cannibalization by alternative distribution channels"
   ]
  },
  {
   "cell_type": "markdown",
   "id": "7ed313a2",
   "metadata": {},
   "source": [
    "#### Specify H₀ and H₁:\n",
    "- Test if web/catalog purchases negatively correlate with store purchases\n",
    "- Cannibalization requires store purchases to decrease when others increase\n",
    "- H₀: High alternative channel users buy same/more in stores\n",
    "- H₁: High alternative channel users buy LESS in stores (cannibalization)\n",
    "\n",
    "#### Normality and Test Choice:\n",
    "- Use the t-test if the data from the 3 purchase groups is approximately normally distributed.\n",
    "- Use the Mann-Whitney U test if the data is non-normal.\n",
    "\n",
    "#### Correlation Test Choices\n",
    "- Pearson:\n",
    "  - Assumes linear relationships\n",
    "  - Sensitive to outliers and skewness\n",
    "  - Underestimates relationships in your data\n",
    "- Spearman:\n",
    "  - Works with monotonic relationships\n",
    "  - Robust to outliers\n",
    "  - Better captures the true strength of relationships in your skewed data\n",
    "\n",
    "#### Interpreting Results:\n",
    "- The analysis ensures statistical validity through:\n",
    "  - Multiple testing corrections when examining several channel pairs\n",
    "  - Assumption checking for parametric tests\n",
    "  - Robustness checks using non-parametric alternatives\n"
   ]
  },
  {
   "cell_type": "markdown",
   "id": "f7d15318",
   "metadata": {},
   "source": [
    "### Results"
   ]
  },
  {
   "cell_type": "markdown",
   "id": "855f39d6",
   "metadata": {},
   "source": [
    "#### Normality Tests"
   ]
  },
  {
   "cell_type": "markdown",
   "id": "09970315",
   "metadata": {},
   "source": [
    "**Perform Shapiro-Wilk Test**\n",
    "\n",
    "_Purpose:_\n",
    "- Tests the null hypothesis (H₀) that the data from the groups is normally distributed.\n",
    "- Alternative hypothesis (H₁): The data is not normally distributed."
   ]
  },
  {
   "cell_type": "markdown",
   "id": "fcbffbbb",
   "metadata": {},
   "source": [
    "_Shapiro-Wilk Test Results:_\n",
    "- Shapiro-Wilk Test for NumStorePurchases: W= 0.9020, p-value = 0.0000\n",
    "  - p-value < 0.05: Reject H₀, data is not normally distributed.\n",
    "- Shapiro-Wilk Test for NumWebPurchases: W= 0.8970, p-value = 0.0000\n",
    "  - p-value < 0.05: Reject H₀, data is not normally distributed.\n",
    "- Shapiro-Wilk Test for NumCatalogPurchases: W= 0.8417, p-value = 0.0000\n",
    "  - p-value < 0.05: Reject H₀, data is not normally distributed."
   ]
  },
  {
   "cell_type": "markdown",
   "id": "fb2b4689",
   "metadata": {},
   "source": [
    "**Descriptive Statistics:**\n",
    "\n",
    "|Metric|NumStorePurchases  |NumWebPurchases   |NumCatalogPurchases   |Total_Purchases   |\n",
    "|------|-------------------|------------------|----------------------|------------------|\n",
    "|mean  |5.81               |4.10              |2.64                  |12.55             |\n",
    "|std   |3.24               |2.78              |2.80                  |7.18              |\n",
    "|min   |0.00               |0.00              |0.00                  |0.00              |\n",
    "|25%   |3.00               |2.00              |0.00                  |6.00              |\n",
    "|50%   |5.00               |4.00              |2.00                  |12.00             |\n",
    "|75%   |8.00               |6.00              |4.00                  |18.00             |\n",
    "|max   |13.00              |27.00             |28.00                 |32.00             |"
   ]
  },
  {
   "cell_type": "markdown",
   "id": "0ea9f7ba",
   "metadata": {},
   "source": [
    "**Distribution Channel Analysis:**\n",
    "\n",
    "![Purchase Channel Distributions and Box Plot](figures/Purchase_Channel_Distributions.png)"
   ]
  },
  {
   "cell_type": "markdown",
   "id": "bdfff7f5",
   "metadata": {},
   "source": [
    "**Conclusion**: Shapiro-Wilk test and plots show data is not normally distributed so a non-parametric test seems more appropriate\n",
    "\n",
    "---"
   ]
  },
  {
   "cell_type": "markdown",
   "id": "a902fcf6",
   "metadata": {},
   "source": [
    "#### Correlation Analysis"
   ]
  },
  {
   "cell_type": "markdown",
   "id": "33f02c59",
   "metadata": {},
   "source": [
    "**Detailed Correlation Analysis with Visualizations:**\n",
    "\n",
    "NumWebPurchases vs NumCatalogPurchases:\n",
    "- Pearson r=0.411, p=0.0000\n",
    "- Spearman r=0.624, p=0.0000\n",
    "\n",
    "![NumWebPurchases vs NumCatalogPurchases](figures/NumWebPurchases_vs_NumCatalogPurchases.png)\n",
    "\n",
    "NumWebPurchases vs NumStorePurchases:\n",
    "- Pearson r=0.499, p=0.0000\n",
    "- Spearman r=0.669, p=0.0000\n",
    "\n",
    "![NumWebPurchases vs NumStorePurchases](figures/NumWebPurchases_vs_NumStorePurchases.png)\n",
    "\n",
    "NumCatalogPurchases vs NumStorePurchases:\n",
    "- Pearson r=0.562, p=0.0000\n",
    "- Spearman r=0.715, p=0.0000\n",
    "\n",
    "![NumCatalogPurchases vs NumStorePurchases](figures/NumCatalogPurchases_vs_NumStorePurchases.png)"
   ]
  },
  {
   "cell_type": "markdown",
   "id": "5343220c",
   "metadata": {},
   "source": [
    "_Spearman vs Pearson:_\n",
    "<br>\n",
    "Spearman is better for this analysis for several reasons:\n",
    "1. Consistently Higher Values: Spearman correlations are substantially higher across all comparisons (0.62-0.72 vs 0.41-0.56), suggesting the relationships are stronger than Pearson indicates.\n",
    "2. Non-linear Relationships: The raw scatter plots show clear evidence of non-linearity - clustered, stepped patterns rather than smooth linear trends. This is particularly evident in the catalog vs store plot.\n",
    "3. Outliers and Skewness: The scatter plots reveal outliers and skewed distributions that can suppress Pearson correlations but don’t affect Spearman.\n",
    "4. Count Data Characteristics: Purchase counts often follow non-normal distributions making rank-based correlation more appropriate.\n",
    "The ranked scatter plots on the right show much cleaner, more linear relationships, confirming that Spearman better captures the true strength of association between these purchase behaviors."
   ]
  },
  {
   "cell_type": "markdown",
   "id": "dfc281f2",
   "metadata": {},
   "source": [
    "**Comprehensive Scatter Plot Analysis for Correlation**\n",
    "\n",
    "![Comprehensive Scatter Plot Analysis for Purchase Channels](figures/Comprehensive_Scatter_Plot_Analysis_for_Purchase_Channels.png)"
   ]
  },
  {
   "cell_type": "markdown",
   "id": "03e4ee76",
   "metadata": {},
   "source": [
    "**Correlation Conclusion:** \n",
    "<br>\n",
    "Correlation shows positive relationships between the various purchase methods\n",
    "- Strongest Relationship:\n",
    "  - Catalog and store purchases show the highest correlation (Pearson r=0.56, Spearman r=0.72), suggesting customers who buy from catalogs are also likely to shop in stores.\n",
    "\n",
    "- Moderate Relationships:\n",
    "  - Web and store purchases (Pearson r=0.50, Spearman r=0.67)\n",
    "  - Web and catalog purchases (Pearson r=0.41, Spearman r=0.62)\n",
    "\n",
    "---"
   ]
  },
  {
   "cell_type": "markdown",
   "id": "b70e21de",
   "metadata": {},
   "source": [
    "#### Non-Parametric Tests"
   ]
  },
  {
   "cell_type": "markdown",
   "id": "a2bc1d0f",
   "metadata": {},
   "source": [
    "**Hypothesis Testing Based on User Behavior - High/Low**\n",
    "\n",
    "_Test 1 (Web):_\n",
    "\n",
    "- H₀: Distribution of store purchases is stochastically larger or equal for high web users\n",
    "- H₁: Distribution of store purchases is stochastically smaller for high web users\n",
    "\n",
    "_Test 2 (Catalog):_\n",
    "\n",
    "- H₀: Distribution of store purchases is stochastically larger or equal for high catalog users\n",
    "- H₁: Distribution of store purchases is stochastically smaller for high catalog users"
   ]
  },
  {
   "cell_type": "code",
   "execution_count": null,
   "id": "4b5d9eb4",
   "metadata": {
    "execution": {
     "iopub.execute_input": "2025-09-06T21:14:25.398888Z",
     "iopub.status.busy": "2025-09-06T21:14:25.398888Z",
     "iopub.status.idle": "2025-09-06T21:14:25.407899Z",
     "shell.execute_reply": "2025-09-06T21:14:25.406897Z"
    }
   },
   "outputs": [],
   "source": [
    "# High and Low Users\n",
    "# high_web users equates to => df['NumWebPurchases'] > df['NumWebPurchases'].median()\n",
    "# high_catalog users equates to => df['NumCatalogPurchases'] > df['NumCatalogPurchases'].median()"
   ]
  },
  {
   "cell_type": "markdown",
   "id": "869ffe88",
   "metadata": {},
   "source": [
    "**Median Results:**\n",
    "<br>\n",
    "_Web Cannibalization Test:_\n",
    "- High web users - median store purchases: 7.0\n",
    "- Low web users - median store purchases: 3.0\n",
    "\n",
    "_Catalog Cannibalization Test:_\n",
    "- High catalog users - median store purchases: 8.0\n",
    "- Low catalog users - median store purchases: 3.0"
   ]
  },
  {
   "cell_type": "markdown",
   "id": "d6555d58",
   "metadata": {},
   "source": [
    "**Complete cannibalization analysis with multiple comparison correction**"
   ]
  },
  {
   "cell_type": "markdown",
   "id": "5a6e80e3",
   "metadata": {},
   "source": [
    "_What Each Column Represents:_\n",
    "\n",
    "- Original_p: Raw p-values from Mann-Whitney tests (no correction)\n",
    "- Bonferroni_p: Traditional Bonferroni correction (p × number_of_tests)\n",
    "- Holm_p: Holm-Bonferroni correction (sequential method)\n",
    "- FDR_p: False Discovery Rate correction (Benjamini-Hochberg)\n",
    "\n",
    "_Why You're Comparing All Methods:_ Different Conservative Levels:\n",
    "\n",
    "- Most Conservative: Traditional Bonferroni\n",
    "- Moderate: Holm-Bonferroni\n",
    "- Least Conservative: FDR (Benjamini-Hochberg)"
   ]
  },
  {
   "cell_type": "markdown",
   "id": "acd69a72",
   "metadata": {},
   "source": [
    "\n",
    "_p Values_\n",
    "|Test  |Original_p  |Bonferroni_p  |Holm_p  |FDR_p  |\n",
    "|--------------------------|-----------------------|---------------------|--------------------|----------------|\n",
    "|Web       |       1.0           |             1.0    |         1.0       | 1.0          |\n",
    "|Catalog   |       1.0           |             1.0    |         1.0       | 1.0          |\n",
    "\n",
    "<br>\n",
    "\n",
    "_Reject Null Hypothesis - True/False_\n",
    "|Test |Significant_Original  |Significant_Bonferroni | Significant_Holm  |Significant_FDR|\n",
    "|--------------------------|-----------------------|---------------------|--------------------|----------------|\n",
    "|Web       |       False           |             False    |         False       | False          |\n",
    "|Catalog   |       False           |             False    |         False       | False          |"
   ]
  },
  {
   "cell_type": "markdown",
   "id": "29639436",
   "metadata": {},
   "source": [
    "### Conclusions"
   ]
  },
  {
   "cell_type": "markdown",
   "id": "6fddc360",
   "metadata": {},
   "source": [
    "**What do the results mean?**\n",
    "- Significant = False means \"Fail to reject the null hypothesis\"\n",
    "- Significant = True means \"Reject the null hypothesis\"\n",
    "- p-value < 0.05 indicates statistical significance\n",
    "- p-value can't be larger than 1.0\n",
    "\n",
    "**Multiple Comparison Results:**\n",
    "- All adjustment methods (Bonferroni, Holm-Bonferroni, FDR) gave identical results, confirming that:\n",
    "  - Robust conclusion - findings hold under different statistical assumptions\n",
    "  - No need to worry about multiple testing - results are so clear that correction doesn’t matter\n",
    "\n",
    "**What Can Be Concluded**\n",
    "- Testing for cannibalization was performed using multiple statistical approaches with different levels of conservatism. Regardless of the correction method used (Bonferroni, Holm-Bonferroni, or FDR), no evidence of cannibalization (all p-values = 1.0), providing strong evidence that alternative channels complement rather than compete with store sales.\n",
    "\n",
    "**Final Interpretation**\n",
    "- There is no statistical evidence that web or catalog purchases cannibalize store sales. In fact, customers who purchase heavily through alternative channels also tend to be heavy store shoppers, suggesting these channels work synergistically rather than competitively."
   ]
  },
  {
   "cell_type": "markdown",
   "id": "6be69705",
   "metadata": {},
   "source": [
    "---\n",
    "---"
   ]
  },
  {
   "cell_type": "markdown",
   "id": "99ff04b6",
   "metadata": {},
   "source": [
    "## d. US versus the rest of the world in total purchases per customer"
   ]
  },
  {
   "cell_type": "markdown",
   "id": "42bf6311",
   "metadata": {},
   "source": [
    "#### Specify H₀ and H₁:\n",
    "- H₀: The distributions of Total_Puchases for US and non-US customers are identical (no difference in distribution).\n",
    "- H₁: The distribution of Total_Purchases for US customers is stochastically greater (US tends to have higher Total_Purchases for its customers).\n",
    "\n",
    "#### Normality and Test Choice:\n",
    "- Use the t-test if Total_Puchases is approximately normally distributed.\n",
    "- Use the Mann-Whitney U test if the data is non-normal.\n",
    "\n",
    "#### Interpreting Results:\n",
    "- P-value ≤ α (0.05): Reject H₀, concluding there is evidence that US has higher Total_Purchases for its customers than the rest of the world.\n",
    "- P-value > α: Fail to reject H₀, indicating insufficient evidence that US has higher Total_Purchases for its customers than the rest of the world."
   ]
  },
  {
   "cell_type": "markdown",
   "id": "0c3b388b",
   "metadata": {},
   "source": [
    "### Results"
   ]
  },
  {
   "cell_type": "markdown",
   "id": "119729e3",
   "metadata": {},
   "source": [
    "#### Normality Tests"
   ]
  },
  {
   "cell_type": "markdown",
   "id": "14a119e0-4d63-4ec5-8d4a-61cd37610377",
   "metadata": {},
   "source": [
    "**Perform Shapiro-Wilk Test**\n",
    "\n",
    "_Purpose:_\n",
    "- Tests the null hypothesis (H₀) that the data from the groups is normally distributed.\n",
    "- Alternative hypothesis (H₁): The data is not normally distributed."
   ]
  },
  {
   "cell_type": "markdown",
   "id": "013f7436",
   "metadata": {},
   "source": [
    "_Shapiro-Wilk Test Results:_\n",
    "- Shapiro-Wilk Test for Country_US = 1: p-value = 0.0023\n",
    "  - p-value < 0.05: Reject H₀, data is not normally distributed.\n",
    "- Shapiro-Wilk Test for Country_US = 0: p-value = 0.0000\n",
    "  - p-value < 0.05: Reject H₀, data is not normally distributed."
   ]
  },
  {
   "cell_type": "markdown",
   "id": "b96805fd",
   "metadata": {},
   "source": [
    "**Descriptive Statistics**\n",
    "|Country is US|mean  |median  |std   |count |\n",
    "|-------------|------|--------|------|------|\n",
    "|False        |12.52 |12.0    |7.19  |2121  |\n",
    "|True         |13.37 |13.0    |6.99  |108   |"
   ]
  },
  {
   "cell_type": "markdown",
   "id": "7e40ed35",
   "metadata": {},
   "source": [
    "**Visualizations**\n",
    "\n",
    "![Total Purchase US vs Rest of the World](figures/Total_Purchase_US_vs_Rest_of_the_World.png)"
   ]
  },
  {
   "cell_type": "markdown",
   "id": "f528a211-609f-4670-82b7-e647ba6bd30c",
   "metadata": {},
   "source": [
    "**Conclusion**: Shapiro-Wilk test and plots show data is not normally distributed so a non-parametric test seems more appropriate\n",
    "\n",
    "---"
   ]
  },
  {
   "cell_type": "markdown",
   "id": "90cb35c9",
   "metadata": {},
   "source": [
    "#### Non-Parametric Tests"
   ]
  },
  {
   "cell_type": "markdown",
   "id": "1a9af29f",
   "metadata": {},
   "source": [
    "**Mann-Whitney U Test:**\n",
    "- statistic = 122899.5000, p-value = 0.0996\n",
    "  - Fail to reject H₀: No evidence that US has higher Total Purchases for its customers than the rest of the world.\n",
    "\n",
    "\n",
    "---"
   ]
  },
  {
   "cell_type": "markdown",
   "id": "a96ad349",
   "metadata": {},
   "source": [
    "#### Parametric Tests"
   ]
  },
  {
   "cell_type": "markdown",
   "id": "43ee411b-63e9-4120-9316-6408737cc181",
   "metadata": {},
   "source": [
    "Parametric tests (e.g., t-tests) assume normality and homogeneity of variances.\n",
    "\n",
    "**Why a t-test may be ok**\n",
    "- Large sample sizes (e.g., n > 30 or ideally n > 50 per group), due to the Central Limit Theorem (CLT).\n",
    "- The CLT states that the sampling distribution of the mean approaches normality as sample size increases, even if the underlying data is non-normal."
   ]
  },
  {
   "cell_type": "markdown",
   "id": "fc8f4389",
   "metadata": {},
   "source": [
    "_Sample size for Country:_\n",
    "\n",
    "|Country is US| Sample Size|\n",
    "|-------------|------------|\n",
    "|False        |2121        |\n",
    "|True         |108         |"
   ]
  },
  {
   "cell_type": "markdown",
   "id": "221a1c89",
   "metadata": {},
   "source": [
    "**Perform Levene's test**\n",
    "\n",
    "_Purpose:_\n",
    "\n",
    "- Tests the null hypothesis (H₀) that the variances of the groups are equal.\n",
    "- Alternative hypothesis (H₁): The variances are not equal.\n",
    "\n",
    "_Variations of test:_\n",
    "- Standard Levene’s Test: Uses the group mean for calculating deviations.\n",
    "- Modified Levene’s Test (Brown-Forsythe): Uses the group median instead of the mean, which is more robust to non-normal data.\n",
    "\n",
    "_Implications of test:_\n",
    "- If Levene’s test indicates unequal variances (p-value ≤ 0.05), use Welch’s t-test to compare means.\n",
    "- If variances are equal, use the standard t-test."
   ]
  },
  {
   "cell_type": "markdown",
   "id": "a7403f7a-8459-446a-bb51-780e86803c2d",
   "metadata": {},
   "source": [
    "**Modified Levene’s Test (Brown-Forsythe) Results**\n",
    "- Levene's Test: statistic = 1.8860, p-value = 0.1698\n",
    "  - Equal variances (p >= 0.05)\n",
    "- Equal variances use standard t-test to compare means\n",
    "  - Run parametric t-test"
   ]
  },
  {
   "cell_type": "markdown",
   "id": "e34c7d9c",
   "metadata": {},
   "source": [
    "**Standard t-Test (equal variances):**\n",
    "- t-test: statistic = 1.2184, p-value = 0.1116\n",
    "  - Fail to reject H₀: No evidence that US has higher Total Purchases for its customers than the rest of the world."
   ]
  },
  {
   "cell_type": "markdown",
   "id": "113b6b6f",
   "metadata": {},
   "source": [
    "### Conclusions"
   ]
  },
  {
   "cell_type": "markdown",
   "id": "8b089285",
   "metadata": {},
   "source": [
    "Both the parametric test (Standard t-Test) and the non-parametric test (Mann-Whitney U Test) fail to reject H₀, meaning there is no evidence that Total Purchases for US customers is greater than Total Purchases for Non US Customers"
   ]
  }
 ],
 "metadata": {
  "kernelspec": {
   "display_name": ".venv",
   "language": "python",
   "name": "python3"
  },
  "language_info": {
   "codemirror_mode": {
    "name": "ipython",
    "version": 3
   },
   "file_extension": ".py",
   "mimetype": "text/x-python",
   "name": "python",
   "nbconvert_exporter": "python",
   "pygments_lexer": "ipython3",
   "version": "3.10.11"
  }
 },
 "nbformat": 4,
 "nbformat_minor": 4
}