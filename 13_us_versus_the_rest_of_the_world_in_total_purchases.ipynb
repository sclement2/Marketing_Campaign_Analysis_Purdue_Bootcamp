{
 "cells": [
  {
   "cell_type": "markdown",
   "id": "9e95a3af",
   "metadata": {},
   "source": [
    "# Hypothesis Testing\n",
    "\n",
    "Section: d. US versus the rest of the world in total purchases per customer\n",
    "\n",
    "**Part of:** [marketing_campaign_082825_working.ipynb](./marketing_campaign_082825_working.ipynb)"
   ]
  },
  {
   "cell_type": "code",
   "execution_count": null,
   "id": "83e2cd5c",
   "metadata": {
    "execution": {
     "iopub.execute_input": "2025-09-06T21:13:15.224681Z",
     "iopub.status.busy": "2025-09-06T21:13:15.223681Z",
     "iopub.status.idle": "2025-09-06T21:13:17.178966Z",
     "shell.execute_reply": "2025-09-06T21:13:17.177965Z"
    }
   },
   "outputs": [],
   "source": [
    "# Setup and data loading\n",
    "from utils import (\n",
    "    ProjectConfig,\n",
    "    load_intermediate_results,\n",
    "    save_project_figure,\n",
    "    reset_plot_settings,\n",
    ")\n",
    "import seaborn as sns\n",
    "import matplotlib.pyplot as plt\n",
    "import warnings\n",
    "warnings.filterwarnings(\"ignore\")\n",
    "\n",
    "config = ProjectConfig()\n",
    "# Load data from previous notebook\n",
    "df = load_intermediate_results(\"data_from_08_step_6.pkl\", config)\n"
   ]
  },
  {
   "cell_type": "markdown",
   "id": "afab8cee",
   "metadata": {
    "id": "4-SEZkZleCWN"
   },
   "source": [
    "## d. US versus the rest of the world in total purchases per customer"
   ]
  },
  {
   "cell_type": "code",
   "execution_count": null,
   "id": "203a2cf6",
   "metadata": {
    "execution": {
     "iopub.execute_input": "2025-09-06T21:13:17.180964Z",
     "iopub.status.busy": "2025-09-06T21:13:17.180964Z",
     "iopub.status.idle": "2025-09-06T21:13:17.193964Z",
     "shell.execute_reply": "2025-09-06T21:13:17.192962Z"
    },
    "executionInfo": {
     "elapsed": 31,
     "status": "ok",
     "timestamp": 1756043834420,
     "user": {
      "displayName": "Scott Clement",
      "userId": "09077177954652264696"
     },
     "user_tz": 420
    },
    "id": "8BX-eOEVLT1-"
   },
   "outputs": [],
   "source": [
    "# d. US vs rest of world in total purchases per customer\n",
    "\n",
    "# Specify H₀ and H₁:\n",
    "# H₀: The distributions of Total_Puchases for US and non-US customers are\n",
    "#     identical (no difference in distribution).\n",
    "# H₁: The distribution of Total_Purchases for US customers is stochastically\n",
    "#     greater (US tends to have higher Total_Purchases for its customers).\n",
    "\n",
    "# Normality and Test Choice:\n",
    "# •  Use the t-test if Total_Puchases is approximately normally distributed.\n",
    "# •  Use the Mann-Whitney U test if the data is non-normal.\n",
    "\n",
    "# Interpreting Results:\n",
    "# •  P-value ≤ α (0.05): Reject H₀, concluding there is evidence that US has higher\n",
    "#    Total_Purchases for its customers than the rest of the world.\n",
    "# •  P-value > α: Fail to reject H₀, indicating insufficient evidence that US has higher\n",
    "#    Total_Purchases for its customers than the rest of the world."
   ]
  },
  {
   "cell_type": "code",
   "execution_count": null,
   "id": "04e9e75b",
   "metadata": {
    "execution": {
     "iopub.execute_input": "2025-09-06T21:13:17.195964Z",
     "iopub.status.busy": "2025-09-06T21:13:17.195964Z",
     "iopub.status.idle": "2025-09-06T21:13:17.207964Z",
     "shell.execute_reply": "2025-09-06T21:13:17.207964Z"
    },
    "executionInfo": {
     "elapsed": 51,
     "status": "ok",
     "timestamp": 1756043834464,
     "user": {
      "displayName": "Scott Clement",
      "userId": "09077177954652264696"
     },
     "user_tz": 420
    },
    "id": "oAAxpFs0LT1-"
   },
   "outputs": [],
   "source": [
    "# Split data\n",
    "us_purchases = df[df['Country_US'] == 1]['Total_Purchases']\n",
    "non_us_purchases = df[df['Country_US'] == 0]['Total_Purchases']"
   ]
  },
  {
   "cell_type": "code",
   "execution_count": null,
   "id": "65516add",
   "metadata": {
    "colab": {
     "base_uri": "https://localhost:8080/"
    },
    "execution": {
     "iopub.execute_input": "2025-09-06T21:13:17.210965Z",
     "iopub.status.busy": "2025-09-06T21:13:17.210965Z",
     "iopub.status.idle": "2025-09-06T21:13:17.223965Z",
     "shell.execute_reply": "2025-09-06T21:13:17.222964Z"
    },
    "executionInfo": {
     "elapsed": 33,
     "status": "ok",
     "timestamp": 1756043834544,
     "user": {
      "displayName": "Scott Clement",
      "userId": "09077177954652264696"
     },
     "user_tz": 420
    },
    "id": "fm3-2zV3LT1-",
    "outputId": "8d6fc5a5-fe35-41ba-91a5-18da12e1d905"
   },
   "outputs": [],
   "source": [
    "# Normality check\n",
    "from scipy.stats import shapiro\n",
    "\n",
    "# Purpose:\n",
    "# •  Tests the null hypothesis (H₀) that the data from the groups is normally distributed.\n",
    "# •  Alternative hypothesis (H₁): The data is not normally distributed.\n",
    "\n",
    "for group, data in [(1, us_purchases), (0, non_us_purchases)]:\n",
    "    stat, p = shapiro(data)\n",
    "    print(f\"Shapiro-Wilk Test for Country_US = {group}: p-value = {p:.4f}\")\n",
    "    if p < 0.05:\n",
    "        print(\"  p-value < 0.05: Reject H₀, data is not normally distributed.\")\n",
    "    else:\n",
    "        print(\"  p-value >= 0.05: Fail to reject H₀, data may be normally distributed.\")"
   ]
  },
  {
   "cell_type": "code",
   "execution_count": null,
   "id": "534ed14d",
   "metadata": {
    "colab": {
     "base_uri": "https://localhost:8080/",
     "height": 0
    },
    "execution": {
     "iopub.execute_input": "2025-09-06T21:13:17.227967Z",
     "iopub.status.busy": "2025-09-06T21:13:17.226967Z",
     "iopub.status.idle": "2025-09-06T21:13:18.001069Z",
     "shell.execute_reply": "2025-09-06T21:13:18.000067Z"
    },
    "executionInfo": {
     "elapsed": 67,
     "status": "ok",
     "timestamp": 1756043834628,
     "user": {
      "displayName": "Scott Clement",
      "userId": "09077177954652264696"
     },
     "user_tz": 420
    },
    "id": "tEFydBhnLT1-",
    "outputId": "626cb1e0-a90d-4a55-8e50-7a912efbbe29"
   },
   "outputs": [],
   "source": [
    "# Create a figure with two subplots side by side\n",
    "\n",
    "reset_plot_settings()\n",
    "\n",
    "fig, (ax1, ax2) = plt.subplots(1,2, figsize=(12,6), sharey=True)\n",
    "\n",
    "# Boxplot\n",
    "sns.boxplot(x='Country_US', y='Total_Purchases', data=df, ax=ax1, hue='Country_US', legend=False)\n",
    "ax1.set_title(\"Box Plot of Total Purchases for US and Non-US Customers\", fontsize=12)\n",
    "ax1.set_ylabel(\"Total Purchases\", fontsize=12)\n",
    "ax1.set_xlabel('Country', fontsize=12)\n",
    "ax1.set_xticks([0,1], ['Not USA', 'USA'])\n",
    "ax1.grid(True, axis='y', linestyle='--', alpha=0.7)\n",
    "\n",
    "# Violin Plot\n",
    "sns.violinplot(x='Country_US', data=df, y='Total_Purchases', legend=False, ax=ax2, hue='Country_US')\n",
    "ax2.set_title(\"Violin Plot of Total Purchases for US and Non-US Customers\", fontsize=12)\n",
    "ax2.set_xlabel('Country', fontsize=12)\n",
    "ax2.set_xticks([0,1], ['Not USA', 'USA'])\n",
    "ax2.grid(True, axis='y', linestyle='--', alpha=0.7)\n",
    "\n",
    "plt.tight_layout()\n",
    "save_project_figure(\n",
    "    \"Total_Purchase_US_vs_Rest_of_the_World\",\n",
    "    \"Total Purchase US vs Rest of the World\",\n",
    "    config,\n",
    ")\n",
    "plt.show()\n",
    "\n",
    "# Descriptive Statistics\n",
    "stats = df.groupby('Country_US')['Total_Purchases'].agg(['mean','median','std','count'])\n",
    "print(stats)\n",
    "\n",
    "# Shapiro-Wilk test and plots show data is not normally distributed so a non-parametric\n",
    "# test seems more appropriate"
   ]
  },
  {
   "cell_type": "code",
   "execution_count": null,
   "id": "df674158",
   "metadata": {
    "colab": {
     "base_uri": "https://localhost:8080/"
    },
    "execution": {
     "iopub.execute_input": "2025-09-06T21:13:18.004070Z",
     "iopub.status.busy": "2025-09-06T21:13:18.003070Z",
     "iopub.status.idle": "2025-09-06T21:13:18.016069Z",
     "shell.execute_reply": "2025-09-06T21:13:18.015069Z"
    },
    "executionInfo": {
     "elapsed": 24,
     "status": "ok",
     "timestamp": 1756043834678,
     "user": {
      "displayName": "Scott Clement",
      "userId": "09077177954652264696"
     },
     "user_tz": 420
    },
    "id": "89jHxilkLT1_",
    "outputId": "c7cd72dd-b36b-43ed-ce9d-93805fc19155"
   },
   "outputs": [],
   "source": [
    "# Perform Mann-Whitney U Test (One-Tailed)\n",
    "# H₀: The distributions of Total_Puchases for US and non-US customers are\n",
    "#     identical (no difference in distribution).\n",
    "# H₁: The distribution of Total_Purchases for US customers is stochastically\n",
    "#     greater (US tends to have higher Total_Purchases for its customers).\n",
    "from scipy.stats import mannwhitneyu\n",
    "\n",
    "stat, p_value = mannwhitneyu(us_purchases, non_us_purchases, alternative='greater')\n",
    "print(f'Mann-Whitney U Test: statistic = {stat:.4f}, p-value = {p_value:.4f}')\n",
    "\n",
    "# Interpretation\n",
    "alpha = 0.05\n",
    "if p_value <= alpha:\n",
    "    print('Reject H₀: Reject H₀, concluding there is evidence that US has higher Total_Purchases for its customers than the rest of the world.')\n",
    "else:\n",
    "    print('Fail to reject H₀: No evidence that US has higher Total_Purchases for its customers than the rest of the world.')"
   ]
  },
  {
   "cell_type": "code",
   "execution_count": null,
   "id": "f0997d9c",
   "metadata": {
    "colab": {
     "base_uri": "https://localhost:8080/"
    },
    "execution": {
     "iopub.execute_input": "2025-09-06T21:13:18.018069Z",
     "iopub.status.busy": "2025-09-06T21:13:18.018069Z",
     "iopub.status.idle": "2025-09-06T21:13:18.031070Z",
     "shell.execute_reply": "2025-09-06T21:13:18.030068Z"
    },
    "executionInfo": {
     "elapsed": 29,
     "status": "ok",
     "timestamp": 1756043834737,
     "user": {
      "displayName": "Scott Clement",
      "userId": "09077177954652264696"
     },
     "user_tz": 420
    },
    "id": "x6VKYEqrLT1_",
    "outputId": "fad7e5f5-d208-46a4-a1ec-00503f469e41"
   },
   "outputs": [],
   "source": [
    "# Why a t-test may be ok\n",
    "# Large sample sizes (e.g., n > 30 or ideally n > 50 per group), due to the Central Limit Theorem (CLT).\n",
    "# The CLT states that the sampling distribution of the mean approaches normality as sample size increases,\n",
    "# even if the underlying data is non-normal.\n",
    "\n",
    "print(f\"Sample size for Country:\\n{df['Country_US'].value_counts()}\")\n",
    "# Sample Size is Large: Both groups (Country_US = 1 and 0) have n > 50\n",
    "# the CLT helps ensure the t-test is robust."
   ]
  },
  {
   "cell_type": "code",
   "execution_count": null,
   "id": "1e75f2d0",
   "metadata": {
    "colab": {
     "base_uri": "https://localhost:8080/"
    },
    "execution": {
     "iopub.execute_input": "2025-09-06T21:13:18.033070Z",
     "iopub.status.busy": "2025-09-06T21:13:18.033070Z",
     "iopub.status.idle": "2025-09-06T21:13:18.047071Z",
     "shell.execute_reply": "2025-09-06T21:13:18.046073Z"
    },
    "executionInfo": {
     "elapsed": 30,
     "status": "ok",
     "timestamp": 1756043834787,
     "user": {
      "displayName": "Scott Clement",
      "userId": "09077177954652264696"
     },
     "user_tz": 420
    },
    "id": "3tqeFgo3LT1_",
    "outputId": "8253e262-9222-47c5-cb82-9c99e4bc3975"
   },
   "outputs": [],
   "source": [
    "# Perform Levene's test\n",
    "\n",
    "# Purpose:\n",
    "# •  Tests the null hypothesis (H₀) that the variances of the groups are equal.\n",
    "# •  Alternative hypothesis (H₁): The variances are not equal.\n",
    "\n",
    "# Variations of test:\n",
    "# •  Standard Levene’s Test: Uses the group mean for calculating deviations.\n",
    "# •  Modified Levene’s Test (Brown-Forsythe): Uses the group median instead of the mean,\n",
    "#    which is more robust to non-normal data.\n",
    "\n",
    "# Implications of test:\n",
    "# •  If Levene’s test indicates unequal variances (p-value ≤ 0.05), use Welch’s t-test to compare means.\n",
    "# •  If variances are equal, use the standard t-test.\n",
    "\n",
    "from scipy.stats import levene\n",
    "alpha = 0.05\n",
    "\n",
    "stat, p_levene = levene(us_purchases, non_us_purchases, center='median')\n",
    "print(f\"\\nLevene's Test: statistic = {stat:.4f}, p-value = {p_levene:.4f}\")\n",
    "print(f\"{'Unequal variances' if p_levene < alpha else 'Equal variances'} (p {'<' if p_levene < alpha else '>='} {alpha})\")"
   ]
  },
  {
   "cell_type": "code",
   "execution_count": null,
   "id": "093c3900",
   "metadata": {
    "colab": {
     "base_uri": "https://localhost:8080/"
    },
    "execution": {
     "iopub.execute_input": "2025-09-06T21:13:18.050076Z",
     "iopub.status.busy": "2025-09-06T21:13:18.050076Z",
     "iopub.status.idle": "2025-09-06T21:13:18.063071Z",
     "shell.execute_reply": "2025-09-06T21:13:18.062073Z"
    },
    "executionInfo": {
     "elapsed": 90,
     "status": "ok",
     "timestamp": 1756043834898,
     "user": {
      "displayName": "Scott Clement",
      "userId": "09077177954652264696"
     },
     "user_tz": 420
    },
    "id": "BkpIfWP2LT1_",
    "outputId": "054437c1-e622-4818-cb7d-6092b3510685"
   },
   "outputs": [],
   "source": [
    "# Run standard parametric t-test since variances are equal\n",
    "\n",
    "from scipy.stats import ttest_ind\n",
    "print(\"\\nStandard t-Test:\")\n",
    "stat, p_ttest = ttest_ind(us_purchases, non_us_purchases, alternative='greater', equal_var=True)\n",
    "print(f\"t-test: statistic = {stat:.4f}, p-value = {p_ttest:.4f}\")\n",
    "\n",
    "if p_ttest <= alpha:\n",
    "    print('Reject H₀: Reject H₀, concluding there is evidence that US has higher Total_Purchases for its customers than the rest of the world.')\n",
    "else:\n",
    "    print('Fail to reject H₀: No evidence that US has higher Total_Purchases for its customers than the rest of the world.')"
   ]
  },
  {
   "cell_type": "code",
   "execution_count": null,
   "id": "64260e0d",
   "metadata": {
    "execution": {
     "iopub.execute_input": "2025-09-06T21:13:18.066070Z",
     "iopub.status.busy": "2025-09-06T21:13:18.066070Z",
     "iopub.status.idle": "2025-09-06T21:13:18.079068Z",
     "shell.execute_reply": "2025-09-06T21:13:18.078069Z"
    },
    "executionInfo": {
     "elapsed": 59,
     "status": "ok",
     "timestamp": 1756043834899,
     "user": {
      "displayName": "Scott Clement",
      "userId": "09077177954652264696"
     },
     "user_tz": 420
    },
    "id": "9vfcypi-LT1_"
   },
   "outputs": [],
   "source": [
    "# Conclusion\n",
    "# Both the parametric test (Standard t-Test) and the non-parametric test (Mann-Whitney U Test)\n",
    "# fail to reject H₀, meaning there is no evidence that Total_Purchases for US customers is greater than Total_Purchases for Non US Customers"
   ]
  },
  {
   "cell_type": "code",
   "execution_count": null,
   "id": "8ef7efce",
   "metadata": {
    "execution": {
     "iopub.execute_input": "2025-09-06T21:13:18.081069Z",
     "iopub.status.busy": "2025-09-06T21:13:18.081069Z",
     "iopub.status.idle": "2025-09-06T21:13:18.095069Z",
     "shell.execute_reply": "2025-09-06T21:13:18.094067Z"
    }
   },
   "outputs": [],
   "source": [
    "\n",
    "# Save results for next notebook\n",
    "# save_intermediate_results(df_processed, 'processed_data.pkl', config)\n",
    "# save_intermediate_results(analysis_results, 'analysis_results.pkl', config)\n",
    "# print('✓ Results saved for next notebook')"
   ]
  }
 ],
 "metadata": {
  "kernelspec": {
   "display_name": ".venv",
   "language": "python",
   "name": "python3"
  },
  "language_info": {
   "codemirror_mode": {
    "name": "ipython",
    "version": 3
   },
   "file_extension": ".py",
   "mimetype": "text/x-python",
   "name": "python",
   "nbconvert_exporter": "python",
   "pygments_lexer": "ipython3",
   "version": "3.10.11"
  }
 },
 "nbformat": 4,
 "nbformat_minor": 4
}