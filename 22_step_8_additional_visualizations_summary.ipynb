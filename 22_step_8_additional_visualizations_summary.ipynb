{
 "cells": [
  {
   "cell_type": "markdown",
   "id": "f6ac18d0",
   "metadata": {},
   "source": [
    "# Step 8: Additional Visualizations\n",
    "\n",
    "Section: Step 8: Additional Visualizations\n",
    "\n",
    "**Part of:** [marketing_campaign_082825_working.ipynb](./marketing_campaign_082825_working.ipynb)"
   ]
  },
  {
   "cell_type": "markdown",
   "id": "70543891",
   "metadata": {},
   "source": [
    "#### This notebook contains additional visualizations for the Marketing Campaign Analysis project. It encompasses the summary of key findings and insights derived from the data analysis. This notebook does not contain the actual python code used to generate the visualizations. The code for each section can be found in the corresponding Jupyter notebooks.\n",
    "- 15_identify_the_top_performing_products_and_those_wit.ipynb\n",
    "- 16_examine_if_there_is_a_correlation_between_customer.ipynb\n",
    "- 17_determine_the_country_with_the_highest_number_of_c.ipynb\n",
    "- 18_investigate_if_there_is_a_discernible_pattern_in_t.ipynb\n",
    "- 19_analyze_the_educational_background_of_customers_wh.ipynb"
   ]
  },
  {
   "cell_type": "markdown",
   "id": "b8e30274",
   "metadata": {},
   "source": [
    "The complete set of notebooks performs exploratory data analysis and hypothesis testing on marketing campaign data to understand customer acquisition factors. The summarized results for additional visualizations are presented below. The EDA and hypothesis testing results are in separate notebooks. Together, the 3 notebooks listed below provide the summary results of comprehensive analysis of the marketing campaign data.\n",
    "\n",
    "**Summary Notebooks**\n",
    "1. 01_marketing_campaign_analysis.ipynb - Exploratory Data Analysis\n",
    "2. 09_step_7_hypothesis_testing.ipynb - Hypothesis Testing\n",
    "3. 14_step_8_additional_visualizations.ipynb - Additional Visualizations"
   ]
  },
  {
   "cell_type": "markdown",
   "id": "dd12a762",
   "metadata": {},
   "source": [
    "## a. Identify the top-performing products and those with the lowest revenue."
   ]
  },
  {
   "cell_type": "markdown",
   "id": "65354fd6",
   "metadata": {},
   "source": [
    "### Results Visualization\n",
    "![Total Revenue by Product Category](figures/Total_Revenue_by_Product_Category.png)\n",
    "\n",
    "---"
   ]
  },
  {
   "cell_type": "markdown",
   "id": "f3721056",
   "metadata": {},
   "source": [
    "### Key Findings\n",
    "\n",
    "| Top-performing products | Total Revenue |\n",
    "|-------------------------|---------------|\n",
    "| MntWines                | 679826        |\n",
    "| MntMeatProducts         | 368418        |\n",
    "| MntGoldProds            | 98328         |\n",
    "\n",
    "<br>\n",
    "\n",
    "| Lowest-performing products | Total Revenue |\n",
    "|----------------------------|---------------|\n",
    "| MntFruits                  | 58731         |\n",
    "| MntSweetProducts           | 60543         |\n",
    "| MntFishProducts            | 83905         |\n"
   ]
  },
  {
   "cell_type": "markdown",
   "id": "67df9eab",
   "metadata": {},
   "source": [
    "---"
   ]
  },
  {
   "cell_type": "markdown",
   "id": "49171d26",
   "metadata": {},
   "source": [
    "## b. Examine if there is a correlation between customers’ age and the acceptance rate of the last campaign"
   ]
  },
  {
   "cell_type": "markdown",
   "id": "91bea472",
   "metadata": {},
   "source": [
    "### Age Grouping and Acceptance Data for Age Groups\n",
    "\n",
    "#### Raw Data\n",
    "\n",
    "| Age Group | Count |\n",
    "|-----------|-------|\n",
    "| 50-60     | 674   |\n",
    "| 40-50     | 552   |\n",
    "| 60-70     | 467   |\n",
    "| 70+       | 315   |\n",
    "| <40       | 221   |\n",
    "\n",
    "<br>\n",
    "\n",
    "| Age Group | Accepted Count | Total Count | Acceptance Rate | Mean Age | Age SD | Sample Size Category |\n",
    "|-----------|----------------|-------------|-----------------|----------|--------|----------------------|\n",
    "| <40       | 36             | 221         | 0.163           | 36.774   | 2.631  | Small                |\n",
    "| 40-50     | 84             | 552         | 0.152           | 46.293   | 2.873  | Large                |\n",
    "| 50-60     | 101            | 674         | 0.150           | 55.202   | 2.847  | Large                |\n",
    "| 60-70     | 63             | 467         | 0.135           | 65.694   | 2.863  | Medium               |\n",
    "| 70+       | 50             | 315         | 0.159           | 74.622   | 2.992  | Small                |\n"
   ]
  },
  {
   "cell_type": "markdown",
   "id": "49967583",
   "metadata": {},
   "source": [
    "#### Output: \n",
    "\n",
    "- correlation ≈ -0.019, p-value ≈ 0.372, indicating a very weak, non-significant relationship. Younger customers may have a slight tendency to accept the campaign, but the effect is negligible.\n",
    "- boxplots, histogram plots, bar plot with error bars and scatter plot show no significant age to campaign acceptance relationship\n",
    "\n",
    "---"
   ]
  },
  {
   "cell_type": "markdown",
   "id": "f222b1fb",
   "metadata": {},
   "source": [
    "### Results Visualization\n",
    "![Age Distribution by Campaign Response](figures/Age_Distribution_by_Campaign_Response.png)\n",
    "\n",
    "Results and possible conclusions from intial visualizations show that age does not seem to be correlated strongly to age. This is based on the point-biserial correlation and the boxplots and histogram plots which show if anything younger customers have a slight tendency to accept the campaign. Below several other visualizations are created to explore the age versus campaign response.\n",
    "\n",
    "![Age Distribution by Campaign Response Significance](figures/Age_Distribution_by_Campaign_Response_Significance.png)\n",
    "----"
   ]
  },
  {
   "cell_type": "markdown",
   "id": "80258915",
   "metadata": {},
   "source": [
    "### Key Findings\n",
    "- Minimal Age Effect: The most striking finding is that age has virtually no meaningful relationship with campaign acceptance. The correlation of -0.019 is essentially zero, indicating no practical relationship between age and response rates (very weak, non-significant relationship).\n",
    "- Consistent Acceptance Across Age Groups: The acceptance rates across all age groups cluster between 13-16%, with the 60-70 age group showing the lowest rate at approximately 13% and the <40 and 70+ groups showing the highest at around 16%. This 3 percentage point difference is quite small from a practical standpoint.\n",
    "\n",
    "### Statistical Considerations\n",
    "- Sample Size Reliability: The scatterplot reveals that the 60-70 age group has the smallest sample size (467), while the 50-60 group has the largest (674). The smaller sample size for the 60-70 group may contribute to the slightly lower observed acceptance rate, but the confidence intervals shown in the bar chart suggest these differences aren't statistically significant.\n",
    "- Age Distribution Insights: The first chart shows that both accepted and non-accepted groups have very similar age distributions, with mean ages differing by only 0.62 years (56.2 vs 55.6). This minimal difference reinforces that age is not a meaningful predictor.\n",
    "\n",
    "### Result\n",
    "- Campaign acceptance does not seem to be correlated strongly to age."
   ]
  },
  {
   "cell_type": "markdown",
   "id": "0bc2e544",
   "metadata": {},
   "source": [
    "---"
   ]
  },
  {
   "cell_type": "markdown",
   "id": "16328416",
   "metadata": {},
   "source": [
    "## c. Determine the country with the highest number of customers who accepted the last campaign."
   ]
  },
  {
   "cell_type": "markdown",
   "id": "35d1ff9c",
   "metadata": {},
   "source": [
    "### Data Set Overview:\n",
    "- Total customers: 2,229\n",
    "- Total countries: 8\n",
    "- Customers who accepted last campaign: 334\n",
    "- Overall acceptance rate: 14.98%\n",
    "\n",
    "| Country | Total Customers | Accepted Customers | Acceptance Rate |\n",
    "|---------|-----------------|--------------------|-----------------|\n",
    "| SP      | 1091            | 176                | 16.13           |\n",
    "| SA      | 334             | 52                 | 15.57           |\n",
    "| CA      | 267             | 38                 | 14.23           |\n",
    "| AUS     | 160             | 23                 | 14.38           |\n",
    "| GER     | 120             | 17                 | 14.17           |\n",
    "| IND     | 146             | 13                 | 8.90            |\n",
    "| US      | 108             | 13                 | 12.04           |\n",
    "| ME      | 3               | 2                  | 66.67           |\n",
    "\n",
    "---"
   ]
  },
  {
   "cell_type": "markdown",
   "id": "198e4063",
   "metadata": {},
   "source": [
    "### Results Visualization\n",
    "\n",
    "![Country with Highest Number of Customers Who Accepted](figures/Country_with_Highest_Number_of_Customers_Who_Accepted.png)\n",
    "----"
   ]
  },
  {
   "cell_type": "markdown",
   "id": "b8f322e3",
   "metadata": {},
   "source": [
    "\n",
    "#### Detailed Insights \n",
    "\n",
    "\n",
    "| Country | Total Customers | Customers Accepted | Acceptance Rate | Market Share Total | Market Share Accepted |\n",
    "|---------|-----------------|--------------------|-----------------|--------------------|-----------------------|\n",
    "| SP      | 1091            | 176                | 16.13           | 48.9               | 52.7                  |\n",
    "| SA      | 334             | 52                 | 15.57           | 15.0               | 15.6                  |\n",
    "| CA      | 267             | 38                 | 14.23           | 12.0               | 11.4                  |\n",
    "| AUS     | 160             | 23                 | 14.37           | 7.2                | 6.9                   |\n",
    "| GER     | 120             | 17                 | 14.17           | 5.4                | 5.1                   |\n",
    "| IND     | 146             | 13                 | 8.90            | 6.6                | 3.9                   |\n",
    "| US      | 108             | 13                 | 12.04           | 4.8                | 3.9                   |\n",
    "| ME      | 3               | 2                  | 66.67           | 0.1                | 0.6                   |"
   ]
  },
  {
   "cell_type": "markdown",
   "id": "a1d1e45a",
   "metadata": {},
   "source": [
    "### Key Insights:\n",
    "- SP leads with 176 customers accepting the campaign (52.7% of all acceptances)\n",
    "- SP has 1091 total customers (48.9% of customer base)\n",
    "- SP’s acceptance rate for the last campaign is 16.13% (vs 14.98% overall)\n",
    "- ME with a 66.7% acceptance rate has the highest acceptance rate for the last campaign (but only 2 total acceptances vs SP’s 176)"
   ]
  },
  {
   "cell_type": "markdown",
   "id": "40e18f19",
   "metadata": {},
   "source": [
    "---"
   ]
  },
  {
   "cell_type": "markdown",
   "id": "c790b798",
   "metadata": {},
   "source": [
    "## d. Investigate if there is a discernible pattern in the number of children at home and the total expenditure."
   ]
  },
  {
   "cell_type": "markdown",
   "id": "0aed9cf1",
   "metadata": {},
   "source": [
    "### Children at Home vs. Total Expenditure Analysis\n",
    "\n",
    "#### Raw Data\n",
    "\n",
    "- Total Records: 2229\n",
    "- Children count range: 0 to 3\n",
    "- Expenditure range: $5 to $2525\n",
    "\n",
    "| Number Of Children | Count  | Mean    | Standard Deviation | Min | 25%   | 50%    | 75%    | Max    |\n",
    "|--------------------|--------|---------|--------------------|-----|-------|--------|--------|--------|\n",
    "| 0                  | 633.0  | 1106.37 | 642.97             | 6.0 | 636.0 | 1189.0 | 1587.0 | 2525.0 |\n",
    "| 1                  | 1123.0 | 473.22  | 477.20             | 5.0 | 64.0  | 306.0  | 805.0  | 2194.0 |\n",
    "| 2                  | 420.0  | 246.28  | 311.63             | 9.0 | 45.0  | 92.5   | 316.5  | 1750.0 |\n",
    "| 3                  | 53.0   | 274.60  | 414.28             | 8.0 | 35.0  | 88.0   | 348.0  | 1616.0 |\n",
    "\n",
    "- Pearson correlation coefficient: -0.4995\n",
    "- Correlation interpretation: Moderate negative\n",
    "\n",
    "----"
   ]
  },
  {
   "cell_type": "markdown",
   "id": "8f5d63a2",
   "metadata": {},
   "source": [
    "### Detailed Findings and Insights\n",
    "#### Summary Results\n",
    "\n",
    "| Number Of Children | Sample Size | Average Spending | Median Spending | Standard Deviation | % of Total  Spending | Ratio |\n",
    "|--------------------|-------------|------------------|-----------------|--------------------|----------------------|-------|\n",
    "| 0                  | 633         | 1106.37          | 1189            | 642.97             | 28.4%                | 1.00  |\n",
    "| 1                  | 1123        | 473.22           | 306.0           | 477.20             | 50.4%                | 0.43  |\n",
    "| 2                  | 420         | 246.28           | 92.5            | 311.63             | 18.8%                | 0.2   |\n",
    "| 3                  | 53          | 274.60           | 88.0            | 414.28             | 2.4%                 | 0.25  |\n",
    "\n",
    "----"
   ]
  },
  {
   "cell_type": "markdown",
   "id": "ed0381b3",
   "metadata": {},
   "source": [
    "### Results Visualization\n",
    "![Local Image](./figures/Children_at_Home_vs_Total_Expenditure.png)"
   ]
  },
  {
   "cell_type": "markdown",
   "id": "dcce28ae",
   "metadata": {},
   "source": [
    "#### Expenditure:\n",
    "- 0 children: $1106 average expenditure\n",
    "- 1 child:    $473 average expenditure (57.2% decrease)\n",
    "- 2 children: $246 average expenditure (77.7% decrease)\n",
    "- 3 children: $275 average expenditure (75.2% decrease)\n",
    "\n",
    "#### Implications:\n",
    "- Childless households represent 28.4% of customers but highest value\n",
    "- Average spending ratio (0 vs 1 child): 2.3:1\n",
    "- Average spending ratio (0 vs 2 children): 4.5:1\n",
    "- Average spending ratio (0 vs 3+ children): 4.0:1\n",
    "- Clear market segmentation opportunity based on family status\n",
    "\n",
    "#### Conclusion:\n",
    "- There is an inverse relationship between the number of children at home and total expenditure.\n",
    "- This pattern is consistent across all statistical measures"
   ]
  },
  {
   "cell_type": "markdown",
   "id": "0b001167",
   "metadata": {},
   "source": [
    "---"
   ]
  },
  {
   "cell_type": "markdown",
   "id": "8058a86d",
   "metadata": {},
   "source": [
    "## e. Analyze the educational background of customers who lodged complaints in the last two years."
   ]
  },
  {
   "cell_type": "markdown",
   "id": "087f7d6b",
   "metadata": {},
   "source": [
    "### Results Visualization\n",
    "\n",
    "![Education Background of People Who Complain](figures/Education_Background_People_Complain.png)\n",
    "----"
   ]
  },
  {
   "cell_type": "markdown",
   "id": "8fef288e",
   "metadata": {},
   "source": [
    "### Key Insights:\n",
    "- Bachelor's Degree Holders Dominate Complaints\n",
    "  - Bachelor's represent 70% of all complaints (pie chart) and have the highest absolute count (14 complaints)\n",
    "- Complaint Rates Are Consistently Low Across Education Levels\n",
    "  - All education groups show 98.8-100% \"No Complaint\" rates (stacked bar chart)\n",
    "  - Secondary education shows 100% satisfaction, while Bachelor's, Master's, and PhD all hover around 98.8-99.1%\n",
    "  - The differences between education levels are minimal (less than 2 percentage points)\n",
    "- Complaint Activity Is Sporadic\n",
    "  - The time trend shows complaints are infrequent and clustered\n",
    "  - Most time periods have zero complaints, with occasional spikes\n",
    "  - Bachelor's degree holders appear in most complaint periods"
   ]
  }
 ],
 "metadata": {
  "kernelspec": {
   "display_name": ".venv",
   "language": "python",
   "name": "python3"
  },
  "language_info": {
   "codemirror_mode": {
    "name": "ipython",
    "version": 3
   },
   "file_extension": ".py",
   "mimetype": "text/x-python",
   "name": "python",
   "nbconvert_exporter": "python",
   "pygments_lexer": "ipython3",
   "version": "3.10.11"
  }
 },
 "nbformat": 4,
 "nbformat_minor": 5
}
