{
 "cells": [
  {
   "cell_type": "markdown",
   "id": "b77353b5",
   "metadata": {},
   "source": [
    "# Hypothesis Testing\n",
    "\n",
    "Section: b. Customers with children prefer online shopping\n",
    "\n",
    "**Part of:** [marketing_campaign_082825_working.ipynb](./marketing_campaign_082825_working.ipynb)"
   ]
  },
  {
   "cell_type": "code",
   "execution_count": null,
   "id": "6e990666",
   "metadata": {
    "execution": {
     "iopub.execute_input": "2025-09-06T21:12:53.039713Z",
     "iopub.status.busy": "2025-09-06T21:12:53.039713Z",
     "iopub.status.idle": "2025-09-06T21:12:54.700001Z",
     "shell.execute_reply": "2025-09-06T21:12:54.700001Z"
    }
   },
   "outputs": [],
   "source": [
    "# Setup and data loading\n",
    "from utils import (\n",
    "    ProjectConfig,\n",
    "    load_intermediate_results,\n",
    "    save_project_figure,\n",
    "    reset_plot_settings,\n",
    ")\n",
    "import seaborn as sns\n",
    "import matplotlib.pyplot as plt\n",
    "import warnings\n",
    "warnings.filterwarnings(\"ignore\")\n",
    "\n",
    "config = ProjectConfig()\n",
    "# Load data from previous notebook\n",
    "df = load_intermediate_results(\"data_from_08_step_6.pkl\", config)\n"
   ]
  },
  {
   "cell_type": "markdown",
   "id": "12bfeae4",
   "metadata": {
    "id": "aXL7WXdsgQ2n",
    "jp-MarkdownHeadingCollapsed": true
   },
   "source": [
    "## b. Customers with children prefer online shopping"
   ]
  },
  {
   "cell_type": "code",
   "execution_count": null,
   "id": "ccbdc85b",
   "metadata": {
    "execution": {
     "iopub.execute_input": "2025-09-06T21:12:54.703003Z",
     "iopub.status.busy": "2025-09-06T21:12:54.703003Z",
     "iopub.status.idle": "2025-09-06T21:12:54.716001Z",
     "shell.execute_reply": "2025-09-06T21:12:54.716001Z"
    },
    "executionInfo": {
     "elapsed": 19,
     "status": "ok",
     "timestamp": 1756043831665,
     "user": {
      "displayName": "Scott Clement",
      "userId": "09077177954652264696"
     },
     "user_tz": 420
    },
    "id": "OjhzG18_LT17"
   },
   "outputs": [],
   "source": [
    "# b. Customers with children prefer online shopping\n",
    "\n",
    "# Specify H₀ and H₁:\n",
    "# H₀: The distributions of NumWebPurchases for customers with and without children are\n",
    "#     identical (no difference in distribution).\n",
    "# H₁: The distribution of NumWebPurchases for customers with children is stochastically\n",
    "#     greater (they tend to have higher values).\n",
    "\n",
    "# Normality and Test Choice:\n",
    "# •  Use the t-test if NumWebPurchases is approximately normally distributed.\n",
    "# •  Use the Mann-Whitney U test if the data is non-normal.\n",
    "\n",
    "# Interpreting Results:\n",
    "# •  P-value ≤ α (0.05): Reject H₀, concluding there is evidence that customers with children\n",
    "#    prefer online shopping.\n",
    "# •  P-value > α: Fail to reject H₀, indicating insufficient evidence that customers with children\n",
    "#    prefer online shopping."
   ]
  },
  {
   "cell_type": "code",
   "execution_count": null,
   "id": "31df2bcd",
   "metadata": {
    "execution": {
     "iopub.execute_input": "2025-09-06T21:12:54.718003Z",
     "iopub.status.busy": "2025-09-06T21:12:54.718003Z",
     "iopub.status.idle": "2025-09-06T21:12:54.732001Z",
     "shell.execute_reply": "2025-09-06T21:12:54.732001Z"
    },
    "executionInfo": {
     "elapsed": 66,
     "status": "ok",
     "timestamp": 1756043831768,
     "user": {
      "displayName": "Scott Clement",
      "userId": "09077177954652264696"
     },
     "user_tz": 420
    },
    "id": "AzCShko5LT17"
   },
   "outputs": [],
   "source": [
    "# Split data\n",
    "df['Has_Children'] = df['Total_Children'] >= 1\n",
    "web_with_children = df[df['Has_Children'] == 1]['NumWebPurchases']\n",
    "web_without_children = df[df['Has_Children'] == 0]['NumWebPurchases']"
   ]
  },
  {
   "cell_type": "code",
   "execution_count": null,
   "id": "773d68b2",
   "metadata": {
    "colab": {
     "base_uri": "https://localhost:8080/"
    },
    "execution": {
     "iopub.execute_input": "2025-09-06T21:12:54.735003Z",
     "iopub.status.busy": "2025-09-06T21:12:54.734002Z",
     "iopub.status.idle": "2025-09-06T21:12:54.811693Z",
     "shell.execute_reply": "2025-09-06T21:12:54.810689Z"
    },
    "executionInfo": {
     "elapsed": 52,
     "status": "ok",
     "timestamp": 1756043831779,
     "user": {
      "displayName": "Scott Clement",
      "userId": "09077177954652264696"
     },
     "user_tz": 420
    },
    "id": "X1Mt0sNlLT17",
    "outputId": "40ab06a9-4ca8-416a-dd05-3615a840978b"
   },
   "outputs": [],
   "source": [
    "# Normality check\n",
    "from scipy.stats import shapiro\n",
    "\n",
    "# Purpose:\n",
    "# •  Tests the null hypothesis (H₀) that the data from the groups is normally distributed.\n",
    "# •  Alternative hypothesis (H₁): The data is not normally distributed.\n",
    "\n",
    "for group, data in [(1, web_with_children), (0, web_without_children)]:\n",
    "    stat, p = shapiro(data)\n",
    "    print(f\"Shapiro-Wilk Test for Has_Children = {group}: p-value = {p:.4f}\")\n",
    "    if p < 0.05:\n",
    "        print(\"  p-value < 0.05: Reject H₀, data is not normally distributed.\")\n",
    "    else:\n",
    "        print(\"  p-value >= 0.05: Fail to reject H₀, data may be normally distributed.\")"
   ]
  },
  {
   "cell_type": "code",
   "execution_count": null,
   "id": "3fbbb38a",
   "metadata": {
    "colab": {
     "base_uri": "https://localhost:8080/",
     "height": 0
    },
    "execution": {
     "iopub.execute_input": "2025-09-06T21:12:54.813691Z",
     "iopub.status.busy": "2025-09-06T21:12:54.813691Z",
     "iopub.status.idle": "2025-09-06T21:12:55.450857Z",
     "shell.execute_reply": "2025-09-06T21:12:55.450857Z"
    },
    "executionInfo": {
     "elapsed": 120,
     "status": "ok",
     "timestamp": 1756043831871,
     "user": {
      "displayName": "Scott Clement",
      "userId": "09077177954652264696"
     },
     "user_tz": 420
    },
    "id": "9SA6xgiBLT17",
    "outputId": "ac9ab3ab-6c85-4dd1-e119-77f4bb32059d"
   },
   "outputs": [],
   "source": [
    "# Create a figure with two subplots side by side\n",
    "\n",
    "reset_plot_settings()\n",
    "\n",
    "fig, (ax1, ax2) = plt.subplots(1,2, figsize=(12,6), sharey=True)\n",
    "\n",
    "# Boxplot\n",
    "sns.boxplot(x='Has_Children', y='NumWebPurchases', data=df, ax=ax1, hue='Has_Children', legend=False)\n",
    "ax1.set_title(\"Box Plot of Web Purchases by Presence of Children\")\n",
    "ax1.set_ylabel(\"Number of Web Purchases\")\n",
    "ax1.set_xlabel('Children')\n",
    "ax1.set_xticks([0,1], ['No Children', 'Has Children'])\n",
    "ax1.set_ylim(-2,29)\n",
    "ax1.grid(True, axis='y', linestyle='--', alpha=0.7)\n",
    "\n",
    "# Violin Plot\n",
    "sns.violinplot(x='Has_Children', data=df, y='NumWebPurchases', legend=False, ax=ax2, hue='Has_Children')\n",
    "ax2.set_title(\"Violin Plot of Web Purchases by Presence of Children\")\n",
    "ax2.set_xlabel('Children')\n",
    "ax2.set_xticks([0,1], ['No Children', 'Has Children'])\n",
    "ax2.grid(True, axis='y', linestyle='--', alpha=0.7)\n",
    "\n",
    "plt.tight_layout()\n",
    "save_project_figure(\n",
    "    \"Box_and_Violin_Plots_Children_Customers\",\n",
    "    \"Box and Violin Plots of Web Purchases for Customers with Children\",\n",
    "    config,\n",
    ")\n",
    "plt.show()\n",
    "\n",
    "# Descriptive Statistics\n",
    "print(\"\\nDescriptive Statistics\")\n",
    "dfstats = df.groupby('Has_Children')['NumWebPurchases'].agg(['mean','median','std','count'])\n",
    "print(dfstats)\n",
    "\n",
    "# Shapiro-Wilk test and plots show data is not normally distributed so a non-parametric\n",
    "# test seems more appropriate"
   ]
  },
  {
   "cell_type": "code",
   "execution_count": null,
   "id": "3d0412b5",
   "metadata": {
    "colab": {
     "base_uri": "https://localhost:8080/"
    },
    "execution": {
     "iopub.execute_input": "2025-09-06T21:12:55.453858Z",
     "iopub.status.busy": "2025-09-06T21:12:55.452858Z",
     "iopub.status.idle": "2025-09-06T21:12:55.467426Z",
     "shell.execute_reply": "2025-09-06T21:12:55.466918Z"
    },
    "executionInfo": {
     "elapsed": 64,
     "status": "ok",
     "timestamp": 1756043831907,
     "user": {
      "displayName": "Scott Clement",
      "userId": "09077177954652264696"
     },
     "user_tz": 420
    },
    "id": "mu1Ar9fOLT17",
    "outputId": "45702abf-d6a7-421e-a1f7-4dcc506f29aa"
   },
   "outputs": [],
   "source": [
    "# Perform Mann-Whitney U Test (One-Tailed)\n",
    "# H₀: The distributions of NumWebPurchases for customers with and without children are\n",
    "#     identical (no difference in distribution).\n",
    "# H₁: The distribution of NumWebPurchases for customers with children is greater\n",
    "#     (they tend to have higher values).\n",
    "from scipy.stats import mannwhitneyu\n",
    "\n",
    "stat, p_value = mannwhitneyu(web_with_children, web_without_children, alternative='greater')\n",
    "print(f'Mann-Whitney U Test: statistic = {stat:.4f}, p-value = {p_value:.4f}')\n",
    "\n",
    "# Interpretation\n",
    "alpha = 0.05\n",
    "if p_value <= alpha:\n",
    "    print('Reject H₀: Customers with children have higher web puchases puchases')\n",
    "else:\n",
    "    print('Fail to reject H₀: No evidence that customers with children have higher web purchases')"
   ]
  },
  {
   "cell_type": "code",
   "execution_count": null,
   "id": "c4abaea7",
   "metadata": {
    "colab": {
     "base_uri": "https://localhost:8080/"
    },
    "execution": {
     "iopub.execute_input": "2025-09-06T21:12:55.469434Z",
     "iopub.status.busy": "2025-09-06T21:12:55.469434Z",
     "iopub.status.idle": "2025-09-06T21:12:55.482433Z",
     "shell.execute_reply": "2025-09-06T21:12:55.482433Z"
    },
    "executionInfo": {
     "elapsed": 48,
     "status": "ok",
     "timestamp": 1756043831936,
     "user": {
      "displayName": "Scott Clement",
      "userId": "09077177954652264696"
     },
     "user_tz": 420
    },
    "id": "Pz0zAK-ALT18",
    "outputId": "800307fd-506e-4157-83d9-09e34fa1a4ec"
   },
   "outputs": [],
   "source": [
    "# Why a t-test may be ok\n",
    "# Large sample sizes (e.g., n > 30 or ideally n > 50 per group), due to the Central Limit Theorem (CLT).\n",
    "# The CLT states that the sampling distribution of the mean approaches normality as sample size increases,\n",
    "# even if the underlying data is non-normal.\n",
    "\n",
    "print(f\"Sample size for Has_Children:\\n{df['Has_Children'].value_counts()}\")\n",
    "# Sample Size is Large: Both groups (HasChildren = 1 and 0) have n > 50\n",
    "# the CLT helps ensure the t-test is robust."
   ]
  },
  {
   "cell_type": "code",
   "execution_count": null,
   "id": "7e05ba04",
   "metadata": {
    "colab": {
     "base_uri": "https://localhost:8080/"
    },
    "execution": {
     "iopub.execute_input": "2025-09-06T21:12:55.485435Z",
     "iopub.status.busy": "2025-09-06T21:12:55.484435Z",
     "iopub.status.idle": "2025-09-06T21:12:55.498433Z",
     "shell.execute_reply": "2025-09-06T21:12:55.498433Z"
    },
    "executionInfo": {
     "elapsed": 24,
     "status": "ok",
     "timestamp": 1756043831962,
     "user": {
      "displayName": "Scott Clement",
      "userId": "09077177954652264696"
     },
     "user_tz": 420
    },
    "id": "AC1LEVkGLT18",
    "outputId": "4c63df32-c7ad-4e8e-e674-3acf3f3b0805"
   },
   "outputs": [],
   "source": [
    "# Perform Levene's test\n",
    "\n",
    "# Purpose:\n",
    "# •  Tests the null hypothesis (H₀) that the variances of the groups are equal.\n",
    "# •  Alternative hypothesis (H₁): The variances are not equal.\n",
    "\n",
    "# Variations of test:\n",
    "# •  Standard Levene’s Test: Uses the group mean for calculating deviations.\n",
    "# •  Modified Levene’s Test (Brown-Forsythe): Uses the group median instead of the mean,\n",
    "#    which is more robust to non-normal data.\n",
    "\n",
    "# Implications of test:\n",
    "# •  If Levene’s test indicates unequal variances (p-value ≤ 0.05), use Welch’s t-test to compare means.\n",
    "# •  If variances are equal, use the standard t-test.\n",
    "\n",
    "from scipy.stats import levene\n",
    "alpha = 0.05\n",
    "\n",
    "stat, p_levene = levene(web_with_children, web_without_children, center='median')\n",
    "print(f\"\\nLevene's Test: statistic = {stat:.4f}, p-value = {p_levene:.4f}\")\n",
    "print(f\"{'Unequal variances' if p_levene < alpha else 'Equal variances'} (p {'<' if p_levene < alpha else '>='} {alpha})\")"
   ]
  },
  {
   "cell_type": "code",
   "execution_count": null,
   "id": "6d2c17d0",
   "metadata": {
    "colab": {
     "base_uri": "https://localhost:8080/"
    },
    "execution": {
     "iopub.execute_input": "2025-09-06T21:12:55.500434Z",
     "iopub.status.busy": "2025-09-06T21:12:55.500434Z",
     "iopub.status.idle": "2025-09-06T21:12:55.514435Z",
     "shell.execute_reply": "2025-09-06T21:12:55.514435Z"
    },
    "executionInfo": {
     "elapsed": 31,
     "status": "ok",
     "timestamp": 1756043832009,
     "user": {
      "displayName": "Scott Clement",
      "userId": "09077177954652264696"
     },
     "user_tz": 420
    },
    "id": "soy9dgjmLT18",
    "outputId": "fbf4c86e-2743-422e-c19b-ae0ee36ec6e4"
   },
   "outputs": [],
   "source": [
    "# Unequal variances use Welch’s t-test to compare means\n",
    "# Run parametric Welch's t-test\n",
    "\n",
    "from scipy.stats import ttest_ind\n",
    "print(\"\\nWelch's t-Test (unequal variances):\")\n",
    "stat, p_welch = ttest_ind(web_with_children, web_without_children, alternative='greater', equal_var=False)\n",
    "print(f\"Welch's t-test: statistic = {stat:.4f}, p-value = {p_welch:.4f}\")\n",
    "\n",
    "if p_welch <= alpha:\n",
    "    print('Reject H₀: Customers with children have higher web puchases puchases')\n",
    "else:\n",
    "    print('Fail to reject H₀: No evidence that customers with children have higher web purchases')"
   ]
  },
  {
   "cell_type": "code",
   "execution_count": null,
   "id": "9a598813",
   "metadata": {
    "execution": {
     "iopub.execute_input": "2025-09-06T21:12:55.516435Z",
     "iopub.status.busy": "2025-09-06T21:12:55.516435Z",
     "iopub.status.idle": "2025-09-06T21:12:55.530433Z",
     "shell.execute_reply": "2025-09-06T21:12:55.530433Z"
    },
    "executionInfo": {
     "elapsed": 25,
     "status": "ok",
     "timestamp": 1756043832089,
     "user": {
      "displayName": "Scott Clement",
      "userId": "09077177954652264696"
     },
     "user_tz": 420
    },
    "id": "exIT9PsYLT18"
   },
   "outputs": [],
   "source": [
    "# Conclusion\n",
    "# Both the parametric test (Welch's t-Test) and the non-parametric test (Mann-Whitney U Test)\n",
    "# fail to reject H₀, meaning there is no evidence that customers with children have higher web purchases"
   ]
  },
  {
   "cell_type": "code",
   "execution_count": null,
   "id": "1a661e40",
   "metadata": {
    "execution": {
     "iopub.execute_input": "2025-09-06T21:12:55.533436Z",
     "iopub.status.busy": "2025-09-06T21:12:55.532435Z",
     "iopub.status.idle": "2025-09-06T21:12:55.546433Z",
     "shell.execute_reply": "2025-09-06T21:12:55.546433Z"
    }
   },
   "outputs": [],
   "source": [
    "\n",
    "# Save results for next notebook\n",
    "# save_intermediate_results(df_processed, 'processed_data.pkl', config)\n",
    "# save_intermediate_results(analysis_results, 'analysis_results.pkl', config)\n",
    "# print('✓ Results saved for next notebook')"
   ]
  }
 ],
 "metadata": {
  "kernelspec": {
   "display_name": ".venv",
   "language": "python",
   "name": "python3"
  },
  "language_info": {
   "codemirror_mode": {
    "name": "ipython",
    "version": 3
   },
   "file_extension": ".py",
   "mimetype": "text/x-python",
   "name": "python",
   "nbconvert_exporter": "python",
   "pygments_lexer": "ipython3",
   "version": "3.10.11"
  }
 },
 "nbformat": 4,
 "nbformat_minor": 4
}