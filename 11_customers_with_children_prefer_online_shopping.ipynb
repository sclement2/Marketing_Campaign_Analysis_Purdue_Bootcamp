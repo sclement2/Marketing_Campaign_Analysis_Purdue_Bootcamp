{
 "cells": [
  {
   "cell_type": "markdown",
   "id": "b77353b5",
   "metadata": {},
   "source": [
    "# Hypothesis Testing\n",
    "\n",
    "Section: b. Customers with children prefer online shopping\n",
    "\n",
    "**Part of:** [marketing_campaign_082825_working.ipynb](./marketing_campaign_082825_working.ipynb)"
   ]
  },
  {
   "cell_type": "code",
   "execution_count": 1,
   "id": "6e990666",
   "metadata": {
    "execution": {
     "iopub.execute_input": "2025-09-06T21:01:43.354274Z",
     "iopub.status.busy": "2025-09-06T21:01:43.354274Z",
     "iopub.status.idle": "2025-09-06T21:01:45.646779Z",
     "shell.execute_reply": "2025-09-06T21:01:45.644779Z"
    }
   },
   "outputs": [],
   "source": [
    "# Setup and data loading\n",
    "from utils import (\n",
    "    ProjectConfig,\n",
    "    load_intermediate_results,\n",
    "    save_project_figure,\n",
    "    reset_plot_settings,\n",
    ")\n",
    "import seaborn as sns\n",
    "import matplotlib.pyplot as plt\n",
    "import warnings\n",
    "warnings.filterwarnings(\"ignore\")\n",
    "\n",
    "config = ProjectConfig()\n",
    "# Load data from previous notebook\n",
    "df = load_intermediate_results(\"data_from_08_step_6.pkl\", config)\n"
   ]
  },
  {
   "cell_type": "markdown",
   "id": "12bfeae4",
   "metadata": {
    "id": "aXL7WXdsgQ2n",
    "jp-MarkdownHeadingCollapsed": true
   },
   "source": [
    "## b. Customers with children prefer online shopping"
   ]
  },
  {
   "cell_type": "code",
   "execution_count": 2,
   "id": "ccbdc85b",
   "metadata": {
    "execution": {
     "iopub.execute_input": "2025-09-06T21:01:45.649779Z",
     "iopub.status.busy": "2025-09-06T21:01:45.648779Z",
     "iopub.status.idle": "2025-09-06T21:01:45.661779Z",
     "shell.execute_reply": "2025-09-06T21:01:45.660779Z"
    },
    "executionInfo": {
     "elapsed": 19,
     "status": "ok",
     "timestamp": 1756043831665,
     "user": {
      "displayName": "Scott Clement",
      "userId": "09077177954652264696"
     },
     "user_tz": 420
    },
    "id": "OjhzG18_LT17"
   },
   "outputs": [],
   "source": [
    "# b. Customers with children prefer online shopping\n",
    "\n",
    "# Specify H₀ and H₁:\n",
    "# H₀: The distributions of NumWebPurchases for customers with and without children are\n",
    "#     identical (no difference in distribution).\n",
    "# H₁: The distribution of NumWebPurchases for customers with children is stochastically\n",
    "#     greater (they tend to have higher values).\n",
    "\n",
    "# Normality and Test Choice:\n",
    "# •  Use the t-test if NumWebPurchases is approximately normally distributed.\n",
    "# •  Use the Mann-Whitney U test if the data is non-normal.\n",
    "\n",
    "# Interpreting Results:\n",
    "# •  P-value ≤ α (0.05): Reject H₀, concluding there is evidence that customers with children\n",
    "#    prefer online shopping.\n",
    "# •  P-value > α: Fail to reject H₀, indicating insufficient evidence that customers with children\n",
    "#    prefer online shopping."
   ]
  },
  {
   "cell_type": "code",
   "execution_count": 3,
   "id": "31df2bcd",
   "metadata": {
    "execution": {
     "iopub.execute_input": "2025-09-06T21:01:45.665781Z",
     "iopub.status.busy": "2025-09-06T21:01:45.664779Z",
     "iopub.status.idle": "2025-09-06T21:01:45.677780Z",
     "shell.execute_reply": "2025-09-06T21:01:45.676780Z"
    },
    "executionInfo": {
     "elapsed": 66,
     "status": "ok",
     "timestamp": 1756043831768,
     "user": {
      "displayName": "Scott Clement",
      "userId": "09077177954652264696"
     },
     "user_tz": 420
    },
    "id": "AzCShko5LT17"
   },
   "outputs": [],
   "source": [
    "# Split data\n",
    "df['Has_Children'] = df['Total_Children'] >= 1\n",
    "web_with_children = df[df['Has_Children'] == 1]['NumWebPurchases']\n",
    "web_without_children = df[df['Has_Children'] == 0]['NumWebPurchases']"
   ]
  },
  {
   "cell_type": "code",
   "execution_count": 4,
   "id": "773d68b2",
   "metadata": {
    "colab": {
     "base_uri": "https://localhost:8080/"
    },
    "execution": {
     "iopub.execute_input": "2025-09-06T21:01:45.680778Z",
     "iopub.status.busy": "2025-09-06T21:01:45.679779Z",
     "iopub.status.idle": "2025-09-06T21:01:45.786779Z",
     "shell.execute_reply": "2025-09-06T21:01:45.785776Z"
    },
    "executionInfo": {
     "elapsed": 52,
     "status": "ok",
     "timestamp": 1756043831779,
     "user": {
      "displayName": "Scott Clement",
      "userId": "09077177954652264696"
     },
     "user_tz": 420
    },
    "id": "X1Mt0sNlLT17",
    "outputId": "40ab06a9-4ca8-416a-dd05-3615a840978b"
   },
   "outputs": [
    {
     "name": "stdout",
     "output_type": "stream",
     "text": [
      "Shapiro-Wilk Test for Has_Children = 1: p-value = 0.0000\n",
      "  p-value < 0.05: Reject H₀, data is not normally distributed.\n",
      "Shapiro-Wilk Test for Has_Children = 0: p-value = 0.0000\n",
      "  p-value < 0.05: Reject H₀, data is not normally distributed.\n"
     ]
    }
   ],
   "source": [
    "# Normality check\n",
    "from scipy.stats import shapiro\n",
    "\n",
    "# Purpose:\n",
    "# •  Tests the null hypothesis (H₀) that the data from the groups is normally distributed.\n",
    "# •  Alternative hypothesis (H₁): The data is not normally distributed.\n",
    "\n",
    "for group, data in [(1, web_with_children), (0, web_without_children)]:\n",
    "    stat, p = shapiro(data)\n",
    "    print(f\"Shapiro-Wilk Test for Has_Children = {group}: p-value = {p:.4f}\")\n",
    "    if p < 0.05:\n",
    "        print(\"  p-value < 0.05: Reject H₀, data is not normally distributed.\")\n",
    "    else:\n",
    "        print(\"  p-value >= 0.05: Fail to reject H₀, data may be normally distributed.\")"
   ]
  },
  {
   "cell_type": "code",
   "execution_count": 5,
   "id": "3fbbb38a",
   "metadata": {
    "colab": {
     "base_uri": "https://localhost:8080/",
     "height": 0
    },
    "execution": {
     "iopub.execute_input": "2025-09-06T21:01:45.789779Z",
     "iopub.status.busy": "2025-09-06T21:01:45.789779Z",
     "iopub.status.idle": "2025-09-06T21:01:46.470778Z",
     "shell.execute_reply": "2025-09-06T21:01:46.469779Z"
    },
    "executionInfo": {
     "elapsed": 120,
     "status": "ok",
     "timestamp": 1756043831871,
     "user": {
      "displayName": "Scott Clement",
      "userId": "09077177954652264696"
     },
     "user_tz": 420
    },
    "id": "9SA6xgiBLT17",
    "outputId": "ac9ab3ab-6c85-4dd1-e119-77f4bb32059d"
   },
   "outputs": [
    {
     "name": "stdout",
     "output_type": "stream",
     "text": [
      "Saved: figures\\Box_and_Violin_Plots_Children_Customers.png\n"
     ]
    },
    {
     "data": {
      "image/png": "[encoded data removed]",
      "text/plain": [
       "<Figure size 1200x600 with 2 Axes>"
      ]
     },
     "metadata": {},
     "output_type": "display_data"
    },
    {
     "name": "stdout",
     "output_type": "stream",
     "text": [
      "\n",
      "Descriptive Statistics\n",
      "                  mean  median       std  count\n",
      "Has_Children                                   \n",
      "False         4.421801     4.0  2.468273    633\n",
      "True          3.972431     3.0  2.879044   1596\n"
     ]
    }
   ],
   "source": [
    "# Create a figure with two subplots side by side\n",
    "\n",
    "reset_plot_settings()\n",
    "\n",
    "fig, (ax1, ax2) = plt.subplots(1,2, figsize=(12,6), sharey=True)\n",
    "\n",
    "# Boxplot\n",
    "sns.boxplot(x='Has_Children', y='NumWebPurchases', data=df, ax=ax1, hue='Has_Children', legend=False)\n",
    "ax1.set_title(\"Box Plot of Web Purchases by Presence of Children\")\n",
    "ax1.set_ylabel(\"Number of Web Purchases\")\n",
    "ax1.set_xlabel('Children')\n",
    "ax1.set_xticks([0,1], ['No Children', 'Has Children'])\n",
    "ax1.set_ylim(-2,29)\n",
    "ax1.grid(True, axis='y', linestyle='--', alpha=0.7)\n",
    "\n",
    "# Violin Plot\n",
    "sns.violinplot(x='Has_Children', data=df, y='NumWebPurchases', legend=False, ax=ax2, hue='Has_Children')\n",
    "ax2.set_title(\"Violin Plot of Web Purchases by Presence of Children\")\n",
    "ax2.set_xlabel('Children')\n",
    "ax2.set_xticks([0,1], ['No Children', 'Has Children'])\n",
    "ax2.grid(True, axis='y', linestyle='--', alpha=0.7)\n",
    "\n",
    "plt.tight_layout()\n",
    "save_project_figure(\n",
    "    \"Box_and_Violin_Plots_Children_Customers\",\n",
    "    \"Box and Violin Plots of Web Purchases for Customers with Children\",\n",
    "    config,\n",
    ")\n",
    "plt.show()\n",
    "\n",
    "# Descriptive Statistics\n",
    "print(\"\\nDescriptive Statistics\")\n",
    "dfstats = df.groupby('Has_Children')['NumWebPurchases'].agg(['mean','median','std','count'])\n",
    "print(dfstats)\n",
    "\n",
    "# Shapiro-Wilk test and plots show data is not normally distributed so a non-parametric\n",
    "# test seems more appropriate"
   ]
  },
  {
   "cell_type": "code",
   "execution_count": 6,
   "id": "3d0412b5",
   "metadata": {
    "colab": {
     "base_uri": "https://localhost:8080/"
    },
    "execution": {
     "iopub.execute_input": "2025-09-06T21:01:46.472780Z",
     "iopub.status.busy": "2025-09-06T21:01:46.472780Z",
     "iopub.status.idle": "2025-09-06T21:01:46.486778Z",
     "shell.execute_reply": "2025-09-06T21:01:46.485776Z"
    },
    "executionInfo": {
     "elapsed": 64,
     "status": "ok",
     "timestamp": 1756043831907,
     "user": {
      "displayName": "Scott Clement",
      "userId": "09077177954652264696"
     },
     "user_tz": 420
    },
    "id": "mu1Ar9fOLT17",
    "outputId": "45702abf-d6a7-421e-a1f7-4dcc506f29aa"
   },
   "outputs": [
    {
     "name": "stdout",
     "output_type": "stream",
     "text": [
      "Mann-Whitney U Test: statistic = 428511.0000, p-value = 1.0000\n",
      "Fail to reject H₀: No evidence that customers with children have higher web purchases\n"
     ]
    }
   ],
   "source": [
    "# Perform Mann-Whitney U Test (One-Tailed)\n",
    "# H₀: The distributions of NumWebPurchases for customers with and without children are\n",
    "#     identical (no difference in distribution).\n",
    "# H₁: The distribution of NumWebPurchases for customers with children is greater\n",
    "#     (they tend to have higher values).\n",
    "from scipy.stats import mannwhitneyu\n",
    "\n",
    "stat, p_value = mannwhitneyu(web_with_children, web_without_children, alternative='greater')\n",
    "print(f'Mann-Whitney U Test: statistic = {stat:.4f}, p-value = {p_value:.4f}')\n",
    "\n",
    "# Interpretation\n",
    "alpha = 0.05\n",
    "if p_value <= alpha:\n",
    "    print('Reject H₀: Customers with children have higher web puchases puchases')\n",
    "else:\n",
    "    print('Fail to reject H₀: No evidence that customers with children have higher web purchases')"
   ]
  },
  {
   "cell_type": "code",
   "execution_count": 7,
   "id": "c4abaea7",
   "metadata": {
    "colab": {
     "base_uri": "https://localhost:8080/"
    },
    "execution": {
     "iopub.execute_input": "2025-09-06T21:01:46.488779Z",
     "iopub.status.busy": "2025-09-06T21:01:46.488779Z",
     "iopub.status.idle": "2025-09-06T21:01:46.502781Z",
     "shell.execute_reply": "2025-09-06T21:01:46.501777Z"
    },
    "executionInfo": {
     "elapsed": 48,
     "status": "ok",
     "timestamp": 1756043831936,
     "user": {
      "displayName": "Scott Clement",
      "userId": "09077177954652264696"
     },
     "user_tz": 420
    },
    "id": "Pz0zAK-ALT18",
    "outputId": "800307fd-506e-4157-83d9-09e34fa1a4ec"
   },
   "outputs": [
    {
     "name": "stdout",
     "output_type": "stream",
     "text": [
      "Sample size for Has_Children:\n",
      "Has_Children\n",
      "True     1596\n",
      "False     633\n",
      "Name: count, dtype: int64\n"
     ]
    }
   ],
   "source": [
    "# Why a t-test may be ok\n",
    "# Large sample sizes (e.g., n > 30 or ideally n > 50 per group), due to the Central Limit Theorem (CLT).\n",
    "# The CLT states that the sampling distribution of the mean approaches normality as sample size increases,\n",
    "# even if the underlying data is non-normal.\n",
    "\n",
    "print(f\"Sample size for Has_Children:\\n{df['Has_Children'].value_counts()}\")\n",
    "# Sample Size is Large: Both groups (HasChildren = 1 and 0) have n > 50\n",
    "# the CLT helps ensure the t-test is robust."
   ]
  },
  {
   "cell_type": "code",
   "execution_count": 8,
   "id": "7e05ba04",
   "metadata": {
    "colab": {
     "base_uri": "https://localhost:8080/"
    },
    "execution": {
     "iopub.execute_input": "2025-09-06T21:01:46.504779Z",
     "iopub.status.busy": "2025-09-06T21:01:46.504779Z",
     "iopub.status.idle": "2025-09-06T21:01:46.518780Z",
     "shell.execute_reply": "2025-09-06T21:01:46.517781Z"
    },
    "executionInfo": {
     "elapsed": 24,
     "status": "ok",
     "timestamp": 1756043831962,
     "user": {
      "displayName": "Scott Clement",
      "userId": "09077177954652264696"
     },
     "user_tz": 420
    },
    "id": "AC1LEVkGLT18",
    "outputId": "4c63df32-c7ad-4e8e-e674-3acf3f3b0805"
   },
   "outputs": [
    {
     "name": "stdout",
     "output_type": "stream",
     "text": [
      "\n",
      "Levene's Test: statistic = 22.7688, p-value = 0.0000\n",
      "Unequal variances (p < 0.05)\n"
     ]
    }
   ],
   "source": [
    "# Perform Levene's test\n",
    "\n",
    "# Purpose:\n",
    "# •  Tests the null hypothesis (H₀) that the variances of the groups are equal.\n",
    "# •  Alternative hypothesis (H₁): The variances are not equal.\n",
    "\n",
    "# Variations of test:\n",
    "# •  Standard Levene’s Test: Uses the group mean for calculating deviations.\n",
    "# •  Modified Levene’s Test (Brown-Forsythe): Uses the group median instead of the mean,\n",
    "#    which is more robust to non-normal data.\n",
    "\n",
    "# Implications of test:\n",
    "# •  If Levene’s test indicates unequal variances (p-value ≤ 0.05), use Welch’s t-test to compare means.\n",
    "# •  If variances are equal, use the standard t-test.\n",
    "\n",
    "from scipy.stats import levene\n",
    "alpha = 0.05\n",
    "\n",
    "stat, p_levene = levene(web_with_children, web_without_children, center='median')\n",
    "print(f\"\\nLevene's Test: statistic = {stat:.4f}, p-value = {p_levene:.4f}\")\n",
    "print(f\"{'Unequal variances' if p_levene < alpha else 'Equal variances'} (p {'<' if p_levene < alpha else '>='} {alpha})\")"
   ]
  },
  {
   "cell_type": "code",
   "execution_count": 9,
   "id": "6d2c17d0",
   "metadata": {
    "colab": {
     "base_uri": "https://localhost:8080/"
    },
    "execution": {
     "iopub.execute_input": "2025-09-06T21:01:46.521779Z",
     "iopub.status.busy": "2025-09-06T21:01:46.520779Z",
     "iopub.status.idle": "2025-09-06T21:01:46.533778Z",
     "shell.execute_reply": "2025-09-06T21:01:46.532780Z"
    },
    "executionInfo": {
     "elapsed": 31,
     "status": "ok",
     "timestamp": 1756043832009,
     "user": {
      "displayName": "Scott Clement",
      "userId": "09077177954652264696"
     },
     "user_tz": 420
    },
    "id": "soy9dgjmLT18",
    "outputId": "fbf4c86e-2743-422e-c19b-ae0ee36ec6e4"
   },
   "outputs": [
    {
     "name": "stdout",
     "output_type": "stream",
     "text": [
      "\n",
      "Welch's t-Test (unequal variances):\n",
      "Welch's t-test: statistic = -3.6915, p-value = 0.9999\n",
      "Fail to reject H₀: No evidence that customers with children have higher web purchases\n"
     ]
    }
   ],
   "source": [
    "# Unequal variances use Welch’s t-test to compare means\n",
    "# Run parametric Welch's t-test\n",
    "\n",
    "from scipy.stats import ttest_ind\n",
    "print(\"\\nWelch's t-Test (unequal variances):\")\n",
    "stat, p_welch = ttest_ind(web_with_children, web_without_children, alternative='greater', equal_var=False)\n",
    "print(f\"Welch's t-test: statistic = {stat:.4f}, p-value = {p_welch:.4f}\")\n",
    "\n",
    "if p_welch <= alpha:\n",
    "    print('Reject H₀: Customers with children have higher web puchases puchases')\n",
    "else:\n",
    "    print('Fail to reject H₀: No evidence that customers with children have higher web purchases')"
   ]
  },
  {
   "cell_type": "code",
   "execution_count": 10,
   "id": "9a598813",
   "metadata": {
    "execution": {
     "iopub.execute_input": "2025-09-06T21:01:46.535779Z",
     "iopub.status.busy": "2025-09-06T21:01:46.535779Z",
     "iopub.status.idle": "2025-09-06T21:01:46.548779Z",
     "shell.execute_reply": "2025-09-06T21:01:46.547777Z"
    },
    "executionInfo": {
     "elapsed": 25,
     "status": "ok",
     "timestamp": 1756043832089,
     "user": {
      "displayName": "Scott Clement",
      "userId": "09077177954652264696"
     },
     "user_tz": 420
    },
    "id": "exIT9PsYLT18"
   },
   "outputs": [],
   "source": [
    "# Conclusion\n",
    "# Both the parametric test (Welch's t-Test) and the non-parametric test (Mann-Whitney U Test)\n",
    "# fail to reject H₀, meaning there is no evidence that customers with children have higher web purchases"
   ]
  },
  {
   "cell_type": "code",
   "execution_count": 11,
   "id": "1a661e40",
   "metadata": {
    "execution": {
     "iopub.execute_input": "2025-09-06T21:01:46.551779Z",
     "iopub.status.busy": "2025-09-06T21:01:46.550779Z",
     "iopub.status.idle": "2025-09-06T21:01:46.564778Z",
     "shell.execute_reply": "2025-09-06T21:01:46.563777Z"
    }
   },
   "outputs": [],
   "source": [
    "\n",
    "# Save results for next notebook\n",
    "# save_intermediate_results(df_processed, 'processed_data.pkl', config)\n",
    "# save_intermediate_results(analysis_results, 'analysis_results.pkl', config)\n",
    "# print('✓ Results saved for next notebook')"
   ]
  }
 ],
 "metadata": {
  "kernelspec": {
   "display_name": ".venv",
   "language": "python",
   "name": "python3"
  },
  "language_info": {
   "codemirror_mode": {
    "name": "ipython",
    "version": 3
   },
   "file_extension": ".py",
   "mimetype": "text/x-python",
   "name": "python",
   "nbconvert_exporter": "python",
   "pygments_lexer": "ipython3",
   "version": "3.10.11"
  }
 },
 "nbformat": 4,
 "nbformat_minor": 5
}
