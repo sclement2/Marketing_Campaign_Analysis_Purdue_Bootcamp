{
 "cells": [
  {
   "cell_type": "markdown",
   "id": "1206c8f7",
   "metadata": {},
   "source": [
    "# Step 3: Feature Engineering\n",
    "\n",
    "Section: Step 3: Feature Engineering\n",
    "\n",
    "**Part of:** [marketing_campaign_082825_working.ipynb](./marketing_campaign_082825_working.ipynb)"
   ]
  },
  {
   "cell_type": "code",
   "execution_count": null,
   "id": "3648e7c5",
   "metadata": {
    "execution": {
     "iopub.execute_input": "2025-09-06T21:12:01.736599Z",
     "iopub.status.busy": "2025-09-06T21:12:01.736599Z",
     "iopub.status.idle": "2025-09-06T21:12:03.363863Z",
     "shell.execute_reply": "2025-09-06T21:12:03.363191Z"
    }
   },
   "outputs": [],
   "source": [
    "# Setup and data loading\n",
    "from utils import ProjectConfig, load_intermediate_results, save_intermediate_results\n",
    "\n",
    "config = ProjectConfig()\n",
    "# Load data from previous notebook\n",
    "df = load_intermediate_results('data_from_04_step_2.pkl', config)\n"
   ]
  },
  {
   "cell_type": "code",
   "execution_count": null,
   "id": "dc0fbafc",
   "metadata": {
    "execution": {
     "iopub.execute_input": "2025-09-06T21:12:03.365870Z",
     "iopub.status.busy": "2025-09-06T21:12:03.365870Z",
     "iopub.status.idle": "2025-09-06T21:12:03.440426Z",
     "shell.execute_reply": "2025-09-06T21:12:03.439425Z"
    },
    "executionInfo": {
     "elapsed": 71,
     "status": "ok",
     "timestamp": 1756043827486,
     "user": {
      "displayName": "Scott Clement",
      "userId": "09077177954652264696"
     },
     "user_tz": 420
    },
    "id": "VVz8bnxcLT1z"
   },
   "outputs": [],
   "source": [
    "# Feature Engineering\n",
    "current_year = 2025\n",
    "df['Age'] = current_year - df['Year_Birth']\n",
    "df['Total_Children'] = df['Kidhome'] + df['Teenhome']\n",
    "df['Total_Spending'] = df[['MntWines', 'MntFruits', 'MntMeatProducts',\n",
    "                          'MntFishProducts', 'MntSweetProducts', 'MntGoldProds']].sum(axis=1)\n",
    "df['Total_Purchases'] = df[['NumWebPurchases', 'NumCatalogPurchases', 'NumStorePurchases']].sum(axis=1)"
   ]
  },
  {
   "cell_type": "code",
   "execution_count": null,
   "id": "043200a4",
   "metadata": {
    "execution": {
     "iopub.execute_input": "2025-09-06T21:12:03.443426Z",
     "iopub.status.busy": "2025-09-06T21:12:03.442427Z",
     "iopub.status.idle": "2025-09-06T21:12:03.454425Z",
     "shell.execute_reply": "2025-09-06T21:12:03.454425Z"
    }
   },
   "outputs": [],
   "source": [
    "\n",
    "# Save results for next notebook\n",
    "save_intermediate_results(df, \"data_from_05_step_3.pkl\", config)\n",
    "print('✓ Results saved for next notebook')"
   ]
  }
 ],
 "metadata": {
  "kernelspec": {
   "display_name": ".venv",
   "language": "python",
   "name": "python3"
  },
  "language_info": {
   "codemirror_mode": {
    "name": "ipython",
    "version": 3
   },
   "file_extension": ".py",
   "mimetype": "text/x-python",
   "name": "python",
   "nbconvert_exporter": "python",
   "pygments_lexer": "ipython3",
   "version": "3.10.11"
  }
 },
 "nbformat": 4,
 "nbformat_minor": 4
}