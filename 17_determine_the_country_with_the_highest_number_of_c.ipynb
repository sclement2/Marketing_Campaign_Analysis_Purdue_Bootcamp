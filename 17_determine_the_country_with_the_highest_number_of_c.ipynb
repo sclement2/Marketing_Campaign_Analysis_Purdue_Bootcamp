{
 "cells": [
  {
   "cell_type": "markdown",
   "id": "476c225c",
   "metadata": {},
   "source": [
    "# Additional Visualizations\n",
    "\n",
    "Section: c. Determine the country with the highest number of customers who accepted the last campaign.\n",
    "\n",
    "**Part of:** [marketing_campaign_082825_working.ipynb](./marketing_campaign_082825_working.ipynb)"
   ]
  },
  {
   "cell_type": "code",
   "execution_count": null,
   "id": "125789d1",
   "metadata": {
    "execution": {
     "iopub.execute_input": "2025-09-06T21:13:49.180069Z",
     "iopub.status.busy": "2025-09-06T21:13:49.179066Z",
     "iopub.status.idle": "2025-09-06T21:13:50.856671Z",
     "shell.execute_reply": "2025-09-06T21:13:50.855668Z"
    }
   },
   "outputs": [],
   "source": [
    "# Setup and data loading\n",
    "from utils import (\n",
    "    ProjectConfig,\n",
    "    load_intermediate_results,\n",
    "    save_project_figure,\n",
    "    reset_plot_settings,\n",
    ")\n",
    "import pandas as pd\n",
    "import seaborn as sns\n",
    "import matplotlib.pyplot as plt\n",
    "import warnings\n",
    "warnings.filterwarnings(\"ignore\")\n",
    "\n",
    "config = ProjectConfig()\n",
    "# Load data from previous notebook\n",
    "df = load_intermediate_results(\"data_from_08_step_6.pkl\", config)\n"
   ]
  },
  {
   "cell_type": "markdown",
   "id": "7edcf1c4",
   "metadata": {
    "id": "2LPkZ9YtmPoH"
   },
   "source": [
    "## c. Determine the country with the highest number of customers who accepted the last campaign."
   ]
  },
  {
   "cell_type": "code",
   "execution_count": null,
   "id": "833e0153",
   "metadata": {
    "colab": {
     "base_uri": "https://localhost:8080/"
    },
    "execution": {
     "iopub.execute_input": "2025-09-06T21:13:50.859670Z",
     "iopub.status.busy": "2025-09-06T21:13:50.858670Z",
     "iopub.status.idle": "2025-09-06T21:13:50.872671Z",
     "shell.execute_reply": "2025-09-06T21:13:50.871670Z"
    },
    "executionInfo": {
     "elapsed": 397,
     "status": "ok",
     "timestamp": 1756043836313,
     "user": {
      "displayName": "Scott Clement",
      "userId": "09077177954652264696"
     },
     "user_tz": 420
    },
    "id": "B6xfQv4cLT2B",
    "outputId": "872f91f4-6d2d-4bea-d1ec-24cacf69c3d2"
   },
   "outputs": [],
   "source": [
    "# Define country columns (dummy-encoded)\n",
    "\n",
    "country_columns = ['Country_AUS', 'Country_CA', 'Country_GER', 'Country_IND',\n",
    "'Country_ME', 'Country_SA', 'Country_SP', 'Country_US']\n",
    "\n",
    "# Verify country columns exist\n",
    "\n",
    "missing_cols = [col for col in country_columns if col not in df.columns]\n",
    "if missing_cols:\n",
    "    print(f\"Warning: Missing country columns: {missing_cols}\")\n",
    "    country_columns = [col for col in country_columns if col in df.columns]\n",
    "\n",
    "print(\"Available country columns:\", country_columns)\n",
    "\n",
    "# Display basic information about the dataset\n",
    "\n",
    "print(\"\\nDataset Overview:\")\n",
    "print(f\"Total customers: {len(df):,}\")\n",
    "print(f\"Total countries: {len(country_columns)}\")\n",
    "print(f\"Customers who accepted last campaign: {df['Response'].sum():,}\")\n",
    "print(f\"Overall acceptance rate: {(df['Response'].sum() / len(df) * 100):.2f}%\")"
   ]
  },
  {
   "cell_type": "code",
   "execution_count": null,
   "id": "5d033a20",
   "metadata": {
    "execution": {
     "iopub.execute_input": "2025-09-06T21:13:50.875670Z",
     "iopub.status.busy": "2025-09-06T21:13:50.874670Z",
     "iopub.status.idle": "2025-09-06T21:13:50.980669Z",
     "shell.execute_reply": "2025-09-06T21:13:50.979668Z"
    },
    "executionInfo": {
     "elapsed": 79,
     "status": "ok",
     "timestamp": 1756043836350,
     "user": {
      "displayName": "Scott Clement",
      "userId": "09077177954652264696"
     },
     "user_tz": 420
    },
    "id": "wYot_15SLT2C"
   },
   "outputs": [],
   "source": [
    "# Calculate key metrics by country using dummy columns\n",
    "\n",
    "country_stats = []\n",
    "\n",
    "for country_col in country_columns:\n",
    "    # Extract country name from column (remove ‘Country_’ prefix)\n",
    "    country_name = country_col.replace('Country_', '')\n",
    "\n",
    "    # Filter customers from this country (where dummy variable = 1)\n",
    "    country_customers = df[df[country_col] == 1]\n",
    "\n",
    "    if len(country_customers) > 0:\n",
    "        total_customers = len(country_customers)\n",
    "        accepted_customers = country_customers['Response'].sum()\n",
    "        acceptance_rate = (accepted_customers / total_customers) * 100\n",
    "\n",
    "        country_stats.append({\n",
    "            'Country': country_name,\n",
    "            'Total_Customers': total_customers,\n",
    "            'Accepted_Customers': accepted_customers,\n",
    "            'Acceptance_Rate': acceptance_rate\n",
    "        })"
   ]
  },
  {
   "cell_type": "code",
   "execution_count": null,
   "id": "afd97217",
   "metadata": {
    "execution": {
     "iopub.execute_input": "2025-09-06T21:13:50.982668Z",
     "iopub.status.busy": "2025-09-06T21:13:50.982668Z",
     "iopub.status.idle": "2025-09-06T21:13:50.996669Z",
     "shell.execute_reply": "2025-09-06T21:13:50.995668Z"
    },
    "executionInfo": {
     "elapsed": 49,
     "status": "ok",
     "timestamp": 1756043836375,
     "user": {
      "displayName": "Scott Clement",
      "userId": "09077177954652264696"
     },
     "user_tz": 420
    },
    "id": "3VXCDjJ2LT2C"
   },
   "outputs": [],
   "source": [
    "# Convert to DataFrame\n",
    "\n",
    "country_stats = pd.DataFrame(country_stats)\n",
    "country_stats = country_stats.sort_values('Accepted_Customers', ascending=False)\n",
    "country_stats = country_stats.reset_index(drop=True)\n",
    "#print(country_stats.columns)\n",
    "\n",
    "#print(\"\\n\" + \"=\"*60)\n",
    "#print(\"COUNTRY PERFORMANCE SUMMARY\")\n",
    "#print(\"=\"*60)\n",
    "country_stats_perf = country_stats.copy()\n",
    "country_stats_perf = country_stats_perf.set_index('Country')\n",
    "#print(country_stats_perf.round(2))\n",
    "\n",
    "# Find the answer to our main question\n",
    "top_count = int(country_stats['Accepted_Customers'].max())\n",
    "stat_count = country_stats[country_stats['Accepted_Customers']==top_count]\n",
    "top_country = stat_count['Country'].iloc[0]\n",
    "top_rate = country_stats['Acceptance_Rate'].max()\n",
    "stat_rate = country_stats[country_stats['Acceptance_Rate']==top_rate]\n",
    "top_rate_country = stat_rate['Country'].iloc[0]\n",
    "\n",
    "#print(top_count)\n",
    "#print(top_rate)\n",
    "#print(country_stats[country_stats['Acceptance_Rate']== top_rate])\n",
    "#stat1 = country_stats[country_stats['Accepted_Customers']== top_count]\n",
    "#print(stat_rate['Total_Customers'].iloc[0])\n",
    "\n",
    "\n",
    "#print(f\"\\n{top_country} has the highest number of customers ({top_count}) who accepted the last campaign\")\n",
    "#print(f\"{top_country}'s acceptance rate for the last campaign was {round(stat_count['Acceptance_Rate'].iloc[0],3)}%\")\n",
    "#print(f\"{top_rate_country} has the highest acceptance rate ({round(top_rate,3)}%) for the last campaign\")\n",
    "#print(f\"However the total number of {top_rate_country} customers ({stat_rate['Total_Customers'].iloc[0]})\\\n",
    "#and the number of {top_rate_country} customers that accepted ({stat_rate['Accepted_Customers'].iloc[0]}) are low.\")\n",
    "#print(f\"In comparison the total number of {top_country} customers ({stat_count['Total_Customers'].iloc[0]})\\\n",
    "# and the number of {top_country} customers that accepted ({stat_count['Accepted_Customers'].iloc[0]}) are much higher.\")"
   ]
  },
  {
   "cell_type": "code",
   "execution_count": null,
   "id": "1dc15f5c",
   "metadata": {
    "colab": {
     "base_uri": "https://localhost:8080/"
    },
    "execution": {
     "iopub.execute_input": "2025-09-06T21:13:50.998668Z",
     "iopub.status.busy": "2025-09-06T21:13:50.998668Z",
     "iopub.status.idle": "2025-09-06T21:13:51.011668Z",
     "shell.execute_reply": "2025-09-06T21:13:51.011668Z"
    },
    "executionInfo": {
     "elapsed": 56,
     "status": "ok",
     "timestamp": 1756043836398,
     "user": {
      "displayName": "Scott Clement",
      "userId": "09077177954652264696"
     },
     "user_tz": 420
    },
    "id": "sNZdbsUSHF2n",
    "outputId": "4d3357d4-0c06-4bd3-fb6d-eb1821b973b9"
   },
   "outputs": [],
   "source": [
    "print(country_stats)"
   ]
  },
  {
   "cell_type": "code",
   "execution_count": null,
   "id": "dacec065",
   "metadata": {
    "colab": {
     "base_uri": "https://localhost:8080/",
     "height": 0
    },
    "execution": {
     "iopub.execute_input": "2025-09-06T21:13:51.014670Z",
     "iopub.status.busy": "2025-09-06T21:13:51.014670Z",
     "iopub.status.idle": "2025-09-06T21:13:53.148360Z",
     "shell.execute_reply": "2025-09-06T21:13:53.147360Z"
    },
    "executionInfo": {
     "elapsed": 1391,
     "status": "ok",
     "timestamp": 1756043837802,
     "user": {
      "displayName": "Scott Clement",
      "userId": "09077177954652264696"
     },
     "user_tz": 420
    },
    "id": "Y273cd8mHJMx",
    "outputId": "a164d8d2-39ef-4e64-b7db-b0f97751dc57"
   },
   "outputs": [],
   "source": [
    "# Create visualizations\n",
    "\n",
    "# Set the style for better-looking plots\n",
    "reset_plot_settings()\n",
    "\n",
    "plt.style.use('default')\n",
    "#sns.set_palette('husl')\n",
    "sns.set_context('notebook', font_scale=1.1)\n",
    "\n",
    "# 2x2 grid\n",
    "fig, ((ax1, ax2), (ax3, ax4)) = plt.subplots(2, 2, figsize=(16, 12))\n",
    "plt.subplots_adjust(hspace=0.3, wspace=0.3)\n",
    "\n",
    "# 1. Main Answer: Bar plot of customers who accepted by country\n",
    "sns.barplot(data=country_stats.reset_index(),\n",
    "            x='Country',\n",
    "            y='Accepted_Customers',\n",
    "            ax=ax1,\n",
    "            palette='viridis')\n",
    "ax1.set_title('Customers Who Accepted Last Campaign by Country',\n",
    "              fontsize=14, pad=20)\n",
    "ax1.set_ylabel('Number of Customers Who Accepted', fontsize=12)\n",
    "ax1.set_xlabel('Country', fontsize=12)\n",
    "ax1.grid(True, axis='y', alpha=0.3)\n",
    "ax1.set_axisbelow(True)\n",
    "\n",
    "# Highlight the top country with a different color and annotation\n",
    "bars = ax1.patches\n",
    "max_height = max([bar.get_height() for bar in bars])\n",
    "bars[0].set_color('#FF6B6B')  # Highlight top country in red\n",
    "bars[0].set_edgecolor('black')\n",
    "bars[0].set_linewidth(2)\n",
    "\n",
    "# Add value labels on bars\n",
    "for i, bar in enumerate(bars):\n",
    "    height = bar.get_height()\n",
    "    ax1.text(bar.get_x() + bar.get_width()/2.,\n",
    "             height,\n",
    "             f'{int(height)}',\n",
    "             ha='center', va='bottom',\n",
    "             fontsize=10)\n",
    "\n",
    "\n",
    "# 2. Total customers by country (context)\n",
    "sns.barplot(data=country_stats.reset_index(),\n",
    "            x='Country', y='Total_Customers',\n",
    "            ax=ax2,\n",
    "            palette='coolwarm')\n",
    "ax2.set_title('Total Customer Base by Country', fontsize=14, pad=20)\n",
    "ax2.set_ylabel('Total Number of Customers', fontsize=12)\n",
    "ax2.set_xlabel('Country', fontsize=12)\n",
    "ax2.grid(True, axis='y', alpha=0.3)\n",
    "ax2.set_axisbelow(True)\n",
    "\n",
    "# Add value labels\n",
    "for i, bar in enumerate(ax2.patches):\n",
    "    height = bar.get_height()\n",
    "    ax2.text(bar.get_x() + bar.get_width()/2.,\n",
    "             height,\n",
    "             f'{int(height)}', ha='center', va='bottom',\n",
    "             fontsize=10)\n",
    "\n",
    "# 3. Acceptance rates by country\n",
    "sns.barplot(data=country_stats.reset_index(),\n",
    "            x='Country', y='Acceptance_Rate',\n",
    "            ax=ax3,\n",
    "            palette='RdYlBu_r')\n",
    "ax3.set_title('Acceptance Rate by Country', fontsize=14, pad=20)\n",
    "ax3.set_ylabel('Acceptance Rate (%)', fontsize=12)\n",
    "ax3.set_xlabel('Country', fontsize=12)\n",
    "\n",
    "# Add percentage labels\n",
    "for i, bar in enumerate(ax3.patches):\n",
    "    height = bar.get_height()\n",
    "    ax3.text(bar.get_x() + bar.get_width()/2.,\n",
    "             height + 0.3,\n",
    "             f'{height:.1f}%', ha='center', va='bottom',\n",
    "             fontsize='10')\n",
    "ax3.grid(True, axis='y', alpha=0.3)\n",
    "ax3.set_axisbelow(True)\n",
    "\n",
    "# 4. Scatter plot: Total customers vs Accepted customers\n",
    "# Create scatter plot with country data\n",
    "scatter = sns.scatterplot(data=country_stats,\n",
    "                         x='Total_Customers',\n",
    "                         y='Accepted_Customers',\n",
    "                         hue='Acceptance_Rate',\n",
    "                         hue_norm=(0, 100),  # Set color scale from 0-100%\n",
    "                         s=150,\n",
    "                         alpha=0.8,\n",
    "                         ax=ax4,\n",
    "                         palette='plasma',\n",
    "                         legend=False)\n",
    "\n",
    "# Selective labeling - Label outliers or extreme values\n",
    "high_acceptance = country_stats['Acceptance_Rate'] > country_stats['Acceptance_Rate'].quantile(0.75)\n",
    "low_acceptance = country_stats['Acceptance_Rate'] < country_stats['Acceptance_Rate'].quantile(0.25)\n",
    "high_customers = country_stats['Total_Customers'] > country_stats['Total_Customers'].quantile(0.75)\n",
    "\n",
    "for idx, row in country_stats.iterrows():\n",
    "    if high_acceptance.iloc[idx] or low_acceptance.iloc[idx] or high_customers.iloc[idx]:\n",
    "        ax4.annotate(row['Country'],\n",
    "                    xy=(row['Total_Customers'], row['Accepted_Customers']),\n",
    "                    xytext=(5, 5),\n",
    "                    textcoords='offset points',\n",
    "                    fontsize=9,\n",
    "                    alpha=0.8,\n",
    "                    ha='left',  # horizontal alignment\n",
    "                    va='bottom')  # vertical alignment\n",
    "\n",
    "# Add colorbar/legend for acceptance rate\n",
    "norm = plt.Normalize(vmin=0, vmax=100)\n",
    "sm = plt.cm.ScalarMappable(cmap='plasma', norm=norm)\n",
    "sm.set_array([])\n",
    "cbar = plt.colorbar(sm, ax=ax4)\n",
    "cbar.set_label('Acceptance Rate (%)', fontsize=11)\n",
    "\n",
    "# Set plot titles and labels\n",
    "ax4.set_title('Customer Base vs Campaign Acceptance by Country', fontsize=14, pad=20)\n",
    "ax4.set_xlabel('Total Customer Base', fontsize=12)\n",
    "ax4.set_ylabel('Customers Who Accepted', fontsize=12)\n",
    "\n",
    "# Add grid for better readability\n",
    "ax4.grid(True, alpha=0.3)\n",
    "\n",
    "\n",
    "plt.tight_layout()\n",
    "save_project_figure(\n",
    "    \"Country_with_Highest_Number_of_Customers_Who_Accepted\",\n",
    "    \"Country with Highest Number of Customers Who Accepted\",\n",
    "    config,\n",
    ")\n",
    "plt.show()"
   ]
  },
  {
   "cell_type": "code",
   "execution_count": null,
   "id": "8c9130a2",
   "metadata": {
    "colab": {
     "base_uri": "https://localhost:8080/"
    },
    "execution": {
     "iopub.execute_input": "2025-09-06T21:13:53.151361Z",
     "iopub.status.busy": "2025-09-06T21:13:53.150360Z",
     "iopub.status.idle": "2025-09-06T21:13:53.162360Z",
     "shell.execute_reply": "2025-09-06T21:13:53.162360Z"
    },
    "executionInfo": {
     "elapsed": 46,
     "status": "ok",
     "timestamp": 1756043837871,
     "user": {
      "displayName": "Scott Clement",
      "userId": "09077177954652264696"
     },
     "user_tz": 420
    },
    "id": "wEUS_PJSLT2C",
    "outputId": "147ce216-aed0-4b98-ea67-e86f62423a02"
   },
   "outputs": [],
   "source": [
    "# Summary statistics table\n",
    "\n",
    "print(\"\\n\" + \"=\"*80)\n",
    "print(\"DETAILED INSIGHTS\")\n",
    "print(\"=\"*80)\n",
    "\n",
    "# Create a more detailed summary\n",
    "\n",
    "detailed_stats = country_stats.copy()\n",
    "detailed_stats['Market_Share_Total'] = (detailed_stats['Total_Customers'] / len(df) * 100).round(1)\n",
    "detailed_stats['Market_Share_Accepted'] = (detailed_stats['Accepted_Customers'] / df['Response'].sum() * 100).round(1)\n",
    "\n",
    "detailed_stats = detailed_stats.rename(columns={'Accepted_Customers': 'Customers_Accepted'})\n",
    "\n",
    "# Set the 'Country' column as the index\n",
    "detailed_stats = detailed_stats.set_index('Country')\n",
    "\n",
    "print(round(detailed_stats,2))"
   ]
  },
  {
   "cell_type": "code",
   "execution_count": null,
   "id": "5e57bba9",
   "metadata": {
    "execution": {
     "iopub.execute_input": "2025-09-06T21:13:53.165360Z",
     "iopub.status.busy": "2025-09-06T21:13:53.164360Z",
     "iopub.status.idle": "2025-09-06T21:13:53.178360Z",
     "shell.execute_reply": "2025-09-06T21:13:53.177360Z"
    },
    "executionInfo": {
     "elapsed": 45,
     "status": "ok",
     "timestamp": 1756043837892,
     "user": {
      "displayName": "Scott Clement",
      "userId": "09077177954652264696"
     },
     "user_tz": 420
    },
    "id": "y8m6McP6LT2C"
   },
   "outputs": [],
   "source": [
    "# Key insights\n",
    "total_accepted = df['Response'].sum()\n",
    "#print(f'\\nKEY INSIGHTS:')\n",
    "#print(f'• {top_country} leads with {top_count} customers accepting the campaign ({(top_count/total_accepted*100):.1f}% of all acceptances)')\n",
    "#print(f\"• {top_country} has {int(detailed_stats.loc[top_country, 'Total_Customers'])} total customers ({detailed_stats.loc[top_country, 'Market_Share_Total']:.1f}% of customer base)\")\n",
    "#print(f\"• {top_country}’s acceptance rate for the last campaign is {detailed_stats.loc[top_country, 'Acceptance_Rate']:.2f}% (vs {(total_accepted/len(df)*100):.2f}% overall)\")\n",
    "\n",
    "# Efficiency insight\n",
    "most_efficient = detailed_stats.loc[detailed_stats['Acceptance_Rate'].idxmax()]\n",
    "most_efficient_country = detailed_stats['Acceptance_Rate'].idxmax()\n",
    "#print(f\"• {most_efficient_country} with a {most_efficient['Acceptance_Rate']:.1f}% acceptance rate has the highest accepance rate for the last campaign\")\n",
    "#print(f\"  (but only {int(most_efficient['Customers_Accepted'])} total acceptances vs {top_country}’s {top_count})\")\n",
    "# Most efficient country: ME with 66.7% acceptance rate\n",
    "# (but only 2 total acceptances vs SP’s 176)"
   ]
  },
  {
   "cell_type": "code",
   "execution_count": null,
   "id": "d9918d61",
   "metadata": {
    "execution": {
     "iopub.execute_input": "2025-09-06T21:13:53.180360Z",
     "iopub.status.busy": "2025-09-06T21:13:53.180360Z",
     "iopub.status.idle": "2025-09-06T21:13:53.194360Z",
     "shell.execute_reply": "2025-09-06T21:13:53.193360Z"
    },
    "executionInfo": {
     "elapsed": 30,
     "status": "ok",
     "timestamp": 1756043837914,
     "user": {
      "displayName": "Scott Clement",
      "userId": "09077177954652264696"
     },
     "user_tz": 420
    },
    "id": "p9qkuYcgzMUt"
   },
   "outputs": [],
   "source": [
    "# KEY INSIGHTS:\n",
    "# • SP leads with 176 customers accepting the campaign (52.7% of all acceptances)\n",
    "# • SP has 1091 total customers (48.9% of customer base)\n",
    "# • SP’s acceptance rate for the last campaign is 16.13% (vs 14.98% overall)\n",
    "# • ME with a 66.7% acceptance rate has the highest accepance rate for the last campaign\n",
    "#   (but only 2 total acceptances vs SP’s 176)"
   ]
  },
  {
   "cell_type": "code",
   "execution_count": null,
   "id": "45d79d40",
   "metadata": {
    "execution": {
     "iopub.execute_input": "2025-09-06T21:13:53.196359Z",
     "iopub.status.busy": "2025-09-06T21:13:53.196359Z",
     "iopub.status.idle": "2025-09-06T21:13:53.210362Z",
     "shell.execute_reply": "2025-09-06T21:13:53.209360Z"
    }
   },
   "outputs": [],
   "source": [
    "\n",
    "# Save results for next notebook\n",
    "# save_intermediate_results(df_processed, 'processed_data.pkl', config)\n",
    "# save_intermediate_results(analysis_results, 'analysis_results.pkl', config)\n",
    "# print('✓ Results saved for next notebook')"
   ]
  }
 ],
 "metadata": {
  "kernelspec": {
   "display_name": ".venv",
   "language": "python",
   "name": "python3"
  },
  "language_info": {
   "codemirror_mode": {
    "name": "ipython",
    "version": 3
   },
   "file_extension": ".py",
   "mimetype": "text/x-python",
   "name": "python",
   "nbconvert_exporter": "python",
   "pygments_lexer": "ipython3",
   "version": "3.10.11"
  }
 },
 "nbformat": 4,
 "nbformat_minor": 5
}
