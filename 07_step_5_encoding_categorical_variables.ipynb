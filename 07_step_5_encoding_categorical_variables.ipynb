{
 "cells": [
  {
   "cell_type": "markdown",
   "id": "13e7a6ea",
   "metadata": {},
   "source": [
    "# Step 5: Encoding Categorical Variables\n",
    "\n",
    "Section: Step 5: Encoding Categorical Variables\n",
    "\n",
    "**Part of:** [marketing_campaign_082825_working.ipynb](./marketing_campaign_082825_working.ipynb)"
   ]
  },
  {
   "cell_type": "code",
   "execution_count": 5,
   "id": "c136a72a",
   "metadata": {},
   "outputs": [],
   "source": [
    "# Setup and data loading\n",
    "from utils import ProjectConfig, load_intermediate_results, save_intermediate_results\n",
    "import pandas as pd\n",
    "\n",
    "config = ProjectConfig()\n",
    "# Load data from previous notebook\n",
    "df = load_intermediate_results('data_from_06_step_4.pkl', config)\n"
   ]
  },
  {
   "cell_type": "code",
   "execution_count": 6,
   "id": "bd4c0a82",
   "metadata": {
    "executionInfo": {
     "elapsed": 151,
     "status": "ok",
     "timestamp": 1756043829349,
     "user": {
      "displayName": "Scott Clement",
      "userId": "09077177954652264696"
     },
     "user_tz": 420
    },
    "id": "J1IEQofDLT10"
   },
   "outputs": [],
   "source": [
    "# Encoding Categorical Variables\n",
    "# Ordinal encoding for Education\n",
    "#print(df['Education'].value_counts())\n",
    "education_mapping = {'Secondary': 1, 'Bachelor': 2, 'Master': 3, 'PhD': 4}\n",
    "df['Education_Encoded'] = df['Education'].map(education_mapping)\n",
    "df.drop(columns=['Education'],inplace=True)\n",
    "#print(df['Education_Encoded'].value_counts())\n",
    "\n",
    "# One-hot encoding for Marital_Status and Country\n",
    "df = pd.get_dummies(df, columns=['Marital_Status', 'Country'], prefix=['Marital', 'Country'])"
   ]
  },
  {
   "cell_type": "code",
   "execution_count": 7,
   "id": "e1bfc6e8",
   "metadata": {
    "colab": {
     "base_uri": "https://localhost:8080/"
    },
    "executionInfo": {
     "elapsed": 130,
     "status": "ok",
     "timestamp": 1756043829367,
     "user": {
      "displayName": "Scott Clement",
      "userId": "09077177954652264696"
     },
     "user_tz": 420
    },
    "id": "KGiTIPZBLT10",
    "outputId": "f2743e5c-faf7-4e5c-9817-4633e3eadb95"
   },
   "outputs": [
    {
     "data": {
      "text/plain": [
       "Index(['ID', 'Year_Birth', 'Income', 'Kidhome', 'Teenhome', 'Dt_Customer',\n",
       "       'Recency', 'MntWines', 'MntFruits', 'MntMeatProducts',\n",
       "       'MntFishProducts', 'MntSweetProducts', 'MntGoldProds',\n",
       "       'NumDealsPurchases', 'NumWebPurchases', 'NumCatalogPurchases',\n",
       "       'NumStorePurchases', 'NumWebVisitsMonth', 'AcceptedCmp3',\n",
       "       'AcceptedCmp4', 'AcceptedCmp5', 'AcceptedCmp1', 'AcceptedCmp2',\n",
       "       'Response', 'Complain', 'Age', 'Total_Children', 'Total_Spending',\n",
       "       'Total_Purchases', 'Education_Encoded', 'Marital_Divorced',\n",
       "       'Marital_Married', 'Marital_Single', 'Marital_Together',\n",
       "       'Marital_Widow', 'Country_AUS', 'Country_CA', 'Country_GER',\n",
       "       'Country_IND', 'Country_ME', 'Country_SA', 'Country_SP', 'Country_US'],\n",
       "      dtype='object')"
      ]
     },
     "execution_count": 7,
     "metadata": {},
     "output_type": "execute_result"
    }
   ],
   "source": [
    "df.columns # df columns post encoding"
   ]
  },
  {
   "cell_type": "code",
   "execution_count": 8,
   "id": "f8630e25",
   "metadata": {},
   "outputs": [
    {
     "name": "stdout",
     "output_type": "stream",
     "text": [
      "Saved: outputs\\data_from_07_step_5.pkl\n",
      "✓ Results saved for next notebook\n"
     ]
    }
   ],
   "source": [
    "\n",
    "# Save results for next notebook\n",
    "save_intermediate_results(df, 'data_from_07_step_5.pkl', config)\n",
    "print('✓ Results saved for next notebook')"
   ]
  }
 ],
 "metadata": {
  "kernelspec": {
   "display_name": ".venv",
   "language": "python",
   "name": "python3"
  },
  "language_info": {
   "codemirror_mode": {
    "name": "ipython",
    "version": 3
   },
   "file_extension": ".py",
   "mimetype": "text/x-python",
   "name": "python",
   "nbconvert_exporter": "python",
   "pygments_lexer": "ipython3",
   "version": "3.10.11"
  }
 },
 "nbformat": 4,
 "nbformat_minor": 5
}
