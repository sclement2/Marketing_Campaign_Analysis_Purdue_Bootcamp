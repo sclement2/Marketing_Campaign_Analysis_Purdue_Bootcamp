{
 "cells": [
  {
   "cell_type": "markdown",
   "id": "13e7a6ea",
   "metadata": {},
   "source": [
    "# Step 5: Encoding Categorical Variables\n",
    "\n",
    "Section: Step 5: Encoding Categorical Variables\n",
    "\n",
    "**Part of:** [marketing_campaign_082825_working.ipynb](./marketing_campaign_082825_working.ipynb)"
   ]
  },
  {
   "cell_type": "code",
   "execution_count": null,
   "id": "c136a72a",
   "metadata": {
    "execution": {
     "iopub.execute_input": "2025-09-06T21:12:19.700396Z",
     "iopub.status.busy": "2025-09-06T21:12:19.699396Z",
     "iopub.status.idle": "2025-09-06T21:12:21.458944Z",
     "shell.execute_reply": "2025-09-06T21:12:21.457942Z"
    }
   },
   "outputs": [],
   "source": [
    "# Setup and data loading\n",
    "from utils import ProjectConfig, load_intermediate_results, save_intermediate_results\n",
    "import pandas as pd\n",
    "\n",
    "config = ProjectConfig()\n",
    "# Load data from previous notebook\n",
    "df = load_intermediate_results('data_from_06_step_4.pkl', config)\n"
   ]
  },
  {
   "cell_type": "code",
   "execution_count": null,
   "id": "bd4c0a82",
   "metadata": {
    "execution": {
     "iopub.execute_input": "2025-09-06T21:12:21.460944Z",
     "iopub.status.busy": "2025-09-06T21:12:21.460944Z",
     "iopub.status.idle": "2025-09-06T21:12:21.534944Z",
     "shell.execute_reply": "2025-09-06T21:12:21.533942Z"
    },
    "executionInfo": {
     "elapsed": 151,
     "status": "ok",
     "timestamp": 1756043829349,
     "user": {
      "displayName": "Scott Clement",
      "userId": "09077177954652264696"
     },
     "user_tz": 420
    },
    "id": "J1IEQofDLT10"
   },
   "outputs": [],
   "source": [
    "# Encoding Categorical Variables\n",
    "# Ordinal encoding for Education\n",
    "#print(df['Education'].value_counts())\n",
    "education_mapping = {'Secondary': 1, 'Bachelor': 2, 'Master': 3, 'PhD': 4}\n",
    "df['Education_Encoded'] = df['Education'].map(education_mapping)\n",
    "df.drop(columns=['Education'],inplace=True)\n",
    "#print(df['Education_Encoded'].value_counts())\n",
    "\n",
    "# One-hot encoding for Marital_Status and Country\n",
    "df = pd.get_dummies(df, columns=['Marital_Status', 'Country'], prefix=['Marital', 'Country'])"
   ]
  },
  {
   "cell_type": "code",
   "execution_count": null,
   "id": "e1bfc6e8",
   "metadata": {
    "colab": {
     "base_uri": "https://localhost:8080/"
    },
    "execution": {
     "iopub.execute_input": "2025-09-06T21:12:21.536943Z",
     "iopub.status.busy": "2025-09-06T21:12:21.536943Z",
     "iopub.status.idle": "2025-09-06T21:12:21.549943Z",
     "shell.execute_reply": "2025-09-06T21:12:21.548942Z"
    },
    "executionInfo": {
     "elapsed": 130,
     "status": "ok",
     "timestamp": 1756043829367,
     "user": {
      "displayName": "Scott Clement",
      "userId": "09077177954652264696"
     },
     "user_tz": 420
    },
    "id": "KGiTIPZBLT10",
    "outputId": "f2743e5c-faf7-4e5c-9817-4633e3eadb95"
   },
   "outputs": [],
   "source": [
    "df.columns # df columns post encoding"
   ]
  },
  {
   "cell_type": "code",
   "execution_count": null,
   "id": "f8630e25",
   "metadata": {
    "execution": {
     "iopub.execute_input": "2025-09-06T21:12:21.551943Z",
     "iopub.status.busy": "2025-09-06T21:12:21.551943Z",
     "iopub.status.idle": "2025-09-06T21:12:21.563945Z",
     "shell.execute_reply": "2025-09-06T21:12:21.563945Z"
    }
   },
   "outputs": [],
   "source": [
    "\n",
    "# Save results for next notebook\n",
    "save_intermediate_results(df, 'data_from_07_step_5.pkl', config)\n",
    "print('✓ Results saved for next notebook')"
   ]
  }
 ],
 "metadata": {
  "kernelspec": {
   "display_name": ".venv",
   "language": "python",
   "name": "python3"
  },
  "language_info": {
   "codemirror_mode": {
    "name": "ipython",
    "version": 3
   },
   "file_extension": ".py",
   "mimetype": "text/x-python",
   "name": "python",
   "nbconvert_exporter": "python",
   "pygments_lexer": "ipython3",
   "version": "3.10.11"
  }
 },
 "nbformat": 4,
 "nbformat_minor": 5
}
