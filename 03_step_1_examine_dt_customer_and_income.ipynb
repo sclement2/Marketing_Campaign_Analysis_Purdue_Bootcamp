{
 "cells": [
  {
   "cell_type": "markdown",
   "id": "ba879361",
   "metadata": {},
   "source": [
    "# Step 1: Examine Dt_Customer and Income\n",
    "\n",
    "Section: Step 1: Examine Dt_Customer and Income\n",
    "\n",
    "**Part of:** [marketing_campaign_082825_working.ipynb](./marketing_campaign_082825_working.ipynb)"
   ]
  },
  {
   "cell_type": "code",
   "execution_count": 1,
   "id": "d4b83527",
   "metadata": {
    "execution": {
     "iopub.execute_input": "2025-09-06T21:11:46.680997Z",
     "iopub.status.busy": "2025-09-06T21:11:46.680997Z",
     "iopub.status.idle": "2025-09-06T21:11:48.382285Z",
     "shell.execute_reply": "2025-09-06T21:11:48.381287Z"
    }
   },
   "outputs": [],
   "source": [
    "# Setup and data loading\n",
    "from utils import ProjectConfig, load_intermediate_results, save_intermediate_results\n",
    "import pandas as pd\n",
    "\n",
    "config = ProjectConfig()\n",
    "# Load data from previous notebook\n",
    "df = load_intermediate_results(\"data_from_02_step_0.pkl\", config)\n"
   ]
  },
  {
   "cell_type": "code",
   "execution_count": 2,
   "id": "3d4f1773",
   "metadata": {
    "colab": {
     "base_uri": "https://localhost:8080/"
    },
    "execution": {
     "iopub.execute_input": "2025-09-06T21:11:48.384284Z",
     "iopub.status.busy": "2025-09-06T21:11:48.384284Z",
     "iopub.status.idle": "2025-09-06T21:11:48.396284Z",
     "shell.execute_reply": "2025-09-06T21:11:48.396284Z"
    },
    "executionInfo": {
     "elapsed": 52,
     "status": "ok",
     "timestamp": 1756043826489,
     "user": {
      "displayName": "Scott Clement",
      "userId": "09077177954652264696"
     },
     "user_tz": 420
    },
    "id": "mtWodBqlfTSs",
    "outputId": "b6209e98-3440-41e7-a9ea-7630034eeb20"
   },
   "outputs": [
    {
     "name": "stdout",
     "output_type": "stream",
     "text": [
      "Initial Data Examination:\n",
      "\n",
      "Dt_Customer data type: object\n",
      "Income data type: object\n",
      "\n",
      "Missing values:\n",
      "Dt_Customer     0\n",
      "Income         24\n",
      "dtype: int64\n"
     ]
    }
   ],
   "source": [
    "# Examine Dt_Customer and Income\n",
    "print(\"Initial Data Examination:\")\n",
    "print(\"\\nDt_Customer data type:\", df['Dt_Customer'].dtype)\n",
    "print(\"Income data type:\", df['Income'].dtype)\n",
    "print(\"\\nMissing values:\")\n",
    "print(df[['Dt_Customer', 'Income']].isnull().sum())"
   ]
  },
  {
   "cell_type": "code",
   "execution_count": 3,
   "id": "2ee3af6f",
   "metadata": {
    "colab": {
     "base_uri": "https://localhost:8080/",
     "height": 0
    },
    "execution": {
     "iopub.execute_input": "2025-09-06T21:11:48.399287Z",
     "iopub.status.busy": "2025-09-06T21:11:48.398288Z",
     "iopub.status.idle": "2025-09-06T21:11:48.477285Z",
     "shell.execute_reply": "2025-09-06T21:11:48.476284Z"
    },
    "executionInfo": {
     "elapsed": 24,
     "status": "ok",
     "timestamp": 1756043826528,
     "user": {
      "displayName": "Scott Clement",
      "userId": "09077177954652264696"
     },
     "user_tz": 420
    },
    "id": "s4TTtSA1gDNP",
    "outputId": "b871ff88-b55c-4266-a44c-f25411dd933f"
   },
   "outputs": [
    {
     "data": {
      "text/html": [
       "<div>\n",
       "<style scoped>\n",
       "    .dataframe tbody tr th:only-of-type {\n",
       "        vertical-align: middle;\n",
       "    }\n",
       "\n",
       "    .dataframe tbody tr th {\n",
       "        vertical-align: top;\n",
       "    }\n",
       "\n",
       "    .dataframe thead th {\n",
       "        text-align: right;\n",
       "    }\n",
       "</style>\n",
       "<table border=\"1\" class=\"dataframe\">\n",
       "  <thead>\n",
       "    <tr style=\"text-align: right;\">\n",
       "      <th></th>\n",
       "      <th>ID</th>\n",
       "      <th>Year_Birth</th>\n",
       "      <th>Education</th>\n",
       "      <th>Marital_Status</th>\n",
       "      <th>Income</th>\n",
       "      <th>Kidhome</th>\n",
       "      <th>Teenhome</th>\n",
       "      <th>Dt_Customer</th>\n",
       "      <th>Recency</th>\n",
       "      <th>MntWines</th>\n",
       "      <th>...</th>\n",
       "      <th>NumStorePurchases</th>\n",
       "      <th>NumWebVisitsMonth</th>\n",
       "      <th>AcceptedCmp3</th>\n",
       "      <th>AcceptedCmp4</th>\n",
       "      <th>AcceptedCmp5</th>\n",
       "      <th>AcceptedCmp1</th>\n",
       "      <th>AcceptedCmp2</th>\n",
       "      <th>Response</th>\n",
       "      <th>Complain</th>\n",
       "      <th>Country</th>\n",
       "    </tr>\n",
       "  </thead>\n",
       "  <tbody>\n",
       "    <tr>\n",
       "      <th>134</th>\n",
       "      <td>8996</td>\n",
       "      <td>1957</td>\n",
       "      <td>PhD</td>\n",
       "      <td>Married</td>\n",
       "      <td>NaN</td>\n",
       "      <td>2</td>\n",
       "      <td>1</td>\n",
       "      <td>11/19/12</td>\n",
       "      <td>4</td>\n",
       "      <td>230</td>\n",
       "      <td>...</td>\n",
       "      <td>8</td>\n",
       "      <td>9</td>\n",
       "      <td>0</td>\n",
       "      <td>0</td>\n",
       "      <td>0</td>\n",
       "      <td>0</td>\n",
       "      <td>0</td>\n",
       "      <td>0</td>\n",
       "      <td>0</td>\n",
       "      <td>GER</td>\n",
       "    </tr>\n",
       "    <tr>\n",
       "      <th>262</th>\n",
       "      <td>1994</td>\n",
       "      <td>1983</td>\n",
       "      <td>Graduation</td>\n",
       "      <td>Married</td>\n",
       "      <td>NaN</td>\n",
       "      <td>1</td>\n",
       "      <td>0</td>\n",
       "      <td>11/15/13</td>\n",
       "      <td>11</td>\n",
       "      <td>5</td>\n",
       "      <td>...</td>\n",
       "      <td>2</td>\n",
       "      <td>7</td>\n",
       "      <td>0</td>\n",
       "      <td>0</td>\n",
       "      <td>0</td>\n",
       "      <td>0</td>\n",
       "      <td>0</td>\n",
       "      <td>0</td>\n",
       "      <td>0</td>\n",
       "      <td>US</td>\n",
       "    </tr>\n",
       "    <tr>\n",
       "      <th>394</th>\n",
       "      <td>3769</td>\n",
       "      <td>1972</td>\n",
       "      <td>PhD</td>\n",
       "      <td>Together</td>\n",
       "      <td>NaN</td>\n",
       "      <td>1</td>\n",
       "      <td>0</td>\n",
       "      <td>3/2/14</td>\n",
       "      <td>17</td>\n",
       "      <td>25</td>\n",
       "      <td>...</td>\n",
       "      <td>3</td>\n",
       "      <td>7</td>\n",
       "      <td>0</td>\n",
       "      <td>0</td>\n",
       "      <td>0</td>\n",
       "      <td>0</td>\n",
       "      <td>0</td>\n",
       "      <td>0</td>\n",
       "      <td>0</td>\n",
       "      <td>AUS</td>\n",
       "    </tr>\n",
       "    <tr>\n",
       "      <th>449</th>\n",
       "      <td>5255</td>\n",
       "      <td>1986</td>\n",
       "      <td>Graduation</td>\n",
       "      <td>Single</td>\n",
       "      <td>NaN</td>\n",
       "      <td>1</td>\n",
       "      <td>0</td>\n",
       "      <td>2/20/13</td>\n",
       "      <td>19</td>\n",
       "      <td>5</td>\n",
       "      <td>...</td>\n",
       "      <td>0</td>\n",
       "      <td>1</td>\n",
       "      <td>0</td>\n",
       "      <td>0</td>\n",
       "      <td>0</td>\n",
       "      <td>0</td>\n",
       "      <td>0</td>\n",
       "      <td>0</td>\n",
       "      <td>0</td>\n",
       "      <td>AUS</td>\n",
       "    </tr>\n",
       "    <tr>\n",
       "      <th>525</th>\n",
       "      <td>8268</td>\n",
       "      <td>1961</td>\n",
       "      <td>PhD</td>\n",
       "      <td>Married</td>\n",
       "      <td>NaN</td>\n",
       "      <td>0</td>\n",
       "      <td>1</td>\n",
       "      <td>7/11/13</td>\n",
       "      <td>23</td>\n",
       "      <td>352</td>\n",
       "      <td>...</td>\n",
       "      <td>7</td>\n",
       "      <td>6</td>\n",
       "      <td>0</td>\n",
       "      <td>0</td>\n",
       "      <td>0</td>\n",
       "      <td>0</td>\n",
       "      <td>0</td>\n",
       "      <td>0</td>\n",
       "      <td>0</td>\n",
       "      <td>CA</td>\n",
       "    </tr>\n",
       "  </tbody>\n",
       "</table>\n",
       "<p>5 rows × 28 columns</p>\n",
       "</div>"
      ],
      "text/plain": [
       "       ID  Year_Birth   Education Marital_Status Income  Kidhome  Teenhome  \\\n",
       "134  8996        1957         PhD        Married    NaN        2         1   \n",
       "262  1994        1983  Graduation        Married    NaN        1         0   \n",
       "394  3769        1972         PhD       Together    NaN        1         0   \n",
       "449  5255        1986  Graduation         Single    NaN        1         0   \n",
       "525  8268        1961         PhD        Married    NaN        0         1   \n",
       "\n",
       "    Dt_Customer  Recency  MntWines  ...  NumStorePurchases  NumWebVisitsMonth  \\\n",
       "134    11/19/12        4       230  ...                  8                  9   \n",
       "262    11/15/13       11         5  ...                  2                  7   \n",
       "394      3/2/14       17        25  ...                  3                  7   \n",
       "449     2/20/13       19         5  ...                  0                  1   \n",
       "525     7/11/13       23       352  ...                  7                  6   \n",
       "\n",
       "     AcceptedCmp3  AcceptedCmp4  AcceptedCmp5  AcceptedCmp1  AcceptedCmp2  \\\n",
       "134             0             0             0             0             0   \n",
       "262             0             0             0             0             0   \n",
       "394             0             0             0             0             0   \n",
       "449             0             0             0             0             0   \n",
       "525             0             0             0             0             0   \n",
       "\n",
       "     Response  Complain  Country  \n",
       "134         0         0      GER  \n",
       "262         0         0       US  \n",
       "394         0         0      AUS  \n",
       "449         0         0      AUS  \n",
       "525         0         0       CA  \n",
       "\n",
       "[5 rows x 28 columns]"
      ]
     },
     "execution_count": 3,
     "metadata": {},
     "output_type": "execute_result"
    }
   ],
   "source": [
    "df[df['Income'].isnull()].head()"
   ]
  },
  {
   "cell_type": "code",
   "execution_count": 4,
   "id": "773540d6",
   "metadata": {
    "colab": {
     "base_uri": "https://localhost:8080/"
    },
    "execution": {
     "iopub.execute_input": "2025-09-06T21:11:48.479284Z",
     "iopub.status.busy": "2025-09-06T21:11:48.479284Z",
     "iopub.status.idle": "2025-09-06T21:11:48.493286Z",
     "shell.execute_reply": "2025-09-06T21:11:48.492284Z"
    },
    "executionInfo": {
     "elapsed": 31,
     "status": "ok",
     "timestamp": 1756043826582,
     "user": {
      "displayName": "Scott Clement",
      "userId": "09077177954652264696"
     },
     "user_tz": 420
    },
    "id": "uE2YvdznhoYm",
    "outputId": "a7b39fb1-2dbe-4fdd-d04d-bf3e99cbe592"
   },
   "outputs": [
    {
     "data": {
      "text/plain": [
       "dtype('float64')"
      ]
     },
     "execution_count": 4,
     "metadata": {},
     "output_type": "execute_result"
    }
   ],
   "source": [
    "# Cleaning Income column\n",
    "df['Income'] = df['Income'].str.replace('$', '').str.replace(',', '').str.strip()\n",
    "df['Income'] = pd.to_numeric(df['Income'], errors='coerce')\n",
    "df['Income'].dtype"
   ]
  },
  {
   "cell_type": "code",
   "execution_count": 5,
   "id": "f29637ca",
   "metadata": {
    "colab": {
     "base_uri": "https://localhost:8080/"
    },
    "execution": {
     "iopub.execute_input": "2025-09-06T21:11:48.495285Z",
     "iopub.status.busy": "2025-09-06T21:11:48.495285Z",
     "iopub.status.idle": "2025-09-06T21:11:48.509285Z",
     "shell.execute_reply": "2025-09-06T21:11:48.508284Z"
    },
    "executionInfo": {
     "elapsed": 43,
     "status": "ok",
     "timestamp": 1756043826650,
     "user": {
      "displayName": "Scott Clement",
      "userId": "09077177954652264696"
     },
     "user_tz": 420
    },
    "id": "8Z5kp9eLyBwV",
    "outputId": "bc5d74fd-456b-45e6-a56d-1d0b4f60bb0f"
   },
   "outputs": [
    {
     "name": "stdout",
     "output_type": "stream",
     "text": [
      "Number of NaN values for Income column: 24\n",
      "Basic Statistical Data for Income column:\n",
      "count      2216.000000\n",
      "mean      52247.251354\n",
      "std       25173.076661\n",
      "min        1730.000000\n",
      "25%       35303.000000\n",
      "50%       51381.500000\n",
      "75%       68522.000000\n",
      "max      666666.000000\n",
      "Name: Income, dtype: float64\n"
     ]
    }
   ],
   "source": [
    "# Information after cleaning the Income column\n",
    "print(\"Number of NaN values for Income column:\",df['Income'].isna().sum())\n",
    "\n",
    "print(\"Basic Statistical Data for Income column:\")\n",
    "print(df['Income'].describe())\n",
    "# Missing values will be imputed later"
   ]
  },
  {
   "cell_type": "code",
   "execution_count": 6,
   "id": "02cd6986",
   "metadata": {
    "execution": {
     "iopub.execute_input": "2025-09-06T21:11:48.512287Z",
     "iopub.status.busy": "2025-09-06T21:11:48.512287Z",
     "iopub.status.idle": "2025-09-06T21:11:48.525284Z",
     "shell.execute_reply": "2025-09-06T21:11:48.524286Z"
    },
    "executionInfo": {
     "elapsed": 24,
     "status": "ok",
     "timestamp": 1756043826708,
     "user": {
      "displayName": "Scott Clement",
      "userId": "09077177954652264696"
     },
     "user_tz": 420
    },
    "id": "YslzW86N5IfB"
   },
   "outputs": [],
   "source": [
    "# Converting Dt_Customer to datetime\n",
    "df['Dt_Customer'] = pd.to_datetime(df['Dt_Customer'], format='%m/%d/%y')"
   ]
  },
  {
   "cell_type": "code",
   "execution_count": 7,
   "id": "b40ed596",
   "metadata": {
    "colab": {
     "base_uri": "https://localhost:8080/"
    },
    "execution": {
     "iopub.execute_input": "2025-09-06T21:11:48.528284Z",
     "iopub.status.busy": "2025-09-06T21:11:48.527286Z",
     "iopub.status.idle": "2025-09-06T21:11:48.540285Z",
     "shell.execute_reply": "2025-09-06T21:11:48.540285Z"
    },
    "executionInfo": {
     "elapsed": 259,
     "status": "ok",
     "timestamp": 1756043827000,
     "user": {
      "displayName": "Scott Clement",
      "userId": "09077177954652264696"
     },
     "user_tz": 420
    },
    "id": "hU_FBIKc5Kft",
    "outputId": "cdeb4385-6176-42f0-a15d-35998706abab"
   },
   "outputs": [
    {
     "name": "stdout",
     "output_type": "stream",
     "text": [
      "0   2014-06-16\n",
      "1   2014-06-15\n",
      "2   2014-05-13\n",
      "3   2014-05-11\n",
      "4   2014-04-08\n",
      "5   2014-03-17\n",
      "6   2014-01-29\n",
      "7   2014-01-18\n",
      "8   2014-01-11\n",
      "9   2014-01-11\n",
      "Name: Dt_Customer, dtype: datetime64[ns]\n"
     ]
    },
    {
     "data": {
      "text/plain": [
       "dtype('<M8[ns]')"
      ]
     },
     "execution_count": 7,
     "metadata": {},
     "output_type": "execute_result"
    }
   ],
   "source": [
    "print(df['Dt_Customer'].head(10))\n",
    "df['Dt_Customer'].dtype"
   ]
  },
  {
   "cell_type": "code",
   "execution_count": 8,
   "id": "9cf8d395",
   "metadata": {
    "colab": {
     "base_uri": "https://localhost:8080/"
    },
    "execution": {
     "iopub.execute_input": "2025-09-06T21:11:48.542283Z",
     "iopub.status.busy": "2025-09-06T21:11:48.542283Z",
     "iopub.status.idle": "2025-09-06T21:11:48.557286Z",
     "shell.execute_reply": "2025-09-06T21:11:48.556285Z"
    },
    "executionInfo": {
     "elapsed": 171,
     "status": "ok",
     "timestamp": 1756043827001,
     "user": {
      "displayName": "Scott Clement",
      "userId": "09077177954652264696"
     },
     "user_tz": 420
    },
    "id": "HejQuU_8jVWU",
    "outputId": "b4038ed6-0106-4991-84ae-44fbe12fa5e9"
   },
   "outputs": [
    {
     "name": "stdout",
     "output_type": "stream",
     "text": [
      "Original Education values: Education\n",
      "Graduation    1127\n",
      "PhD            486\n",
      "Master         370\n",
      "2n Cycle       203\n",
      "Basic           54\n",
      "Name: count, dtype: int64\n"
     ]
    }
   ],
   "source": [
    "# Clean Education column\n",
    "print(\"Original Education values:\",df['Education'].value_counts(dropna=False))"
   ]
  },
  {
   "cell_type": "code",
   "execution_count": 9,
   "id": "ba723618",
   "metadata": {
    "colab": {
     "base_uri": "https://localhost:8080/"
    },
    "execution": {
     "iopub.execute_input": "2025-09-06T21:11:48.560284Z",
     "iopub.status.busy": "2025-09-06T21:11:48.559284Z",
     "iopub.status.idle": "2025-09-06T21:11:48.573285Z",
     "shell.execute_reply": "2025-09-06T21:11:48.572284Z"
    },
    "executionInfo": {
     "elapsed": 122,
     "status": "ok",
     "timestamp": 1756043827002,
     "user": {
      "displayName": "Scott Clement",
      "userId": "09077177954652264696"
     },
     "user_tz": 420
    },
    "id": "ngb5UxPqpTIT",
    "outputId": "5051f38a-90f9-4cdf-a428-d3a6dae479a5"
   },
   "outputs": [
    {
     "name": "stdout",
     "output_type": "stream",
     "text": [
      "Cleaned Education values: Education\n",
      "Bachelor     1127\n",
      "Master        573\n",
      "PhD           486\n",
      "Secondary      54\n",
      "Name: count, dtype: int64\n"
     ]
    }
   ],
   "source": [
    "# Data Cleaning for Education\n",
    "# The instructions emphasize cleaning the Education categories.\n",
    "# The presence of 2n Cycle alongside Master suggests potential redundancy, as both likely refer\n",
    "# to postgraduate education. Basic is vague and may need clarification or standardization.\n",
    "\n",
    "# Here’s how cleansing the Education values was undertaken:\n",
    "# Merge 2n Cycle with Master: Since 2n Cycle corresponds to a Master’s degree in the Bologna Process,\n",
    "# combining it with Master standardizes the category to a more universally recognized term.\n",
    "# Clarify Basic: Without additional context, Basic likely represents education below a Bachelor’s degree\n",
    "# (e.g., high school or less). It will be renamed to something clearer: \"Secondary\"\n",
    "# Retain Graduation and rename to Bachelor\n",
    "\n",
    "df['Education'] = df['Education'].replace('2n Cycle', 'Master')\n",
    "df['Education'] = df['Education'].replace('Graduation', 'Bachelor')\n",
    "df['Education'] = df['Education'].replace('Basic', 'Secondary')\n",
    "\n",
    "print(\"Cleaned Education values:\",df['Education'].value_counts(dropna=False))"
   ]
  },
  {
   "cell_type": "code",
   "execution_count": 10,
   "id": "e7ba584e",
   "metadata": {
    "colab": {
     "base_uri": "https://localhost:8080/"
    },
    "execution": {
     "iopub.execute_input": "2025-09-06T21:11:48.575284Z",
     "iopub.status.busy": "2025-09-06T21:11:48.575284Z",
     "iopub.status.idle": "2025-09-06T21:11:48.589285Z",
     "shell.execute_reply": "2025-09-06T21:11:48.588284Z"
    },
    "executionInfo": {
     "elapsed": 67,
     "status": "ok",
     "timestamp": 1756043827003,
     "user": {
      "displayName": "Scott Clement",
      "userId": "09077177954652264696"
     },
     "user_tz": 420
    },
    "id": "AkAKCoOmkLuQ",
    "outputId": "7ea5296f-9711-462d-bcf0-64f7b5d9106b"
   },
   "outputs": [
    {
     "name": "stdout",
     "output_type": "stream",
     "text": [
      "Original Marital Status values: Marital_Status\n",
      "Married     864\n",
      "Together    580\n",
      "Single      480\n",
      "Divorced    232\n",
      "Widow        77\n",
      "Alone         3\n",
      "YOLO          2\n",
      "Absurd        2\n",
      "Name: count, dtype: int64\n"
     ]
    }
   ],
   "source": [
    "# Clean Marital_Status column\n",
    "print(\"Original Marital Status values:\",df['Marital_Status'].value_counts(dropna=False))"
   ]
  },
  {
   "cell_type": "code",
   "execution_count": 11,
   "id": "e5057f42",
   "metadata": {
    "colab": {
     "base_uri": "https://localhost:8080/"
    },
    "execution": {
     "iopub.execute_input": "2025-09-06T21:11:48.591284Z",
     "iopub.status.busy": "2025-09-06T21:11:48.591284Z",
     "iopub.status.idle": "2025-09-06T21:11:48.604285Z",
     "shell.execute_reply": "2025-09-06T21:11:48.603284Z"
    },
    "executionInfo": {
     "elapsed": 44,
     "status": "ok",
     "timestamp": 1756043827019,
     "user": {
      "displayName": "Scott Clement",
      "userId": "09077177954652264696"
     },
     "user_tz": 420
    },
    "id": "XBlFfWEzsest",
    "outputId": "423e770c-ea3e-4e3d-f6f7-53d6c6e88292"
   },
   "outputs": [
    {
     "name": "stdout",
     "output_type": "stream",
     "text": [
      "\n",
      "Cleaned Marital_Status values: Marital_Status\n",
      "Married     864\n",
      "Together    580\n",
      "Single      487\n",
      "Divorced    232\n",
      "Widow        77\n",
      "Name: count, dtype: int64\n"
     ]
    }
   ],
   "source": [
    "# The cleaning process used for merging non-standard categories in the Marital Status column\n",
    "# Merge (YOLO, Alone, Absurd) into a standard one (Single), reducing redundancy:\n",
    "# - YOLO (2 entries): Likely a joke or informal entry implying a single. Merging into Single.\n",
    "# - Alone (3 entries): Implies no partner, aligning with Single. Merging into Single.\n",
    "# - Absurd (2 entries): Ambiguous, but with such low frequency, it’s likely an error or non-standard\n",
    "# Retain Married, Together, Divorced, and Widow as distinct categories, as they reflect standard marital statuses.\n",
    "# - Married: 864 (standard, refers to legally married individuals)\n",
    "# - Together: 580 (likely refers to cohabiting partners, not legally married)\n",
    "# - Divorced: 232 (standard, refers to legally divorced individuals)\n",
    "# - Widow: 77 (standard, refers to individuals whose spouse has passed away)\n",
    "\n",
    "df['Marital_Status'] = df['Marital_Status'].replace(['YOLO', 'Alone', 'Absurd'], 'Single')\n",
    "print(\"\\nCleaned Marital_Status values:\",df['Marital_Status'].value_counts(dropna=False))"
   ]
  },
  {
   "cell_type": "code",
   "execution_count": 12,
   "id": "8c7ce450",
   "metadata": {
    "colab": {
     "base_uri": "https://localhost:8080/"
    },
    "execution": {
     "iopub.execute_input": "2025-09-06T21:11:48.606285Z",
     "iopub.status.busy": "2025-09-06T21:11:48.606285Z",
     "iopub.status.idle": "2025-09-06T21:11:48.635286Z",
     "shell.execute_reply": "2025-09-06T21:11:48.634284Z"
    },
    "executionInfo": {
     "elapsed": 44,
     "status": "ok",
     "timestamp": 1756043827064,
     "user": {
      "displayName": "Scott Clement",
      "userId": "09077177954652264696"
     },
     "user_tz": 420
    },
    "id": "Zirk6K4K7GJS",
    "outputId": "fd697863-4f70-4a06-d69f-56fb191dc51b"
   },
   "outputs": [
    {
     "name": "stdout",
     "output_type": "stream",
     "text": [
      "\n",
      "Mean Income Pivot Table:\n",
      "Education       Bachelor    Master       PhD  Secondary\n",
      "Marital_Status                                         \n",
      "Divorced        54526.04  49972.83  53096.62    9548.00\n",
      "Married         50800.26  50686.06  58138.03   21960.50\n",
      "Single          51365.63  53751.08  53039.67   18238.67\n",
      "Together        55758.48  49495.94  56041.42   21240.07\n",
      "Widow           54976.66  56211.12  60288.08   22123.00\n",
      "\n",
      "Median Income Pivot Table:\n",
      "Education       Bachelor   Master      PhD  Secondary\n",
      "Marital_Status                                       \n",
      "Divorced         55635.0  49297.0  50613.5     9548.0\n",
      "Married          50737.0  50017.0  57081.5    22352.0\n",
      "Single           49973.5  49514.0  48918.0    16383.0\n",
      "Together         53977.0  47586.5  56756.0    23179.0\n",
      "Widow            58275.0  51459.5  57032.0    22123.0\n"
     ]
    }
   ],
   "source": [
    "# Calculate mean and median income by Marital Status and Education\n",
    "# Pivot tables for visualization\n",
    "mean_pivot = df.pivot_table(values='Income', index='Marital_Status', columns='Education',\n",
    "                           aggfunc='mean').round(2)\n",
    "median_pivot = df.pivot_table(values='Income', index='Marital_Status', columns='Education',\n",
    "                             aggfunc='median').round(2)\n",
    "\n",
    "print(\"\\nMean Income Pivot Table:\")\n",
    "print(mean_pivot)\n",
    "print(\"\\nMedian Income Pivot Table:\")\n",
    "print(median_pivot)"
   ]
  },
  {
   "cell_type": "code",
   "execution_count": 13,
   "id": "0f988916",
   "metadata": {
    "execution": {
     "iopub.execute_input": "2025-09-06T21:11:48.637285Z",
     "iopub.status.busy": "2025-09-06T21:11:48.637285Z",
     "iopub.status.idle": "2025-09-06T21:11:48.651285Z",
     "shell.execute_reply": "2025-09-06T21:11:48.650284Z"
    }
   },
   "outputs": [
    {
     "name": "stdout",
     "output_type": "stream",
     "text": [
      "Saved: outputs\\data_from_03_step_1.pkl\n",
      "✓ Results saved for next notebook\n"
     ]
    }
   ],
   "source": [
    "\n",
    "# Save results for next notebook\n",
    "save_intermediate_results(df, \"data_from_03_step_1.pkl\", config)\n",
    "print('✓ Results saved for next notebook')"
   ]
  }
 ],
 "metadata": {
  "kernelspec": {
   "display_name": ".venv",
   "language": "python",
   "name": "python3"
  },
  "language_info": {
   "codemirror_mode": {
    "name": "ipython",
    "version": 3
   },
   "file_extension": ".py",
   "mimetype": "text/x-python",
   "name": "python",
   "nbconvert_exporter": "python",
   "pygments_lexer": "ipython3",
   "version": "3.10.11"
  }
 },
 "nbformat": 4,
 "nbformat_minor": 5
}
