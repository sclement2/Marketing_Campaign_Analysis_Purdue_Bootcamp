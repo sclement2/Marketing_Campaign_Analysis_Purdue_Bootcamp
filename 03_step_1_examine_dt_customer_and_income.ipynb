{
 "cells": [
  {
   "cell_type": "markdown",
   "id": "ba879361",
   "metadata": {},
   "source": [
    "# Step 1: Examine Dt_Customer and Income\n",
    "\n",
    "Section: Step 1: Examine Dt_Customer and Income\n",
    "\n",
    "**Part of:** [marketing_campaign_082825_working.ipynb](./marketing_campaign_082825_working.ipynb)"
   ]
  },
  {
   "cell_type": "code",
   "execution_count": null,
   "id": "d4b83527",
   "metadata": {
    "execution": {
     "iopub.execute_input": "2025-09-06T21:11:46.680997Z",
     "iopub.status.busy": "2025-09-06T21:11:46.680997Z",
     "iopub.status.idle": "2025-09-06T21:11:48.382285Z",
     "shell.execute_reply": "2025-09-06T21:11:48.381287Z"
    }
   },
   "outputs": [],
   "source": [
    "# Setup and data loading\n",
    "from utils import ProjectConfig, load_intermediate_results, save_intermediate_results\n",
    "import pandas as pd\n",
    "\n",
    "config = ProjectConfig()\n",
    "# Load data from previous notebook\n",
    "df = load_intermediate_results(\"data_from_02_step_0.pkl\", config)\n"
   ]
  },
  {
   "cell_type": "code",
   "execution_count": null,
   "id": "3d4f1773",
   "metadata": {
    "colab": {
     "base_uri": "https://localhost:8080/"
    },
    "execution": {
     "iopub.execute_input": "2025-09-06T21:11:48.384284Z",
     "iopub.status.busy": "2025-09-06T21:11:48.384284Z",
     "iopub.status.idle": "2025-09-06T21:11:48.396284Z",
     "shell.execute_reply": "2025-09-06T21:11:48.396284Z"
    },
    "executionInfo": {
     "elapsed": 52,
     "status": "ok",
     "timestamp": 1756043826489,
     "user": {
      "displayName": "Scott Clement",
      "userId": "09077177954652264696"
     },
     "user_tz": 420
    },
    "id": "mtWodBqlfTSs",
    "outputId": "b6209e98-3440-41e7-a9ea-7630034eeb20"
   },
   "outputs": [],
   "source": [
    "# Examine Dt_Customer and Income\n",
    "print(\"Initial Data Examination:\")\n",
    "print(\"\\nDt_Customer data type:\", df['Dt_Customer'].dtype)\n",
    "print(\"Income data type:\", df['Income'].dtype)\n",
    "print(\"\\nMissing values:\")\n",
    "print(df[['Dt_Customer', 'Income']].isnull().sum())"
   ]
  },
  {
   "cell_type": "code",
   "execution_count": null,
   "id": "2ee3af6f",
   "metadata": {
    "colab": {
     "base_uri": "https://localhost:8080/",
     "height": 0
    },
    "execution": {
     "iopub.execute_input": "2025-09-06T21:11:48.399287Z",
     "iopub.status.busy": "2025-09-06T21:11:48.398288Z",
     "iopub.status.idle": "2025-09-06T21:11:48.477285Z",
     "shell.execute_reply": "2025-09-06T21:11:48.476284Z"
    },
    "executionInfo": {
     "elapsed": 24,
     "status": "ok",
     "timestamp": 1756043826528,
     "user": {
      "displayName": "Scott Clement",
      "userId": "09077177954652264696"
     },
     "user_tz": 420
    },
    "id": "s4TTtSA1gDNP",
    "outputId": "b871ff88-b55c-4266-a44c-f25411dd933f"
   },
   "outputs": [],
   "source": [
    "df[df['Income'].isnull()].head()"
   ]
  },
  {
   "cell_type": "code",
   "execution_count": null,
   "id": "773540d6",
   "metadata": {
    "colab": {
     "base_uri": "https://localhost:8080/"
    },
    "execution": {
     "iopub.execute_input": "2025-09-06T21:11:48.479284Z",
     "iopub.status.busy": "2025-09-06T21:11:48.479284Z",
     "iopub.status.idle": "2025-09-06T21:11:48.493286Z",
     "shell.execute_reply": "2025-09-06T21:11:48.492284Z"
    },
    "executionInfo": {
     "elapsed": 31,
     "status": "ok",
     "timestamp": 1756043826582,
     "user": {
      "displayName": "Scott Clement",
      "userId": "09077177954652264696"
     },
     "user_tz": 420
    },
    "id": "uE2YvdznhoYm",
    "outputId": "a7b39fb1-2dbe-4fdd-d04d-bf3e99cbe592"
   },
   "outputs": [],
   "source": [
    "# Cleaning Income column\n",
    "df['Income'] = df['Income'].str.replace('$', '').str.replace(',', '').str.strip()\n",
    "df['Income'] = pd.to_numeric(df['Income'], errors='coerce')\n",
    "df['Income'].dtype"
   ]
  },
  {
   "cell_type": "code",
   "execution_count": null,
   "id": "f29637ca",
   "metadata": {
    "colab": {
     "base_uri": "https://localhost:8080/"
    },
    "execution": {
     "iopub.execute_input": "2025-09-06T21:11:48.495285Z",
     "iopub.status.busy": "2025-09-06T21:11:48.495285Z",
     "iopub.status.idle": "2025-09-06T21:11:48.509285Z",
     "shell.execute_reply": "2025-09-06T21:11:48.508284Z"
    },
    "executionInfo": {
     "elapsed": 43,
     "status": "ok",
     "timestamp": 1756043826650,
     "user": {
      "displayName": "Scott Clement",
      "userId": "09077177954652264696"
     },
     "user_tz": 420
    },
    "id": "8Z5kp9eLyBwV",
    "outputId": "bc5d74fd-456b-45e6-a56d-1d0b4f60bb0f"
   },
   "outputs": [],
   "source": [
    "# Information after cleaning the Income column\n",
    "print(\"Number of NaN values for Income column:\",df['Income'].isna().sum())\n",
    "\n",
    "print(\"Basic Statistical Data for Income column:\")\n",
    "print(df['Income'].describe())\n",
    "# Missing values will be imputed later"
   ]
  },
  {
   "cell_type": "code",
   "execution_count": null,
   "id": "02cd6986",
   "metadata": {
    "execution": {
     "iopub.execute_input": "2025-09-06T21:11:48.512287Z",
     "iopub.status.busy": "2025-09-06T21:11:48.512287Z",
     "iopub.status.idle": "2025-09-06T21:11:48.525284Z",
     "shell.execute_reply": "2025-09-06T21:11:48.524286Z"
    },
    "executionInfo": {
     "elapsed": 24,
     "status": "ok",
     "timestamp": 1756043826708,
     "user": {
      "displayName": "Scott Clement",
      "userId": "09077177954652264696"
     },
     "user_tz": 420
    },
    "id": "YslzW86N5IfB"
   },
   "outputs": [],
   "source": [
    "# Converting Dt_Customer to datetime\n",
    "df['Dt_Customer'] = pd.to_datetime(df['Dt_Customer'], format='%m/%d/%y')"
   ]
  },
  {
   "cell_type": "code",
   "execution_count": null,
   "id": "b40ed596",
   "metadata": {
    "colab": {
     "base_uri": "https://localhost:8080/"
    },
    "execution": {
     "iopub.execute_input": "2025-09-06T21:11:48.528284Z",
     "iopub.status.busy": "2025-09-06T21:11:48.527286Z",
     "iopub.status.idle": "2025-09-06T21:11:48.540285Z",
     "shell.execute_reply": "2025-09-06T21:11:48.540285Z"
    },
    "executionInfo": {
     "elapsed": 259,
     "status": "ok",
     "timestamp": 1756043827000,
     "user": {
      "displayName": "Scott Clement",
      "userId": "09077177954652264696"
     },
     "user_tz": 420
    },
    "id": "hU_FBIKc5Kft",
    "outputId": "cdeb4385-6176-42f0-a15d-35998706abab"
   },
   "outputs": [],
   "source": [
    "print(df['Dt_Customer'].head(10))\n",
    "df['Dt_Customer'].dtype"
   ]
  },
  {
   "cell_type": "code",
   "execution_count": null,
   "id": "9cf8d395",
   "metadata": {
    "colab": {
     "base_uri": "https://localhost:8080/"
    },
    "execution": {
     "iopub.execute_input": "2025-09-06T21:11:48.542283Z",
     "iopub.status.busy": "2025-09-06T21:11:48.542283Z",
     "iopub.status.idle": "2025-09-06T21:11:48.557286Z",
     "shell.execute_reply": "2025-09-06T21:11:48.556285Z"
    },
    "executionInfo": {
     "elapsed": 171,
     "status": "ok",
     "timestamp": 1756043827001,
     "user": {
      "displayName": "Scott Clement",
      "userId": "09077177954652264696"
     },
     "user_tz": 420
    },
    "id": "HejQuU_8jVWU",
    "outputId": "b4038ed6-0106-4991-84ae-44fbe12fa5e9"
   },
   "outputs": [],
   "source": [
    "# Clean Education column\n",
    "print(\"Original Education values:\",df['Education'].value_counts(dropna=False))"
   ]
  },
  {
   "cell_type": "code",
   "execution_count": null,
   "id": "ba723618",
   "metadata": {
    "colab": {
     "base_uri": "https://localhost:8080/"
    },
    "execution": {
     "iopub.execute_input": "2025-09-06T21:11:48.560284Z",
     "iopub.status.busy": "2025-09-06T21:11:48.559284Z",
     "iopub.status.idle": "2025-09-06T21:11:48.573285Z",
     "shell.execute_reply": "2025-09-06T21:11:48.572284Z"
    },
    "executionInfo": {
     "elapsed": 122,
     "status": "ok",
     "timestamp": 1756043827002,
     "user": {
      "displayName": "Scott Clement",
      "userId": "09077177954652264696"
     },
     "user_tz": 420
    },
    "id": "ngb5UxPqpTIT",
    "outputId": "5051f38a-90f9-4cdf-a428-d3a6dae479a5"
   },
   "outputs": [],
   "source": [
    "# Data Cleaning for Education\n",
    "# The instructions emphasize cleaning the Education categories.\n",
    "# The presence of 2n Cycle alongside Master suggests potential redundancy, as both likely refer\n",
    "# to postgraduate education. Basic is vague and may need clarification or standardization.\n",
    "\n",
    "# Here’s how cleansing the Education values was undertaken:\n",
    "# Merge 2n Cycle with Master: Since 2n Cycle corresponds to a Master’s degree in the Bologna Process,\n",
    "# combining it with Master standardizes the category to a more universally recognized term.\n",
    "# Clarify Basic: Without additional context, Basic likely represents education below a Bachelor’s degree\n",
    "# (e.g., high school or less). It will be renamed to something clearer: \"Secondary\"\n",
    "# Retain Graduation and rename to Bachelor\n",
    "\n",
    "df['Education'] = df['Education'].replace('2n Cycle', 'Master')\n",
    "df['Education'] = df['Education'].replace('Graduation', 'Bachelor')\n",
    "df['Education'] = df['Education'].replace('Basic', 'Secondary')\n",
    "\n",
    "print(\"Cleaned Education values:\",df['Education'].value_counts(dropna=False))"
   ]
  },
  {
   "cell_type": "code",
   "execution_count": null,
   "id": "e7ba584e",
   "metadata": {
    "colab": {
     "base_uri": "https://localhost:8080/"
    },
    "execution": {
     "iopub.execute_input": "2025-09-06T21:11:48.575284Z",
     "iopub.status.busy": "2025-09-06T21:11:48.575284Z",
     "iopub.status.idle": "2025-09-06T21:11:48.589285Z",
     "shell.execute_reply": "2025-09-06T21:11:48.588284Z"
    },
    "executionInfo": {
     "elapsed": 67,
     "status": "ok",
     "timestamp": 1756043827003,
     "user": {
      "displayName": "Scott Clement",
      "userId": "09077177954652264696"
     },
     "user_tz": 420
    },
    "id": "AkAKCoOmkLuQ",
    "outputId": "7ea5296f-9711-462d-bcf0-64f7b5d9106b"
   },
   "outputs": [],
   "source": [
    "# Clean Marital_Status column\n",
    "print(\"Original Marital Status values:\",df['Marital_Status'].value_counts(dropna=False))"
   ]
  },
  {
   "cell_type": "code",
   "execution_count": null,
   "id": "e5057f42",
   "metadata": {
    "colab": {
     "base_uri": "https://localhost:8080/"
    },
    "execution": {
     "iopub.execute_input": "2025-09-06T21:11:48.591284Z",
     "iopub.status.busy": "2025-09-06T21:11:48.591284Z",
     "iopub.status.idle": "2025-09-06T21:11:48.604285Z",
     "shell.execute_reply": "2025-09-06T21:11:48.603284Z"
    },
    "executionInfo": {
     "elapsed": 44,
     "status": "ok",
     "timestamp": 1756043827019,
     "user": {
      "displayName": "Scott Clement",
      "userId": "09077177954652264696"
     },
     "user_tz": 420
    },
    "id": "XBlFfWEzsest",
    "outputId": "423e770c-ea3e-4e3d-f6f7-53d6c6e88292"
   },
   "outputs": [],
   "source": [
    "# The cleaning process used for merging non-standard categories in the Marital Status column\n",
    "# Merge (YOLO, Alone, Absurd) into a standard one (Single), reducing redundancy:\n",
    "# - YOLO (2 entries): Likely a joke or informal entry implying a single. Merging into Single.\n",
    "# - Alone (3 entries): Implies no partner, aligning with Single. Merging into Single.\n",
    "# - Absurd (2 entries): Ambiguous, but with such low frequency, it’s likely an error or non-standard\n",
    "# Retain Married, Together, Divorced, and Widow as distinct categories, as they reflect standard marital statuses.\n",
    "# - Married: 864 (standard, refers to legally married individuals)\n",
    "# - Together: 580 (likely refers to cohabiting partners, not legally married)\n",
    "# - Divorced: 232 (standard, refers to legally divorced individuals)\n",
    "# - Widow: 77 (standard, refers to individuals whose spouse has passed away)\n",
    "\n",
    "df['Marital_Status'] = df['Marital_Status'].replace(['YOLO', 'Alone', 'Absurd'], 'Single')\n",
    "print(\"\\nCleaned Marital_Status values:\",df['Marital_Status'].value_counts(dropna=False))"
   ]
  },
  {
   "cell_type": "code",
   "execution_count": null,
   "id": "8c7ce450",
   "metadata": {
    "colab": {
     "base_uri": "https://localhost:8080/"
    },
    "execution": {
     "iopub.execute_input": "2025-09-06T21:11:48.606285Z",
     "iopub.status.busy": "2025-09-06T21:11:48.606285Z",
     "iopub.status.idle": "2025-09-06T21:11:48.635286Z",
     "shell.execute_reply": "2025-09-06T21:11:48.634284Z"
    },
    "executionInfo": {
     "elapsed": 44,
     "status": "ok",
     "timestamp": 1756043827064,
     "user": {
      "displayName": "Scott Clement",
      "userId": "09077177954652264696"
     },
     "user_tz": 420
    },
    "id": "Zirk6K4K7GJS",
    "outputId": "fd697863-4f70-4a06-d69f-56fb191dc51b"
   },
   "outputs": [],
   "source": [
    "# Calculate mean and median income by Marital Status and Education\n",
    "# Pivot tables for visualization\n",
    "mean_pivot = df.pivot_table(values='Income', index='Marital_Status', columns='Education',\n",
    "                           aggfunc='mean').round(2)\n",
    "median_pivot = df.pivot_table(values='Income', index='Marital_Status', columns='Education',\n",
    "                             aggfunc='median').round(2)\n",
    "\n",
    "print(\"\\nMean Income Pivot Table:\")\n",
    "print(mean_pivot)\n",
    "print(\"\\nMedian Income Pivot Table:\")\n",
    "print(median_pivot)"
   ]
  },
  {
   "cell_type": "code",
   "execution_count": null,
   "id": "0f988916",
   "metadata": {
    "execution": {
     "iopub.execute_input": "2025-09-06T21:11:48.637285Z",
     "iopub.status.busy": "2025-09-06T21:11:48.637285Z",
     "iopub.status.idle": "2025-09-06T21:11:48.651285Z",
     "shell.execute_reply": "2025-09-06T21:11:48.650284Z"
    }
   },
   "outputs": [],
   "source": [
    "\n",
    "# Save results for next notebook\n",
    "save_intermediate_results(df, \"data_from_03_step_1.pkl\", config)\n",
    "print('✓ Results saved for next notebook')"
   ]
  }
 ],
 "metadata": {
  "kernelspec": {
   "display_name": ".venv",
   "language": "python",
   "name": "python3"
  },
  "language_info": {
   "codemirror_mode": {
    "name": "ipython",
    "version": 3
   },
   "file_extension": ".py",
   "mimetype": "text/x-python",
   "name": "python",
   "nbconvert_exporter": "python",
   "pygments_lexer": "ipython3",
   "version": "3.10.11"
  }
 },
 "nbformat": 4,
 "nbformat_minor": 5
}
