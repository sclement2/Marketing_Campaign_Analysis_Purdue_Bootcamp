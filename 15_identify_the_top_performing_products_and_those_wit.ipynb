{
 "cells": [
  {
   "cell_type": "markdown",
   "id": "09d130ef",
   "metadata": {},
   "source": [
    "# Additional Visualizations\n",
    "\n",
    "Section: a. Identify the top-performing products and those with the lowest revenue.\n",
    "\n",
    "**Part of:** [marketing_campaign_082825_working.ipynb](./marketing_campaign_082825_working.ipynb)"
   ]
  },
  {
   "cell_type": "code",
   "execution_count": null,
   "id": "1bf51dc3",
   "metadata": {
    "execution": {
     "iopub.execute_input": "2025-09-06T21:13:29.783827Z",
     "iopub.status.busy": "2025-09-06T21:13:29.783827Z",
     "iopub.status.idle": "2025-09-06T21:13:31.503625Z",
     "shell.execute_reply": "2025-09-06T21:13:31.502624Z"
    }
   },
   "outputs": [],
   "source": [
    "# Setup and data loading\n",
    "from utils import (\n",
    "    ProjectConfig,\n",
    "    load_intermediate_results,\n",
    "    save_project_figure,\n",
    "    reset_plot_settings,\n",
    ")\n",
    "import matplotlib.pyplot as plt\n",
    "import warnings\n",
    "warnings.filterwarnings(\"ignore\")\n",
    "\n",
    "config = ProjectConfig()\n",
    "# Load data from previous notebook\n",
    "df = load_intermediate_results(\"data_from_08_step_6.pkl\", config)"
   ]
  },
  {
   "cell_type": "markdown",
   "id": "82021ffd",
   "metadata": {
    "id": "VCZRsaNXeSPe"
   },
   "source": [
    "## a. Identify the top-performing products and those with the lowest revenue."
   ]
  },
  {
   "cell_type": "code",
   "execution_count": null,
   "id": "d80f69df",
   "metadata": {
    "colab": {
     "base_uri": "https://localhost:8080/",
     "height": 0
    },
    "execution": {
     "iopub.execute_input": "2025-09-06T21:13:31.506627Z",
     "iopub.status.busy": "2025-09-06T21:13:31.506627Z",
     "iopub.status.idle": "2025-09-06T21:13:31.985626Z",
     "shell.execute_reply": "2025-09-06T21:13:31.985626Z"
    },
    "executionInfo": {
     "elapsed": 441,
     "status": "ok",
     "timestamp": 1756043835308,
     "user": {
      "displayName": "Scott Clement",
      "userId": "09077177954652264696"
     },
     "user_tz": 420
    },
    "id": "QH-5o8KqLT2A",
    "outputId": "85a8a8bc-5cc7-41a6-bdc7-d0b9cd3d8faf"
   },
   "outputs": [],
   "source": [
    "#a. Identify the top-performing products and those with the lowest revenue\n",
    "\n",
    "# Calculate total revenue for each product\n",
    "product_revenue = df[['MntWines','MntFruits','MntMeatProducts','MntFishProducts','MntSweetProducts','MntGoldProds']].sum()\n",
    "\n",
    "reset_plot_settings()\n",
    "\n",
    "# Create bar plot showing revenue\n",
    "plt.figure(figsize=(10,6))\n",
    "\n",
    "product_revenue.sort_values(ascending=False).plot(kind='bar', color=['#1f77b4', '#ff7f0e', '#2ca02c', '#d62728', '#9467bd', '#8c564b'])\n",
    "\n",
    "plt.title('Total Revenue by Product Category')\n",
    "plt.xlabel('Product Category')\n",
    "plt.ylabel('Total Revenue ($)')\n",
    "plt.xticks(rotation=45)\n",
    "plt.tight_layout()\n",
    "save_project_figure(\n",
    "    \"Total_Revenue_by_Product_Category\",\n",
    "    \"Total Revenue by Product Category\",\n",
    "    config,\n",
    ")\n",
    "plt.show()"
   ]
  },
  {
   "cell_type": "code",
   "execution_count": null,
   "id": "a2707df5",
   "metadata": {
    "colab": {
     "base_uri": "https://localhost:8080/"
    },
    "execution": {
     "iopub.execute_input": "2025-09-06T21:13:31.987626Z",
     "iopub.status.busy": "2025-09-06T21:13:31.987626Z",
     "iopub.status.idle": "2025-09-06T21:13:32.001627Z",
     "shell.execute_reply": "2025-09-06T21:13:32.000624Z"
    },
    "executionInfo": {
     "elapsed": 78,
     "status": "ok",
     "timestamp": 1756043835310,
     "user": {
      "displayName": "Scott Clement",
      "userId": "09077177954652264696"
     },
     "user_tz": 420
    },
    "id": "Zid8BBN3LT2A",
    "outputId": "1ebb7a64-e738-4d95-be31-b424fde56360"
   },
   "outputs": [],
   "source": [
    "# Print top and bottom products\n",
    "print(\"Top-performing products:\")\n",
    "print(product_revenue.sort_values(ascending=False).head(3))\n",
    "print(\"\\nLowest-performing products:\")\n",
    "print(product_revenue.sort_values(ascending=True).head(3))"
   ]
  },
  {
   "cell_type": "code",
   "execution_count": null,
   "id": "09888735",
   "metadata": {
    "execution": {
     "iopub.execute_input": "2025-09-06T21:13:32.003627Z",
     "iopub.status.busy": "2025-09-06T21:13:32.003627Z",
     "iopub.status.idle": "2025-09-06T21:13:32.016624Z",
     "shell.execute_reply": "2025-09-06T21:13:32.016624Z"
    }
   },
   "outputs": [],
   "source": [
    "\n",
    "# Save results for next notebook\n",
    "# save_intermediate_results(df_processed, 'processed_data.pkl', config)\n",
    "# save_intermediate_results(analysis_results, 'analysis_results.pkl', config)\n",
    "# print('✓ Results saved for next notebook')"
   ]
  },
  {
   "cell_type": "code",
   "execution_count": null,
   "id": "3810a8fc-2a91-406a-a7c2-df63fdd50da9",
   "metadata": {},
   "outputs": [],
   "source": []
  }
 ],
 "metadata": {
  "kernelspec": {
   "display_name": ".venv",
   "language": "python",
   "name": "python3"
  },
  "language_info": {
   "codemirror_mode": {
    "name": "ipython",
    "version": 3
   },
   "file_extension": ".py",
   "mimetype": "text/x-python",
   "name": "python",
   "nbconvert_exporter": "python",
   "pygments_lexer": "ipython3",
   "version": "3.10.11"
  }
 },
 "nbformat": 4,
 "nbformat_minor": 5
}
