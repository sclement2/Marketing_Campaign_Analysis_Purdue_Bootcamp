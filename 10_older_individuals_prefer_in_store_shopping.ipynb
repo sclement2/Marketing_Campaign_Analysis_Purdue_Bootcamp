{
 "cells": [
  {
   "cell_type": "markdown",
   "id": "90df499e",
   "metadata": {},
   "source": [
    "# Hypothesis Testing\n",
    "\n",
    "Section: a. Older individuals prefer in-store shopping\n",
    "\n",
    "**Part of:** [marketing_campaign_082825_working.ipynb](./marketing_campaign_082825_working.ipynb)"
   ]
  },
  {
   "cell_type": "code",
   "execution_count": null,
   "id": "a379b6cd",
   "metadata": {
    "execution": {
     "iopub.execute_input": "2025-09-06T21:12:44.707209Z",
     "iopub.status.busy": "2025-09-06T21:12:44.706209Z",
     "iopub.status.idle": "2025-09-06T21:12:46.402504Z",
     "shell.execute_reply": "2025-09-06T21:12:46.402504Z"
    }
   },
   "outputs": [],
   "source": [
    "# Setup and data loading\n",
    "from utils import (\n",
    "    ProjectConfig,\n",
    "    load_intermediate_results,\n",
    "    save_project_figure,\n",
    "    reset_plot_settings,\n",
    ")\n",
    "import seaborn as sns\n",
    "import matplotlib.pyplot as plt\n",
    "\n",
    "config = ProjectConfig()\n",
    "# Load data from previous notebook\n",
    "df = load_intermediate_results('data_from_08_step_6.pkl', config)\n"
   ]
  },
  {
   "cell_type": "markdown",
   "id": "be7768d4",
   "metadata": {
    "id": "c6WX5R4lezKn"
   },
   "source": [
    "## a. Older individuals prefer in-store shopping"
   ]
  },
  {
   "cell_type": "code",
   "execution_count": null,
   "id": "dc27aea2",
   "metadata": {
    "execution": {
     "iopub.execute_input": "2025-09-06T21:12:46.405505Z",
     "iopub.status.busy": "2025-09-06T21:12:46.405505Z",
     "iopub.status.idle": "2025-09-06T21:12:46.419503Z",
     "shell.execute_reply": "2025-09-06T21:12:46.418504Z"
    },
    "executionInfo": {
     "elapsed": 24,
     "status": "ok",
     "timestamp": 1756043830840,
     "user": {
      "displayName": "Scott Clement",
      "userId": "09077177954652264696"
     },
     "user_tz": 420
    },
    "id": "I89gTZreLT11"
   },
   "outputs": [],
   "source": [
    "# a. Older individuals prefer in-store shopping\n",
    "\n",
    "# Specify H₀ and H₁:\n",
    "# H₀: The distributions of NumStorePurchases for older and younger customers are\n",
    "#     identical (no difference in distribution).\n",
    "# H₁: The distributions of NumStorePurchases for older customers is stochastically\n",
    "#     greater (they tend to have higher values).\n",
    "\n",
    "# Normality and Test Choice:\n",
    "# •  Use the t-test if NumStorePurchases is approximately normally distributed.\n",
    "# •  Use the Mann-Whitney U test if the data is non-normal.\n",
    "\n",
    "# Interpreting Results:\n",
    "# •  P-value ≤ α (0.05): Reject H₀, concluding there is evidence that older customers have\n",
    "#    higher in-store purchases.\n",
    "# •  P-value > α: Fail to reject H₀, indicating insufficient evidence that older customers\n",
    "#    prefer in-store purchases."
   ]
  },
  {
   "cell_type": "code",
   "execution_count": null,
   "id": "04159b43",
   "metadata": {
    "execution": {
     "iopub.execute_input": "2025-09-06T21:12:46.421502Z",
     "iopub.status.busy": "2025-09-06T21:12:46.421502Z",
     "iopub.status.idle": "2025-09-06T21:12:46.435503Z",
     "shell.execute_reply": "2025-09-06T21:12:46.434501Z"
    },
    "executionInfo": {
     "elapsed": 52,
     "status": "ok",
     "timestamp": 1756043830948,
     "user": {
      "displayName": "Scott Clement",
      "userId": "09077177954652264696"
     },
     "user_tz": 420
    },
    "id": "M178rloiLT11"
   },
   "outputs": [],
   "source": [
    "# Split data\n",
    "older = df[df['Age'] >= df['Age'].median()]['NumStorePurchases']\n",
    "younger = df[df['Age'] < df['Age'].median()]['NumStorePurchases']\n",
    "df['Older'] = df['Age'] >= df['Age'].median()"
   ]
  },
  {
   "cell_type": "code",
   "execution_count": null,
   "id": "99750acf",
   "metadata": {
    "colab": {
     "base_uri": "https://localhost:8080/"
    },
    "execution": {
     "iopub.execute_input": "2025-09-06T21:12:46.437504Z",
     "iopub.status.busy": "2025-09-06T21:12:46.437504Z",
     "iopub.status.idle": "2025-09-06T21:12:46.498502Z",
     "shell.execute_reply": "2025-09-06T21:12:46.498502Z"
    },
    "executionInfo": {
     "elapsed": 84,
     "status": "ok",
     "timestamp": 1756043831103,
     "user": {
      "displayName": "Scott Clement",
      "userId": "09077177954652264696"
     },
     "user_tz": 420
    },
    "id": "l2ye0wFkLT11",
    "outputId": "86b9f32d-c689-4dbc-d947-2fcd98542a23"
   },
   "outputs": [],
   "source": [
    "# Normality check\n",
    "from scipy.stats import shapiro\n",
    "\n",
    "# Purpose:\n",
    "# •  Tests the null hypothesis (H₀) that the data from the groups is normally distributed.\n",
    "# •  Alternative hypothesis (H₁): The data is not normally distributed.\n",
    "\n",
    "for group, data in [(1, older), (0, younger)]:\n",
    "    stat, p = shapiro(data)\n",
    "    print(f\"Shapiro-Wilk Test for Older Individuals = {group}: p-value = {p:.4f}\")\n",
    "    if p < 0.05:\n",
    "        print(\"  p-value < 0.05: Reject H₀, data is not normally distributed.\")\n",
    "    else:\n",
    "        print(\"  p-value >= 0.05: Fail to reject H₀, data may be normally distributed.\")"
   ]
  },
  {
   "cell_type": "code",
   "execution_count": null,
   "id": "8b9be78c",
   "metadata": {
    "colab": {
     "base_uri": "https://localhost:8080/",
     "height": 0
    },
    "execution": {
     "iopub.execute_input": "2025-09-06T21:12:46.501502Z",
     "iopub.status.busy": "2025-09-06T21:12:46.500503Z",
     "iopub.status.idle": "2025-09-06T21:12:47.099512Z",
     "shell.execute_reply": "2025-09-06T21:12:47.098503Z"
    },
    "executionInfo": {
     "elapsed": 426,
     "status": "ok",
     "timestamp": 1756043831557,
     "user": {
      "displayName": "Scott Clement",
      "userId": "09077177954652264696"
     },
     "user_tz": 420
    },
    "id": "CpgeSchDLT11",
    "outputId": "d26d7439-3394-437a-e00f-64ef4c83a96c"
   },
   "outputs": [],
   "source": [
    "# Create a figure with two subplots side by side\n",
    "reset_plot_settings()\n",
    "\n",
    "fig, (ax1, ax2) = plt.subplots(1,2, figsize=(12,6), sharey=True)\n",
    "\n",
    "# Boxplot\n",
    "sns.boxplot(x='Older', y='NumStorePurchases', data=df, ax=ax1, hue='Older', legend=False)\n",
    "ax1.set_title(\"Box Plot of In-Store Purchases for Older Customers\")\n",
    "ax1.set_xlabel('Age')\n",
    "ax1.set_xticks([0,1], ['Younger', 'Older'])\n",
    "ax1.set_ylabel(\"Number of Store Purchases\")\n",
    "#ax1.set_ylim(-2,28)\n",
    "ax1.grid(True, axis='y', linestyle='--', alpha=0.7)\n",
    "\n",
    "# Violin Plot\n",
    "sns.violinplot(x='Older', data=df, y='NumStorePurchases', legend=False, ax=ax2, hue='Older')\n",
    "ax2.set_title(\"Violin Plot of In-Store Purchases for Older Customers\")\n",
    "ax2.set_xlabel('Age')\n",
    "ax2.set_xticks([0,1], ['Younger', 'Older'])\n",
    "ax2.grid(True, axis='y', linestyle='--', alpha=0.7)\n",
    "\n",
    "plt.tight_layout()\n",
    "save_project_figure(\n",
    "    \"Box_and_Violin_Plots_Older_Customers\",\n",
    "    \"Box and Violin Plots of In-Store Purchases for Older Customers\",\n",
    "    config,\n",
    ")\n",
    "plt.show()\n",
    "\n",
    "# Descriptive Statistics\n",
    "stats = df.groupby('Older')['NumStorePurchases'].agg(['mean','median','std','count'])\n",
    "print('\\nDescriptive Statistics')\n",
    "print(stats)\n",
    "\n",
    "# Shapiro-Wilk test and plots show data is not normally distributed so a non-parametric\n",
    "# test seems more appropriate"
   ]
  },
  {
   "cell_type": "code",
   "execution_count": null,
   "id": "3d77ba1c",
   "metadata": {
    "colab": {
     "base_uri": "https://localhost:8080/"
    },
    "execution": {
     "iopub.execute_input": "2025-09-06T21:12:47.101505Z",
     "iopub.status.busy": "2025-09-06T21:12:47.101505Z",
     "iopub.status.idle": "2025-09-06T21:12:47.115502Z",
     "shell.execute_reply": "2025-09-06T21:12:47.114503Z"
    },
    "executionInfo": {
     "elapsed": 91,
     "status": "ok",
     "timestamp": 1756043831571,
     "user": {
      "displayName": "Scott Clement",
      "userId": "09077177954652264696"
     },
     "user_tz": 420
    },
    "id": "yJyp3yiKLT15",
    "outputId": "9eedaa91-73e9-41e3-f9bd-b59ca2fa827c"
   },
   "outputs": [],
   "source": [
    "# Perform Mann-Whitney U Test (One-Tailed)\n",
    "\n",
    "# H₀: The distributions of NumStorePurchases for older and younger customers are\n",
    "#     identical (no difference in distribution).\n",
    "# H₁: The distributions of NumStorePurchases for older is stochastically\n",
    "#     greater (they tend to have higher values).\n",
    "from scipy.stats import mannwhitneyu\n",
    "\n",
    "stat, p_value = mannwhitneyu(older, younger, alternative='greater')\n",
    "print(f'Mann-Whitney U Test: statistic = {stat:.4f}, p-value = {p_value:.4f}')\n",
    "\n",
    "# Interpretation\n",
    "alpha = 0.05\n",
    "if p_value <= alpha:\n",
    "    print('Reject H₀: Older customer have higher in-store puchases')\n",
    "else:\n",
    "    print('Fail to reject H₀: No evidence that older customers have higher in-store purchases')"
   ]
  },
  {
   "cell_type": "code",
   "execution_count": null,
   "id": "de928444",
   "metadata": {
    "colab": {
     "base_uri": "https://localhost:8080/"
    },
    "execution": {
     "iopub.execute_input": "2025-09-06T21:12:47.117502Z",
     "iopub.status.busy": "2025-09-06T21:12:47.117502Z",
     "iopub.status.idle": "2025-09-06T21:12:47.130501Z",
     "shell.execute_reply": "2025-09-06T21:12:47.130501Z"
    },
    "executionInfo": {
     "elapsed": 70,
     "status": "ok",
     "timestamp": 1756043831573,
     "user": {
      "displayName": "Scott Clement",
      "userId": "09077177954652264696"
     },
     "user_tz": 420
    },
    "id": "OhjDcbvPLT16",
    "outputId": "f80b89c1-082e-4339-a55f-781a6ee8e765"
   },
   "outputs": [],
   "source": [
    "# Why a t-test may be ok\n",
    "# Large sample sizes (e.g., n > 30 or ideally n > 50 per group), due to the Central Limit Theorem (CLT).\n",
    "# The CLT states that the sampling distribution of the mean approaches normality as sample size increases,\n",
    "# even if the underlying data is non-normal.\n",
    "\n",
    "print(f\"Sample size for Older Customers:\\n{df['Older'].value_counts()}\")\n",
    "# Sample Size is Large: Both groups (Older = 1 and 0) have n > 50\n",
    "# the CLT helps ensure the t-test is robust."
   ]
  },
  {
   "cell_type": "code",
   "execution_count": null,
   "id": "31b44702",
   "metadata": {
    "colab": {
     "base_uri": "https://localhost:8080/"
    },
    "execution": {
     "iopub.execute_input": "2025-09-06T21:12:47.133503Z",
     "iopub.status.busy": "2025-09-06T21:12:47.132504Z",
     "iopub.status.idle": "2025-09-06T21:12:47.146505Z",
     "shell.execute_reply": "2025-09-06T21:12:47.145502Z"
    },
    "executionInfo": {
     "elapsed": 41,
     "status": "ok",
     "timestamp": 1756043831574,
     "user": {
      "displayName": "Scott Clement",
      "userId": "09077177954652264696"
     },
     "user_tz": 420
    },
    "id": "x851YYLyLT16",
    "outputId": "c19304c1-763d-4ae6-8e1a-3332e9fff29d"
   },
   "outputs": [],
   "source": [
    "# Perform Levene's test\n",
    "\n",
    "# Purpose:\n",
    "# •  Tests the null hypothesis (H₀) that the variances of the groups are equal.\n",
    "# •  Alternative hypothesis (H₁): The variances are not equal.\n",
    "\n",
    "# Variations of test:\n",
    "# •  Standard Levene’s Test: Uses the group mean for calculating deviations.\n",
    "# •  Modified Levene’s Test (Brown-Forsythe): Uses the group median instead of the mean,\n",
    "#    which is more robust to non-normal data.\n",
    "\n",
    "# Implications of test:\n",
    "# •  If Levene’s test indicates unequal variances (p-value ≤ 0.05), use Welch’s t-test to compare means.\n",
    "# •  If variances are equal, use the standard t-test.\n",
    "\n",
    "from scipy.stats import levene\n",
    "alpha = 0.05\n",
    "\n",
    "stat, p_levene = levene(older, younger, center='median')  # Use 'median' for Brown-Forsythe\n",
    "print(f\"Levene's Test: statistic = {stat:.4f}, p-value = {p_value:.4f}\")\n",
    "\n",
    "print(f\"{'Unequal variances' if p_levene < alpha else 'Equal variances'} (p {'<' if p_levene < alpha else '>='} {alpha})\")"
   ]
  },
  {
   "cell_type": "code",
   "execution_count": null,
   "id": "8de65aeb",
   "metadata": {
    "colab": {
     "base_uri": "https://localhost:8080/"
    },
    "execution": {
     "iopub.execute_input": "2025-09-06T21:12:47.148504Z",
     "iopub.status.busy": "2025-09-06T21:12:47.148504Z",
     "iopub.status.idle": "2025-09-06T21:12:47.161502Z",
     "shell.execute_reply": "2025-09-06T21:12:47.160504Z"
    },
    "executionInfo": {
     "elapsed": 22,
     "status": "ok",
     "timestamp": 1756043831597,
     "user": {
      "displayName": "Scott Clement",
      "userId": "09077177954652264696"
     },
     "user_tz": 420
    },
    "id": "Bs5MbdsZLT16",
    "outputId": "d02a5a2d-4ade-44cd-d4d9-8d3104862fa9"
   },
   "outputs": [],
   "source": [
    "# Unequal variances use Welch’s t-test to compare means\n",
    "# Run parametric Welch's t-test\n",
    "\n",
    "from scipy.stats import ttest_ind\n",
    "print(\"\\nWelch's t-Test (unequal variances):\")\n",
    "stat, p_welch = ttest_ind(older, younger, alternative='greater', equal_var=False)\n",
    "print(f\"Welch's t-test: statistic = {stat:.4f}, p-value = {p_welch:.4f}\")\n",
    "\n",
    "if p_welch <= alpha:\n",
    "    print('Reject H₀: Older customers have higher in-store puchases')\n",
    "else:\n",
    "    print('Fail to reject H₀: No evidence that older customers have higher in-store purchases')"
   ]
  },
  {
   "cell_type": "code",
   "execution_count": null,
   "id": "d026dc3a",
   "metadata": {
    "execution": {
     "iopub.execute_input": "2025-09-06T21:12:47.163502Z",
     "iopub.status.busy": "2025-09-06T21:12:47.163502Z",
     "iopub.status.idle": "2025-09-06T21:12:47.177503Z",
     "shell.execute_reply": "2025-09-06T21:12:47.176502Z"
    },
    "executionInfo": {
     "elapsed": 12,
     "status": "ok",
     "timestamp": 1756043831623,
     "user": {
      "displayName": "Scott Clement",
      "userId": "09077177954652264696"
     },
     "user_tz": 420
    },
    "id": "wYNEzDUYLT16"
   },
   "outputs": [],
   "source": [
    "# Conclusion\n",
    "# Both the parametric test (Welch's t-Test) and the non-parametric test (Mann-Whitney U Test)\n",
    "# reject H₀, meaning there is evidence that older customers have more in-store purchases"
   ]
  },
  {
   "cell_type": "code",
   "execution_count": null,
   "id": "49b4d0f3",
   "metadata": {
    "execution": {
     "iopub.execute_input": "2025-09-06T21:12:47.180502Z",
     "iopub.status.busy": "2025-09-06T21:12:47.179502Z",
     "iopub.status.idle": "2025-09-06T21:12:47.193503Z",
     "shell.execute_reply": "2025-09-06T21:12:47.192502Z"
    }
   },
   "outputs": [],
   "source": [
    "\n",
    "# Save results for next notebook\n",
    "# save_intermediate_results(df_processed, 'processed_data.pkl', config)\n",
    "# save_intermediate_results(analysis_results, 'analysis_results.pkl', config)\n",
    "# print('✓ Results saved for next notebook')"
   ]
  }
 ],
 "metadata": {
  "kernelspec": {
   "display_name": ".venv",
   "language": "python",
   "name": "python3"
  },
  "language_info": {
   "codemirror_mode": {
    "name": "ipython",
    "version": 3
   },
   "file_extension": ".py",
   "mimetype": "text/x-python",
   "name": "python",
   "nbconvert_exporter": "python",
   "pygments_lexer": "ipython3",
   "version": "3.10.11"
  }
 },
 "nbformat": 4,
 "nbformat_minor": 4
}